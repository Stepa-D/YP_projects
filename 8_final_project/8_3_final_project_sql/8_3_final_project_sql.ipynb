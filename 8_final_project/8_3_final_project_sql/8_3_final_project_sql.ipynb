{
 "cells": [
  {
   "cell_type": "markdown",
   "metadata": {},
   "source": [
    "# Проект по SQL\n",
    "Коронавирус застал мир врасплох, изменив привычный порядок вещей. В свободное время жители городов больше не выходят на улицу, не посещают кафе и торговые центры. Зато стало больше времени для книг. Это заметили стартаперы — и бросились создавать приложения для тех, кто любит читать.\n",
    "\n",
    "Наша компания решила быть на волне и купила крупный сервис для чтения книг по подписке. Наша первая задача как аналитика — проанализировать базу данных.\\\n",
    "В ней — информация о книгах, издательствах, авторах, а также пользовательские обзоры книг. Эти данные помогут сформулировать ценностное предложение для нового продукта.\n",
    "\n",
    "**Цели исследования**\n",
    "\n",
    "1. Определить количество книг, выпущенных после 1 января 2000 года, чтобы понять объем литературного контента, доступного в сервисе.\n",
    "2. Рассчитать количество обзоров и среднюю оценку для каждой книги, чтобы оценить их популярность среди пользователей.\n",
    "3. Идентифицировать издательство, которое выпустило наибольшее количество книг, толщиной более 50 страниц, чтобы определить влиятельных партнеров и исключить неподходящие форматы (например, брошюры).\n",
    "4. Определить автора с самой высокой средней оценкой книг, учитывая только книги с 50 и более оценками, чтобы выявить наиболее успешных авторов среди пользователей.\n",
    "5. Рассчитать среднее количество обзоров от пользователей, которые поставили более 48 оценок, чтобы оценить активность и вовлеченность этой группы пользователей.\n",
    "\n",
    "Результаты анализа помогут сформулировать ценностное предложение для нового продукта, а также определить наиболее популярные книги, авторов и издательства, которые могут быть привлекательными для пользователей сервиса."
   ]
  },
  {
   "cell_type": "markdown",
   "metadata": {},
   "source": [
    "## Импорт библиотек, подключение к СУБД и знакомство с данными"
   ]
  },
  {
   "cell_type": "code",
   "execution_count": 1,
   "metadata": {},
   "outputs": [],
   "source": [
    "# импортируем библиотеки\n",
    "import pandas as pd\n",
    "from sqlalchemy import text, create_engine"
   ]
  },
  {
   "cell_type": "code",
   "execution_count": 2,
   "metadata": {},
   "outputs": [
    {
     "data": {
      "text/html": [
       "<div>\n",
       "<style scoped>\n",
       "    .dataframe tbody tr th:only-of-type {\n",
       "        vertical-align: middle;\n",
       "    }\n",
       "\n",
       "    .dataframe tbody tr th {\n",
       "        vertical-align: top;\n",
       "    }\n",
       "\n",
       "    .dataframe thead th {\n",
       "        text-align: right;\n",
       "    }\n",
       "</style>\n",
       "<table border=\"1\" class=\"dataframe\">\n",
       "  <thead>\n",
       "    <tr style=\"text-align: right;\">\n",
       "      <th></th>\n",
       "      <th>book_id</th>\n",
       "      <th>author_id</th>\n",
       "      <th>title</th>\n",
       "      <th>num_pages</th>\n",
       "      <th>publication_date</th>\n",
       "      <th>publisher_id</th>\n",
       "    </tr>\n",
       "  </thead>\n",
       "  <tbody>\n",
       "    <tr>\n",
       "      <th>0</th>\n",
       "      <td>1</td>\n",
       "      <td>546</td>\n",
       "      <td>'Salem's Lot</td>\n",
       "      <td>594</td>\n",
       "      <td>2005-11-01</td>\n",
       "      <td>93</td>\n",
       "    </tr>\n",
       "    <tr>\n",
       "      <th>1</th>\n",
       "      <td>2</td>\n",
       "      <td>465</td>\n",
       "      <td>1 000 Places to See Before You Die</td>\n",
       "      <td>992</td>\n",
       "      <td>2003-05-22</td>\n",
       "      <td>336</td>\n",
       "    </tr>\n",
       "    <tr>\n",
       "      <th>2</th>\n",
       "      <td>3</td>\n",
       "      <td>407</td>\n",
       "      <td>13 Little Blue Envelopes (Little Blue Envelope...</td>\n",
       "      <td>322</td>\n",
       "      <td>2010-12-21</td>\n",
       "      <td>135</td>\n",
       "    </tr>\n",
       "    <tr>\n",
       "      <th>3</th>\n",
       "      <td>4</td>\n",
       "      <td>82</td>\n",
       "      <td>1491: New Revelations of the Americas Before C...</td>\n",
       "      <td>541</td>\n",
       "      <td>2006-10-10</td>\n",
       "      <td>309</td>\n",
       "    </tr>\n",
       "    <tr>\n",
       "      <th>4</th>\n",
       "      <td>5</td>\n",
       "      <td>125</td>\n",
       "      <td>1776</td>\n",
       "      <td>386</td>\n",
       "      <td>2006-07-04</td>\n",
       "      <td>268</td>\n",
       "    </tr>\n",
       "  </tbody>\n",
       "</table>\n",
       "</div>"
      ],
      "text/plain": [
       "   book_id  author_id                                              title  \\\n",
       "0        1        546                                       'Salem's Lot   \n",
       "1        2        465                 1 000 Places to See Before You Die   \n",
       "2        3        407  13 Little Blue Envelopes (Little Blue Envelope...   \n",
       "3        4         82  1491: New Revelations of the Americas Before C...   \n",
       "4        5        125                                               1776   \n",
       "\n",
       "   num_pages publication_date  publisher_id  \n",
       "0        594       2005-11-01            93  \n",
       "1        992       2003-05-22           336  \n",
       "2        322       2010-12-21           135  \n",
       "3        541       2006-10-10           309  \n",
       "4        386       2006-07-04           268  "
      ]
     },
     "execution_count": 2,
     "metadata": {},
     "output_type": "execute_result"
    }
   ],
   "source": [
    "# устанавливаем параметры\n",
    "db_config = {'user': '11111', # имя пользователя\n",
    "'pwd': '22222', # пароль\n",
    "'host': 'blablabla.com',\n",
    "'port': 6432, # порт подключения\n",
    "'db': 'data-analyst-final-project-db'} # название базы данных\n",
    "connection_string = 'postgresql://{user}:{pwd}@{host}:{port}/{db}'.format(**db_config)\n",
    "\n",
    "# сохраняем коннектор\n",
    "engine = create_engine(connection_string, connect_args={'sslmode':'require'})\n",
    "\n",
    "# чтобы выполнить SQL-запрос, используем Pandas\n",
    "query = '''SELECT * FROM books LIMIT 5'''\n",
    "\n",
    "con=engine.connect()\n",
    "\n",
    "pd.io.sql.read_sql(sql=text(query), con = con)"
   ]
  },
  {
   "cell_type": "code",
   "execution_count": 3,
   "metadata": {},
   "outputs": [
    {
     "data": {
      "text/html": [
       "<div>\n",
       "<style scoped>\n",
       "    .dataframe tbody tr th:only-of-type {\n",
       "        vertical-align: middle;\n",
       "    }\n",
       "\n",
       "    .dataframe tbody tr th {\n",
       "        vertical-align: top;\n",
       "    }\n",
       "\n",
       "    .dataframe thead th {\n",
       "        text-align: right;\n",
       "    }\n",
       "</style>\n",
       "<table border=\"1\" class=\"dataframe\">\n",
       "  <thead>\n",
       "    <tr style=\"text-align: right;\">\n",
       "      <th></th>\n",
       "      <th>author_id</th>\n",
       "      <th>author</th>\n",
       "    </tr>\n",
       "  </thead>\n",
       "  <tbody>\n",
       "    <tr>\n",
       "      <th>0</th>\n",
       "      <td>1</td>\n",
       "      <td>A.S. Byatt</td>\n",
       "    </tr>\n",
       "    <tr>\n",
       "      <th>1</th>\n",
       "      <td>2</td>\n",
       "      <td>Aesop/Laura Harris/Laura Gibbs</td>\n",
       "    </tr>\n",
       "    <tr>\n",
       "      <th>2</th>\n",
       "      <td>3</td>\n",
       "      <td>Agatha Christie</td>\n",
       "    </tr>\n",
       "    <tr>\n",
       "      <th>3</th>\n",
       "      <td>4</td>\n",
       "      <td>Alan Brennert</td>\n",
       "    </tr>\n",
       "    <tr>\n",
       "      <th>4</th>\n",
       "      <td>5</td>\n",
       "      <td>Alan Moore/David   Lloyd</td>\n",
       "    </tr>\n",
       "  </tbody>\n",
       "</table>\n",
       "</div>"
      ],
      "text/plain": [
       "   author_id                          author\n",
       "0          1                      A.S. Byatt\n",
       "1          2  Aesop/Laura Harris/Laura Gibbs\n",
       "2          3                 Agatha Christie\n",
       "3          4                   Alan Brennert\n",
       "4          5        Alan Moore/David   Lloyd"
      ]
     },
     "execution_count": 3,
     "metadata": {},
     "output_type": "execute_result"
    }
   ],
   "source": [
    "query = '''SELECT * FROM authors LIMIT 5'''\n",
    "\n",
    "pd.io.sql.read_sql(sql=text(query), con = con)"
   ]
  },
  {
   "cell_type": "code",
   "execution_count": 4,
   "metadata": {},
   "outputs": [
    {
     "data": {
      "text/html": [
       "<div>\n",
       "<style scoped>\n",
       "    .dataframe tbody tr th:only-of-type {\n",
       "        vertical-align: middle;\n",
       "    }\n",
       "\n",
       "    .dataframe tbody tr th {\n",
       "        vertical-align: top;\n",
       "    }\n",
       "\n",
       "    .dataframe thead th {\n",
       "        text-align: right;\n",
       "    }\n",
       "</style>\n",
       "<table border=\"1\" class=\"dataframe\">\n",
       "  <thead>\n",
       "    <tr style=\"text-align: right;\">\n",
       "      <th></th>\n",
       "      <th>publisher_id</th>\n",
       "      <th>publisher</th>\n",
       "    </tr>\n",
       "  </thead>\n",
       "  <tbody>\n",
       "    <tr>\n",
       "      <th>0</th>\n",
       "      <td>1</td>\n",
       "      <td>Ace</td>\n",
       "    </tr>\n",
       "    <tr>\n",
       "      <th>1</th>\n",
       "      <td>2</td>\n",
       "      <td>Ace Book</td>\n",
       "    </tr>\n",
       "    <tr>\n",
       "      <th>2</th>\n",
       "      <td>3</td>\n",
       "      <td>Ace Books</td>\n",
       "    </tr>\n",
       "    <tr>\n",
       "      <th>3</th>\n",
       "      <td>4</td>\n",
       "      <td>Ace Hardcover</td>\n",
       "    </tr>\n",
       "    <tr>\n",
       "      <th>4</th>\n",
       "      <td>5</td>\n",
       "      <td>Addison Wesley Publishing Company</td>\n",
       "    </tr>\n",
       "  </tbody>\n",
       "</table>\n",
       "</div>"
      ],
      "text/plain": [
       "   publisher_id                          publisher\n",
       "0             1                                Ace\n",
       "1             2                           Ace Book\n",
       "2             3                          Ace Books\n",
       "3             4                      Ace Hardcover\n",
       "4             5  Addison Wesley Publishing Company"
      ]
     },
     "execution_count": 4,
     "metadata": {},
     "output_type": "execute_result"
    }
   ],
   "source": [
    "query = '''SELECT * FROM publishers LIMIT 5'''\n",
    "\n",
    "pd.io.sql.read_sql(sql=text(query), con = con)"
   ]
  },
  {
   "cell_type": "code",
   "execution_count": 5,
   "metadata": {},
   "outputs": [
    {
     "data": {
      "text/html": [
       "<div>\n",
       "<style scoped>\n",
       "    .dataframe tbody tr th:only-of-type {\n",
       "        vertical-align: middle;\n",
       "    }\n",
       "\n",
       "    .dataframe tbody tr th {\n",
       "        vertical-align: top;\n",
       "    }\n",
       "\n",
       "    .dataframe thead th {\n",
       "        text-align: right;\n",
       "    }\n",
       "</style>\n",
       "<table border=\"1\" class=\"dataframe\">\n",
       "  <thead>\n",
       "    <tr style=\"text-align: right;\">\n",
       "      <th></th>\n",
       "      <th>rating_id</th>\n",
       "      <th>book_id</th>\n",
       "      <th>username</th>\n",
       "      <th>rating</th>\n",
       "    </tr>\n",
       "  </thead>\n",
       "  <tbody>\n",
       "    <tr>\n",
       "      <th>0</th>\n",
       "      <td>1</td>\n",
       "      <td>1</td>\n",
       "      <td>ryanfranco</td>\n",
       "      <td>4</td>\n",
       "    </tr>\n",
       "    <tr>\n",
       "      <th>1</th>\n",
       "      <td>2</td>\n",
       "      <td>1</td>\n",
       "      <td>grantpatricia</td>\n",
       "      <td>2</td>\n",
       "    </tr>\n",
       "    <tr>\n",
       "      <th>2</th>\n",
       "      <td>3</td>\n",
       "      <td>1</td>\n",
       "      <td>brandtandrea</td>\n",
       "      <td>5</td>\n",
       "    </tr>\n",
       "    <tr>\n",
       "      <th>3</th>\n",
       "      <td>4</td>\n",
       "      <td>2</td>\n",
       "      <td>lorichen</td>\n",
       "      <td>3</td>\n",
       "    </tr>\n",
       "    <tr>\n",
       "      <th>4</th>\n",
       "      <td>5</td>\n",
       "      <td>2</td>\n",
       "      <td>mariokeller</td>\n",
       "      <td>2</td>\n",
       "    </tr>\n",
       "  </tbody>\n",
       "</table>\n",
       "</div>"
      ],
      "text/plain": [
       "   rating_id  book_id       username  rating\n",
       "0          1        1     ryanfranco       4\n",
       "1          2        1  grantpatricia       2\n",
       "2          3        1   brandtandrea       5\n",
       "3          4        2       lorichen       3\n",
       "4          5        2    mariokeller       2"
      ]
     },
     "execution_count": 5,
     "metadata": {},
     "output_type": "execute_result"
    }
   ],
   "source": [
    "query = '''SELECT * FROM ratings LIMIT 5'''\n",
    "\n",
    "pd.io.sql.read_sql(sql=text(query), con = con)"
   ]
  },
  {
   "cell_type": "code",
   "execution_count": 6,
   "metadata": {},
   "outputs": [
    {
     "data": {
      "text/html": [
       "<div>\n",
       "<style scoped>\n",
       "    .dataframe tbody tr th:only-of-type {\n",
       "        vertical-align: middle;\n",
       "    }\n",
       "\n",
       "    .dataframe tbody tr th {\n",
       "        vertical-align: top;\n",
       "    }\n",
       "\n",
       "    .dataframe thead th {\n",
       "        text-align: right;\n",
       "    }\n",
       "</style>\n",
       "<table border=\"1\" class=\"dataframe\">\n",
       "  <thead>\n",
       "    <tr style=\"text-align: right;\">\n",
       "      <th></th>\n",
       "      <th>review_id</th>\n",
       "      <th>book_id</th>\n",
       "      <th>username</th>\n",
       "      <th>text</th>\n",
       "    </tr>\n",
       "  </thead>\n",
       "  <tbody>\n",
       "    <tr>\n",
       "      <th>0</th>\n",
       "      <td>1</td>\n",
       "      <td>1</td>\n",
       "      <td>brandtandrea</td>\n",
       "      <td>Mention society tell send professor analysis. ...</td>\n",
       "    </tr>\n",
       "    <tr>\n",
       "      <th>1</th>\n",
       "      <td>2</td>\n",
       "      <td>1</td>\n",
       "      <td>ryanfranco</td>\n",
       "      <td>Foot glass pretty audience hit themselves. Amo...</td>\n",
       "    </tr>\n",
       "    <tr>\n",
       "      <th>2</th>\n",
       "      <td>3</td>\n",
       "      <td>2</td>\n",
       "      <td>lorichen</td>\n",
       "      <td>Listen treat keep worry. Miss husband tax but ...</td>\n",
       "    </tr>\n",
       "    <tr>\n",
       "      <th>3</th>\n",
       "      <td>4</td>\n",
       "      <td>3</td>\n",
       "      <td>johnsonamanda</td>\n",
       "      <td>Finally month interesting blue could nature cu...</td>\n",
       "    </tr>\n",
       "    <tr>\n",
       "      <th>4</th>\n",
       "      <td>5</td>\n",
       "      <td>3</td>\n",
       "      <td>scotttamara</td>\n",
       "      <td>Nation purpose heavy give wait song will. List...</td>\n",
       "    </tr>\n",
       "  </tbody>\n",
       "</table>\n",
       "</div>"
      ],
      "text/plain": [
       "   review_id  book_id       username  \\\n",
       "0          1        1   brandtandrea   \n",
       "1          2        1     ryanfranco   \n",
       "2          3        2       lorichen   \n",
       "3          4        3  johnsonamanda   \n",
       "4          5        3    scotttamara   \n",
       "\n",
       "                                                text  \n",
       "0  Mention society tell send professor analysis. ...  \n",
       "1  Foot glass pretty audience hit themselves. Amo...  \n",
       "2  Listen treat keep worry. Miss husband tax but ...  \n",
       "3  Finally month interesting blue could nature cu...  \n",
       "4  Nation purpose heavy give wait song will. List...  "
      ]
     },
     "execution_count": 6,
     "metadata": {},
     "output_type": "execute_result"
    }
   ],
   "source": [
    "query = '''SELECT * FROM reviews LIMIT 5'''\n",
    "\n",
    "pd.io.sql.read_sql(sql=text(query), con = con)"
   ]
  },
  {
   "cell_type": "markdown",
   "metadata": {},
   "source": [
    "**Схема данных**"
   ]
  },
  {
   "cell_type": "markdown",
   "metadata": {},
   "source": [
    "![Схема данных](https://pictures.s3.yandex.net/resources/scheme_1589269096.png)"
   ]
  },
  {
   "cell_type": "markdown",
   "metadata": {},
   "source": [
    "**Описание данных**\n",
    "\n",
    "**Таблица `books`**\\\n",
    "Содержит данные о книгах:\n",
    "- `book_id` — идентификатор книги;\n",
    "- `author_id` — идентификатор автора;\n",
    "- `title` — название книги;\n",
    "- `num_pages` — количество страниц;\n",
    "- `publication_date` — дата публикации книги;\n",
    "- `publisher_id` — идентификатор издателя.\n",
    "\n",
    "**Таблица `authors`**\\\n",
    "Содержит данные об авторах:\n",
    "- `author_id` — идентификатор автора;\n",
    "- `author` — имя автора.\n",
    "\n",
    "**Таблица `publishers`**\\\n",
    "Содержит данные об издательствах:\n",
    "- `publisher_id` — идентификатор издательства;\n",
    "- `publisher` — название издательства;\n",
    "\n",
    "**Таблица `ratings`**\\\n",
    "Содержит данные о пользовательских оценках книг:\n",
    "- `rating_id` — идентификатор оценки;\n",
    "- `book_id` — идентификатор книги;\n",
    "- `username` — имя пользователя, оставившего оценку;\n",
    "- `rating` — оценка книги.\n",
    "\n",
    "**Таблица `reviews`**\\\n",
    "Содержит данные о пользовательских обзорах:\n",
    "- `review_id` — идентификатор обзора;\n",
    "- `book_id` — идентификатор книги;\n",
    "- `username` — имя автора обзора;\n",
    "- `text` — текст обзора."
   ]
  },
  {
   "cell_type": "markdown",
   "metadata": {},
   "source": [
    "## Анализ БД\n",
    "### Количество книг, выпущенных после 1 января 2000 года"
   ]
  },
  {
   "cell_type": "code",
   "execution_count": 7,
   "metadata": {},
   "outputs": [
    {
     "data": {
      "text/html": [
       "<div>\n",
       "<style scoped>\n",
       "    .dataframe tbody tr th:only-of-type {\n",
       "        vertical-align: middle;\n",
       "    }\n",
       "\n",
       "    .dataframe tbody tr th {\n",
       "        vertical-align: top;\n",
       "    }\n",
       "\n",
       "    .dataframe thead th {\n",
       "        text-align: right;\n",
       "    }\n",
       "</style>\n",
       "<table border=\"1\" class=\"dataframe\">\n",
       "  <thead>\n",
       "    <tr style=\"text-align: right;\">\n",
       "      <th></th>\n",
       "      <th>book_count</th>\n",
       "    </tr>\n",
       "  </thead>\n",
       "  <tbody>\n",
       "    <tr>\n",
       "      <th>0</th>\n",
       "      <td>819</td>\n",
       "    </tr>\n",
       "  </tbody>\n",
       "</table>\n",
       "</div>"
      ],
      "text/plain": [
       "   book_count\n",
       "0         819"
      ]
     },
     "execution_count": 7,
     "metadata": {},
     "output_type": "execute_result"
    }
   ],
   "source": [
    "query = '''SELECT COUNT(*) AS book_count\n",
    "FROM books\n",
    "WHERE publication_date > '2000-01-01';\n",
    "'''\n",
    "\n",
    "pd.io.sql.read_sql(sql=text(query), con = con)"
   ]
  },
  {
   "cell_type": "markdown",
   "metadata": {},
   "source": [
    "После 1 января 2000 года было выпущено 819 книг."
   ]
  },
  {
   "cell_type": "markdown",
   "metadata": {},
   "source": [
    "### Количество обзоров и средняя оценка для каждой книги"
   ]
  },
  {
   "cell_type": "code",
   "execution_count": 11,
   "metadata": {},
   "outputs": [
    {
     "data": {
      "text/html": [
       "<div>\n",
       "<style scoped>\n",
       "    .dataframe tbody tr th:only-of-type {\n",
       "        vertical-align: middle;\n",
       "    }\n",
       "\n",
       "    .dataframe tbody tr th {\n",
       "        vertical-align: top;\n",
       "    }\n",
       "\n",
       "    .dataframe thead th {\n",
       "        text-align: right;\n",
       "    }\n",
       "</style>\n",
       "<table border=\"1\" class=\"dataframe\">\n",
       "  <thead>\n",
       "    <tr style=\"text-align: right;\">\n",
       "      <th></th>\n",
       "      <th>book_id</th>\n",
       "      <th>title</th>\n",
       "      <th>review_count</th>\n",
       "      <th>average_rating</th>\n",
       "    </tr>\n",
       "  </thead>\n",
       "  <tbody>\n",
       "    <tr>\n",
       "      <th>0</th>\n",
       "      <td>948</td>\n",
       "      <td>Twilight (Twilight  #1)</td>\n",
       "      <td>7</td>\n",
       "      <td>3.662500</td>\n",
       "    </tr>\n",
       "    <tr>\n",
       "      <th>1</th>\n",
       "      <td>963</td>\n",
       "      <td>Water for Elephants</td>\n",
       "      <td>6</td>\n",
       "      <td>3.977273</td>\n",
       "    </tr>\n",
       "    <tr>\n",
       "      <th>2</th>\n",
       "      <td>734</td>\n",
       "      <td>The Glass Castle</td>\n",
       "      <td>6</td>\n",
       "      <td>4.206897</td>\n",
       "    </tr>\n",
       "    <tr>\n",
       "      <th>3</th>\n",
       "      <td>302</td>\n",
       "      <td>Harry Potter and the Prisoner of Azkaban (Harr...</td>\n",
       "      <td>6</td>\n",
       "      <td>4.414634</td>\n",
       "    </tr>\n",
       "    <tr>\n",
       "      <th>4</th>\n",
       "      <td>695</td>\n",
       "      <td>The Curious Incident of the Dog in the Night-Time</td>\n",
       "      <td>6</td>\n",
       "      <td>4.081081</td>\n",
       "    </tr>\n",
       "    <tr>\n",
       "      <th>...</th>\n",
       "      <td>...</td>\n",
       "      <td>...</td>\n",
       "      <td>...</td>\n",
       "      <td>...</td>\n",
       "    </tr>\n",
       "    <tr>\n",
       "      <th>995</th>\n",
       "      <td>83</td>\n",
       "      <td>Anne Rice's The Vampire Lestat: A Graphic Novel</td>\n",
       "      <td>0</td>\n",
       "      <td>3.666667</td>\n",
       "    </tr>\n",
       "    <tr>\n",
       "      <th>996</th>\n",
       "      <td>808</td>\n",
       "      <td>The Natural Way to Draw</td>\n",
       "      <td>0</td>\n",
       "      <td>3.000000</td>\n",
       "    </tr>\n",
       "    <tr>\n",
       "      <th>997</th>\n",
       "      <td>672</td>\n",
       "      <td>The Cat in the Hat and Other Dr. Seuss Favorites</td>\n",
       "      <td>0</td>\n",
       "      <td>5.000000</td>\n",
       "    </tr>\n",
       "    <tr>\n",
       "      <th>998</th>\n",
       "      <td>221</td>\n",
       "      <td>Essential Tales and Poems</td>\n",
       "      <td>0</td>\n",
       "      <td>4.000000</td>\n",
       "    </tr>\n",
       "    <tr>\n",
       "      <th>999</th>\n",
       "      <td>191</td>\n",
       "      <td>Disney's Beauty and the Beast (A Little Golden...</td>\n",
       "      <td>0</td>\n",
       "      <td>4.000000</td>\n",
       "    </tr>\n",
       "  </tbody>\n",
       "</table>\n",
       "<p>1000 rows × 4 columns</p>\n",
       "</div>"
      ],
      "text/plain": [
       "     book_id                                              title  review_count  \\\n",
       "0        948                            Twilight (Twilight  #1)             7   \n",
       "1        963                                Water for Elephants             6   \n",
       "2        734                                   The Glass Castle             6   \n",
       "3        302  Harry Potter and the Prisoner of Azkaban (Harr...             6   \n",
       "4        695  The Curious Incident of the Dog in the Night-Time             6   \n",
       "..       ...                                                ...           ...   \n",
       "995       83    Anne Rice's The Vampire Lestat: A Graphic Novel             0   \n",
       "996      808                            The Natural Way to Draw             0   \n",
       "997      672   The Cat in the Hat and Other Dr. Seuss Favorites             0   \n",
       "998      221                          Essential Tales and Poems             0   \n",
       "999      191  Disney's Beauty and the Beast (A Little Golden...             0   \n",
       "\n",
       "     average_rating  \n",
       "0          3.662500  \n",
       "1          3.977273  \n",
       "2          4.206897  \n",
       "3          4.414634  \n",
       "4          4.081081  \n",
       "..              ...  \n",
       "995        3.666667  \n",
       "996        3.000000  \n",
       "997        5.000000  \n",
       "998        4.000000  \n",
       "999        4.000000  \n",
       "\n",
       "[1000 rows x 4 columns]"
      ]
     },
     "execution_count": 11,
     "metadata": {},
     "output_type": "execute_result"
    }
   ],
   "source": [
    "query = '''SELECT\n",
    "  b.book_id,\n",
    "  b.title,\n",
    "  (\n",
    "    SELECT COUNT(*)\n",
    "    FROM reviews r\n",
    "    WHERE r.book_id = b.book_id\n",
    "  ) AS review_count,\n",
    "  (\n",
    "    SELECT AVG(ra.rating)\n",
    "    FROM ratings ra\n",
    "    WHERE ra.book_id = b.book_id\n",
    "  ) AS average_rating\n",
    "FROM books b\n",
    "ORDER BY review_count DESC;\n",
    "'''\n",
    "\n",
    "pd.io.sql.read_sql(sql=text(query), con = engine)"
   ]
  },
  {
   "cell_type": "markdown",
   "metadata": {},
   "source": [
    "Самое большое количество обзоров сделали для книги `Twilight (Twilight #1)`."
   ]
  },
  {
   "cell_type": "markdown",
   "metadata": {},
   "source": [
    "### Издательство, которое выпустило наибольшее количество книг, толщиной более 50 страниц"
   ]
  },
  {
   "cell_type": "code",
   "execution_count": 13,
   "metadata": {},
   "outputs": [
    {
     "data": {
      "text/html": [
       "<div>\n",
       "<style scoped>\n",
       "    .dataframe tbody tr th:only-of-type {\n",
       "        vertical-align: middle;\n",
       "    }\n",
       "\n",
       "    .dataframe tbody tr th {\n",
       "        vertical-align: top;\n",
       "    }\n",
       "\n",
       "    .dataframe thead th {\n",
       "        text-align: right;\n",
       "    }\n",
       "</style>\n",
       "<table border=\"1\" class=\"dataframe\">\n",
       "  <thead>\n",
       "    <tr style=\"text-align: right;\">\n",
       "      <th></th>\n",
       "      <th>publisher_id</th>\n",
       "      <th>publisher</th>\n",
       "      <th>book_count</th>\n",
       "    </tr>\n",
       "  </thead>\n",
       "  <tbody>\n",
       "    <tr>\n",
       "      <th>0</th>\n",
       "      <td>212</td>\n",
       "      <td>Penguin Books</td>\n",
       "      <td>42</td>\n",
       "    </tr>\n",
       "  </tbody>\n",
       "</table>\n",
       "</div>"
      ],
      "text/plain": [
       "   publisher_id      publisher  book_count\n",
       "0           212  Penguin Books          42"
      ]
     },
     "execution_count": 13,
     "metadata": {},
     "output_type": "execute_result"
    }
   ],
   "source": [
    "query = '''SELECT p.publisher_id, p.publisher, COUNT(*) AS book_count\n",
    "FROM books b\n",
    "JOIN publishers p ON b.publisher_id = p.publisher_id\n",
    "WHERE b.num_pages > 50\n",
    "GROUP BY p.publisher_id, p.publisher\n",
    "ORDER BY book_count DESC\n",
    "LIMIT 1;\n",
    "'''\n",
    "\n",
    "pd.io.sql.read_sql(sql=text(query), con = con)"
   ]
  },
  {
   "cell_type": "markdown",
   "metadata": {},
   "source": [
    "Наибольшее количество книг, толщиной более 50 страниц было выпущено издательством `Penguin Books`."
   ]
  },
  {
   "cell_type": "markdown",
   "metadata": {},
   "source": [
    "### Автор с самой высокой средней оценкой книг (учитывая только книги с 50 и более оценками)"
   ]
  },
  {
   "cell_type": "code",
   "execution_count": 14,
   "metadata": {},
   "outputs": [
    {
     "data": {
      "text/html": [
       "<div>\n",
       "<style scoped>\n",
       "    .dataframe tbody tr th:only-of-type {\n",
       "        vertical-align: middle;\n",
       "    }\n",
       "\n",
       "    .dataframe tbody tr th {\n",
       "        vertical-align: top;\n",
       "    }\n",
       "\n",
       "    .dataframe thead th {\n",
       "        text-align: right;\n",
       "    }\n",
       "</style>\n",
       "<table border=\"1\" class=\"dataframe\">\n",
       "  <thead>\n",
       "    <tr style=\"text-align: right;\">\n",
       "      <th></th>\n",
       "      <th>author_id</th>\n",
       "      <th>author</th>\n",
       "      <th>average_rating</th>\n",
       "    </tr>\n",
       "  </thead>\n",
       "  <tbody>\n",
       "    <tr>\n",
       "      <th>0</th>\n",
       "      <td>236</td>\n",
       "      <td>J.K. Rowling/Mary GrandPré</td>\n",
       "      <td>4.283844</td>\n",
       "    </tr>\n",
       "  </tbody>\n",
       "</table>\n",
       "</div>"
      ],
      "text/plain": [
       "   author_id                      author  average_rating\n",
       "0        236  J.K. Rowling/Mary GrandPré        4.283844"
      ]
     },
     "execution_count": 14,
     "metadata": {},
     "output_type": "execute_result"
    }
   ],
   "source": [
    "query = '''SELECT a.author_id, a.author, AVG(rating) AS average_rating\n",
    "FROM books b\n",
    "JOIN authors a ON b.author_id = a.author_id\n",
    "JOIN (\n",
    "    SELECT book_id, AVG(rating) AS rating\n",
    "    FROM ratings\n",
    "    GROUP BY book_id\n",
    "    HAVING COUNT(*) >= 50\n",
    ") AS subquery ON b.book_id = subquery.book_id\n",
    "GROUP BY a.author_id, a.author\n",
    "ORDER BY average_rating DESC\n",
    "LIMIT 1;\n",
    "'''\n",
    "pd.io.sql.read_sql(sql=text(query), con = engine)"
   ]
  },
  {
   "cell_type": "markdown",
   "metadata": {},
   "source": [
    "Самая высокая средняя оценка книг у автора `J.K. Rowling/Mary GrandPré`."
   ]
  },
  {
   "cell_type": "markdown",
   "metadata": {},
   "source": [
    "### Среднее количество обзоров от пользователей, которые поставили более 48 оценок"
   ]
  },
  {
   "cell_type": "code",
   "execution_count": 15,
   "metadata": {},
   "outputs": [
    {
     "data": {
      "text/html": [
       "<div>\n",
       "<style scoped>\n",
       "    .dataframe tbody tr th:only-of-type {\n",
       "        vertical-align: middle;\n",
       "    }\n",
       "\n",
       "    .dataframe tbody tr th {\n",
       "        vertical-align: top;\n",
       "    }\n",
       "\n",
       "    .dataframe thead th {\n",
       "        text-align: right;\n",
       "    }\n",
       "</style>\n",
       "<table border=\"1\" class=\"dataframe\">\n",
       "  <thead>\n",
       "    <tr style=\"text-align: right;\">\n",
       "      <th></th>\n",
       "      <th>average_review_count</th>\n",
       "    </tr>\n",
       "  </thead>\n",
       "  <tbody>\n",
       "    <tr>\n",
       "      <th>0</th>\n",
       "      <td>24.0</td>\n",
       "    </tr>\n",
       "  </tbody>\n",
       "</table>\n",
       "</div>"
      ],
      "text/plain": [
       "   average_review_count\n",
       "0                  24.0"
      ]
     },
     "execution_count": 15,
     "metadata": {},
     "output_type": "execute_result"
    }
   ],
   "source": [
    "query = '''SELECT AVG(review_count) AS average_review_count\n",
    "FROM (\n",
    "    SELECT username, COUNT(review_id) AS review_count\n",
    "    FROM reviews\n",
    "    WHERE username IN (\n",
    "        SELECT username\n",
    "        FROM ratings\n",
    "        GROUP BY username\n",
    "        HAVING COUNT(rating_id) > 48\n",
    "    )\n",
    "    GROUP BY username\n",
    ") AS review_counts;\n",
    "'''\n",
    "pd.io.sql.read_sql(sql=text(query), con = engine)"
   ]
  },
  {
   "cell_type": "markdown",
   "metadata": {},
   "source": [
    "Пользователи, которые поставили более 48 оценок в среднем сделали 24 обзора."
   ]
  },
  {
   "cell_type": "markdown",
   "metadata": {},
   "source": [
    "## Результаты анализа БД\n",
    "\n",
    "1. После 1 января 2000 года было выпущено `819 книг`.\n",
    "2. Самое большое количество обзоров сделали для книги `Twilight (Twilight #1)`.\n",
    "3. Наибольшее количество книг, длиной более 50 страниц было выпущено издательством `Penguin Books`.\n",
    "4. Самая высокая средняя оценка книг у автора `J.K. Rowling/Mary GrandPré`.\n",
    "5. Пользователи, которые поставили более 48 оценок в среднем сделали `24 обзора`."
   ]
  }
 ],
 "metadata": {
  "ExecuteTimeLog": [
   {
    "duration": 560,
    "start_time": "2023-07-09T20:23:02.439Z"
   },
   {
    "duration": 13780,
    "start_time": "2023-07-09T20:23:07.519Z"
   },
   {
    "duration": 18,
    "start_time": "2023-07-09T20:53:05.967Z"
   },
   {
    "duration": 10,
    "start_time": "2023-07-09T20:53:52.581Z"
   },
   {
    "duration": 12,
    "start_time": "2023-07-09T20:55:57.384Z"
   },
   {
    "duration": 15,
    "start_time": "2023-07-09T20:56:03.694Z"
   },
   {
    "duration": 16,
    "start_time": "2023-07-09T20:56:16.146Z"
   },
   {
    "duration": 86,
    "start_time": "2023-07-09T21:14:15.787Z"
   },
   {
    "duration": 22,
    "start_time": "2023-07-09T21:14:48.836Z"
   },
   {
    "duration": 46,
    "start_time": "2023-07-09T21:15:24.111Z"
   },
   {
    "duration": 111,
    "start_time": "2023-07-09T21:15:56.083Z"
   },
   {
    "duration": 10,
    "start_time": "2023-07-09T21:16:04.556Z"
   },
   {
    "duration": 36,
    "start_time": "2023-07-09T21:22:16.595Z"
   },
   {
    "duration": 39,
    "start_time": "2023-07-09T21:29:29.798Z"
   },
   {
    "duration": 117,
    "start_time": "2023-07-09T21:30:18.389Z"
   },
   {
    "duration": 20,
    "start_time": "2023-07-09T21:30:30.225Z"
   },
   {
    "duration": 20,
    "start_time": "2023-07-09T21:30:35.853Z"
   },
   {
    "duration": 11,
    "start_time": "2023-07-09T21:30:52.909Z"
   },
   {
    "duration": 43,
    "start_time": "2023-07-09T21:34:55.097Z"
   },
   {
    "duration": 10,
    "start_time": "2023-07-09T21:47:13.319Z"
   },
   {
    "duration": 22,
    "start_time": "2023-07-09T21:49:14.599Z"
   },
   {
    "duration": 11,
    "start_time": "2023-07-09T21:49:22.783Z"
   },
   {
    "duration": 11,
    "start_time": "2023-07-09T21:50:05.350Z"
   },
   {
    "duration": 29,
    "start_time": "2023-07-09T21:50:19.503Z"
   },
   {
    "duration": 25,
    "start_time": "2023-07-09T21:52:46.386Z"
   },
   {
    "duration": 29,
    "start_time": "2023-07-09T21:54:47.987Z"
   },
   {
    "duration": 13,
    "start_time": "2023-07-09T22:07:17.241Z"
   },
   {
    "duration": 17,
    "start_time": "2023-07-09T22:09:12.517Z"
   },
   {
    "duration": 18,
    "start_time": "2023-07-09T22:13:43.919Z"
   },
   {
    "duration": 22,
    "start_time": "2023-07-09T22:16:44.628Z"
   },
   {
    "duration": 22,
    "start_time": "2023-07-09T22:18:19.521Z"
   },
   {
    "duration": 10,
    "start_time": "2023-07-09T22:25:07.246Z"
   },
   {
    "duration": 21,
    "start_time": "2023-07-09T22:28:46.422Z"
   },
   {
    "duration": 14,
    "start_time": "2023-07-09T22:31:52.857Z"
   },
   {
    "duration": 17,
    "start_time": "2023-07-09T22:36:21.131Z"
   },
   {
    "duration": 20,
    "start_time": "2023-07-09T22:37:03.641Z"
   },
   {
    "duration": 528,
    "start_time": "2023-07-09T22:45:21.579Z"
   },
   {
    "duration": 13820,
    "start_time": "2023-07-09T22:45:22.109Z"
   },
   {
    "duration": 10,
    "start_time": "2023-07-09T22:45:35.931Z"
   },
   {
    "duration": 24,
    "start_time": "2023-07-09T22:45:35.943Z"
   },
   {
    "duration": 14,
    "start_time": "2023-07-09T22:45:35.968Z"
   },
   {
    "duration": 53,
    "start_time": "2023-07-09T22:45:35.983Z"
   },
   {
    "duration": 10,
    "start_time": "2023-07-09T22:45:36.038Z"
   },
   {
    "duration": 42,
    "start_time": "2023-07-09T22:45:36.049Z"
   },
   {
    "duration": 11,
    "start_time": "2023-07-09T22:45:36.093Z"
   },
   {
    "duration": 61,
    "start_time": "2023-07-09T22:45:36.106Z"
   },
   {
    "duration": 15,
    "start_time": "2023-07-09T22:45:36.169Z"
   },
   {
    "duration": 573,
    "start_time": "2023-07-09T22:50:28.496Z"
   },
   {
    "duration": 13593,
    "start_time": "2023-07-09T22:50:29.071Z"
   },
   {
    "duration": 13,
    "start_time": "2023-07-09T22:50:42.665Z"
   },
   {
    "duration": 28,
    "start_time": "2023-07-09T22:50:42.681Z"
   },
   {
    "duration": 13,
    "start_time": "2023-07-09T22:50:42.711Z"
   },
   {
    "duration": 13,
    "start_time": "2023-07-09T22:50:42.726Z"
   },
   {
    "duration": 10,
    "start_time": "2023-07-09T22:50:42.741Z"
   },
   {
    "duration": 29,
    "start_time": "2023-07-09T22:50:42.753Z"
   },
   {
    "duration": 31,
    "start_time": "2023-07-09T22:50:42.784Z"
   },
   {
    "duration": 48,
    "start_time": "2023-07-09T22:50:42.821Z"
   },
   {
    "duration": 19,
    "start_time": "2023-07-09T22:50:42.871Z"
   },
   {
    "duration": 538,
    "start_time": "2023-07-10T13:01:28.190Z"
   },
   {
    "duration": 12782,
    "start_time": "2023-07-10T13:01:28.730Z"
   },
   {
    "duration": 10,
    "start_time": "2023-07-10T13:01:41.513Z"
   },
   {
    "duration": 30,
    "start_time": "2023-07-10T13:01:41.525Z"
   },
   {
    "duration": 19,
    "start_time": "2023-07-10T13:01:41.557Z"
   },
   {
    "duration": 20,
    "start_time": "2023-07-10T13:01:41.579Z"
   },
   {
    "duration": 9,
    "start_time": "2023-07-10T13:01:41.601Z"
   },
   {
    "duration": 29,
    "start_time": "2023-07-10T13:01:41.612Z"
   },
   {
    "duration": 11,
    "start_time": "2023-07-10T13:01:41.642Z"
   },
   {
    "duration": 85,
    "start_time": "2023-07-10T13:01:41.654Z"
   },
   {
    "duration": 17,
    "start_time": "2023-07-10T13:01:41.741Z"
   },
   {
    "duration": 56,
    "start_time": "2023-07-10T13:11:46.706Z"
   },
   {
    "duration": 528,
    "start_time": "2023-07-10T13:11:57.657Z"
   },
   {
    "duration": 12881,
    "start_time": "2023-07-10T13:11:58.188Z"
   },
   {
    "duration": 11,
    "start_time": "2023-07-10T13:12:11.071Z"
   },
   {
    "duration": 10,
    "start_time": "2023-07-10T13:12:11.084Z"
   },
   {
    "duration": 36,
    "start_time": "2023-07-10T13:12:11.097Z"
   },
   {
    "duration": 11,
    "start_time": "2023-07-10T13:12:11.134Z"
   },
   {
    "duration": 36,
    "start_time": "2023-07-10T13:12:11.146Z"
   },
   {
    "duration": 34,
    "start_time": "2023-07-10T13:12:11.183Z"
   },
   {
    "duration": 47,
    "start_time": "2023-07-10T13:12:11.218Z"
   },
   {
    "duration": 10,
    "start_time": "2023-07-10T13:12:11.267Z"
   },
   {
    "duration": 25,
    "start_time": "2023-07-10T13:12:11.279Z"
   },
   {
    "duration": 36,
    "start_time": "2023-07-10T13:12:11.305Z"
   },
   {
    "duration": 230,
    "start_time": "2023-07-10T13:14:36.659Z"
   },
   {
    "duration": 34,
    "start_time": "2023-07-10T13:15:00.503Z"
   },
   {
    "duration": 567,
    "start_time": "2023-07-10T13:16:10.741Z"
   },
   {
    "duration": 572,
    "start_time": "2023-07-10T13:16:29.602Z"
   },
   {
    "duration": 173,
    "start_time": "2023-07-10T13:17:36.603Z"
   },
   {
    "duration": 173,
    "start_time": "2023-07-10T13:17:48.928Z"
   },
   {
    "duration": 11,
    "start_time": "2023-07-10T13:18:09.299Z"
   },
   {
    "duration": 20,
    "start_time": "2023-07-10T13:18:12.643Z"
   },
   {
    "duration": 540,
    "start_time": "2023-07-10T13:18:33.541Z"
   },
   {
    "duration": 13009,
    "start_time": "2023-07-10T13:18:34.083Z"
   },
   {
    "duration": 10,
    "start_time": "2023-07-10T13:18:47.093Z"
   },
   {
    "duration": 12,
    "start_time": "2023-07-10T13:18:47.104Z"
   },
   {
    "duration": 12,
    "start_time": "2023-07-10T13:18:47.126Z"
   },
   {
    "duration": 20,
    "start_time": "2023-07-10T13:18:47.140Z"
   },
   {
    "duration": 9,
    "start_time": "2023-07-10T13:18:47.162Z"
   },
   {
    "duration": 39,
    "start_time": "2023-07-10T13:18:47.172Z"
   },
   {
    "duration": 40,
    "start_time": "2023-07-10T13:18:47.212Z"
   },
   {
    "duration": 19,
    "start_time": "2023-07-10T13:18:47.254Z"
   },
   {
    "duration": 554,
    "start_time": "2023-07-10T13:18:47.274Z"
   },
   {
    "duration": 177,
    "start_time": "2023-07-10T13:18:47.831Z"
   },
   {
    "duration": 22,
    "start_time": "2023-07-10T13:18:48.010Z"
   },
   {
    "duration": 17,
    "start_time": "2023-07-10T13:18:48.035Z"
   },
   {
    "duration": 17,
    "start_time": "2023-07-10T13:18:48.053Z"
   },
   {
    "duration": 493,
    "start_time": "2023-07-10T13:27:40.837Z"
   },
   {
    "duration": 13678,
    "start_time": "2023-07-10T13:27:41.332Z"
   },
   {
    "duration": 8,
    "start_time": "2023-07-10T13:27:55.011Z"
   },
   {
    "duration": 20,
    "start_time": "2023-07-10T13:27:55.021Z"
   },
   {
    "duration": 19,
    "start_time": "2023-07-10T13:27:55.042Z"
   },
   {
    "duration": 20,
    "start_time": "2023-07-10T13:27:55.063Z"
   },
   {
    "duration": 13,
    "start_time": "2023-07-10T13:27:55.090Z"
   },
   {
    "duration": 30,
    "start_time": "2023-07-10T13:27:55.104Z"
   },
   {
    "duration": 30,
    "start_time": "2023-07-10T13:27:55.135Z"
   },
   {
    "duration": 77,
    "start_time": "2023-07-10T13:27:55.167Z"
   },
   {
    "duration": 556,
    "start_time": "2023-07-10T13:27:55.246Z"
   },
   {
    "duration": 191,
    "start_time": "2023-07-10T13:27:55.804Z"
   },
   {
    "duration": 14,
    "start_time": "2023-07-10T13:27:55.996Z"
   },
   {
    "duration": 16,
    "start_time": "2023-07-10T13:27:56.011Z"
   },
   {
    "duration": 21,
    "start_time": "2023-07-10T13:27:56.029Z"
   }
  ],
  "kernelspec": {
   "display_name": "Python 3 (ipykernel)",
   "language": "python",
   "name": "python3"
  },
  "language_info": {
   "codemirror_mode": {
    "name": "ipython",
    "version": 3
   },
   "file_extension": ".py",
   "mimetype": "text/x-python",
   "name": "python",
   "nbconvert_exporter": "python",
   "pygments_lexer": "ipython3",
   "version": "3.9.13"
  },
  "toc": {
   "base_numbering": 1,
   "nav_menu": {},
   "number_sections": true,
   "sideBar": true,
   "skip_h1_title": true,
   "title_cell": "Table of Contents",
   "title_sidebar": "Contents",
   "toc_cell": false,
   "toc_position": {},
   "toc_section_display": true,
   "toc_window_display": false
  }
 },
 "nbformat": 4,
 "nbformat_minor": 2
}
