{
 "cells": [
  {
   "cell_type": "markdown",
   "metadata": {},
   "source": [
    "# Проект: Принятие решений в бизнесе\n",
    "\n",
    "Наш заказчик — крупный интернет-магазин. Вместе с отделом маркетинга мы подготовили список из девяти гипотез для увеличения выручки.\n",
    "Нам необходимо приоритизировать гипотезы, запустить A/B-тест и проанализировать результаты. \n",
    "\n",
    "Таким образом исследование пройдет в четыре этапа:\n",
    "1. Знакомство с данными и предобработка.\n",
    "2. Приоритизация гипотез:\n",
    "- применение фреймворка `ICE`;\n",
    "- применение фреймворка `RICE`.\n",
    "3. Анализ A/B-теста:\n",
    "- построение графика кумулятивной выручки по группам;\n",
    "- построение графика кумулятивного среднего чека по группам;\n",
    "- построение графика относительного изменения кумулятивного среднего чека группы B к группе A;\n",
    "- построение графика кумулятивного среднего количества заказов на посетителя по группам;\n",
    "- построение графика относительного изменения кумулятивного среднего количества заказов на посетителя группы B к группе A;\n",
    "- построение точечного графика количества заказов по пользователям;\n",
    "- определение аномальных пользователей;\n",
    "- построение точечного графика стоимостей заказов;\n",
    "- определение аномальных заказов;\n",
    "- расчет статистической значимости различий в среднем количестве заказов на посетителя между группами по «сырым» данным;\n",
    "- расчет статистической значимости различий в среднем чеке заказа между группами по «сырым» данным;\n",
    "- расчет статистической значимости различий в среднем количестве заказов на посетителя между группами по «очищенным» данным;\n",
    "- расчет статистической значимости различий в среднем чеке заказа между группами по «очищенным» данным.\n",
    "4. Оформление общих выводов и принятие решения по результатам теста."
   ]
  },
  {
   "cell_type": "markdown",
   "metadata": {},
   "source": [
    "### Знакомство с данными и предобработка"
   ]
  },
  {
   "cell_type": "code",
   "execution_count": 1,
   "metadata": {},
   "outputs": [],
   "source": [
    "# импортируем библиотеки, которые нам пондобятся для работы\n",
    "from scipy import stats as st\n",
    "import numpy as np\n",
    "import pandas as pd\n",
    "import matplotlib.pyplot as plt\n",
    "import datetime as dt"
   ]
  },
  {
   "cell_type": "code",
   "execution_count": 2,
   "metadata": {},
   "outputs": [],
   "source": [
    "try:\n",
    "    hypothesis, orders, visitors = (\n",
    "        pd.read_csv('/datasets/hypothesis.csv'),  # гипотезы\n",
    "        pd.read_csv('/datasets/orders.csv'),  # заказы\n",
    "        pd.read_csv('/datasets/visitors.csv')  # посетители\n",
    "    )\n",
    "\n",
    "except FileNotFoundError:\n",
    "    hypothesis, orders, visitors = (\n",
    "        pd.read_csv(r'D:\\datasets\\ab_test\\hypothesis.csv'),  # гипотезы\n",
    "        pd.read_csv(r'D:\\datasets\\ab_test\\orders.csv'),  # заказы\n",
    "        pd.read_csv(r'D:\\datasets\\ab_test\\visitors.csv')  # посетители\n",
    "    )"
   ]
  },
  {
   "cell_type": "markdown",
   "metadata": {},
   "source": [
    "**Описание данных**\n",
    "\n",
    "Файл `/datasets/hypothesis.csv`.\n",
    "- `Hypothesis` — краткое описание гипотезы;\n",
    "- `Reach` — охват пользователей по 10-балльной шкале;\n",
    "- `Impact` — влияние на пользователей по 10-балльной шкале;\n",
    "- `Confidence` — уверенность в гипотезе по 10-балльной шкале;\n",
    "- `Efforts` — затраты ресурсов на проверку гипотезы по 10-балльной шкале. Чем больше значение Efforts, тем дороже проверка гипотезы.\n",
    "\n",
    "Файл `/datasets/orders.csv`.\n",
    "- `transactionId` — идентификатор заказа;\n",
    "- `visitorId` — идентификатор пользователя, совершившего заказ;\n",
    "- `date` — дата, когда был совершён заказ;\n",
    "- `revenue` — выручка заказа;\n",
    "- `group` — группа A/B-теста, в которую попал заказ.\n",
    "\n",
    "Файл `/datasets/visitors.csv`.\n",
    "- `date` — дата;\n",
    "- `group` — группа A/B-теста;\n",
    "- `visitors` — количество пользователей в указанную дату в указанной группе A/B-теста."
   ]
  },
  {
   "cell_type": "code",
   "execution_count": 3,
   "metadata": {},
   "outputs": [
    {
     "name": "stdout",
     "output_type": "stream",
     "text": [
      "<class 'pandas.core.frame.DataFrame'>\n",
      "RangeIndex: 9 entries, 0 to 8\n",
      "Data columns (total 5 columns):\n",
      " #   Column      Non-Null Count  Dtype \n",
      "---  ------      --------------  ----- \n",
      " 0   Hypothesis  9 non-null      object\n",
      " 1   Reach       9 non-null      int64 \n",
      " 2   Impact      9 non-null      int64 \n",
      " 3   Confidence  9 non-null      int64 \n",
      " 4   Efforts     9 non-null      int64 \n",
      "dtypes: int64(4), object(1)\n",
      "memory usage: 488.0+ bytes\n"
     ]
    },
    {
     "data": {
      "text/plain": [
       "None"
      ]
     },
     "metadata": {},
     "output_type": "display_data"
    },
    {
     "data": {
      "text/html": [
       "<div>\n",
       "<style scoped>\n",
       "    .dataframe tbody tr th:only-of-type {\n",
       "        vertical-align: middle;\n",
       "    }\n",
       "\n",
       "    .dataframe tbody tr th {\n",
       "        vertical-align: top;\n",
       "    }\n",
       "\n",
       "    .dataframe thead th {\n",
       "        text-align: right;\n",
       "    }\n",
       "</style>\n",
       "<table border=\"1\" class=\"dataframe\">\n",
       "  <thead>\n",
       "    <tr style=\"text-align: right;\">\n",
       "      <th></th>\n",
       "      <th>Hypothesis</th>\n",
       "      <th>Reach</th>\n",
       "      <th>Impact</th>\n",
       "      <th>Confidence</th>\n",
       "      <th>Efforts</th>\n",
       "    </tr>\n",
       "  </thead>\n",
       "  <tbody>\n",
       "    <tr>\n",
       "      <th>0</th>\n",
       "      <td>Добавить два новых канала привлечения трафика,...</td>\n",
       "      <td>3</td>\n",
       "      <td>10</td>\n",
       "      <td>8</td>\n",
       "      <td>6</td>\n",
       "    </tr>\n",
       "    <tr>\n",
       "      <th>1</th>\n",
       "      <td>Запустить собственную службу доставки, что сок...</td>\n",
       "      <td>2</td>\n",
       "      <td>5</td>\n",
       "      <td>4</td>\n",
       "      <td>10</td>\n",
       "    </tr>\n",
       "    <tr>\n",
       "      <th>2</th>\n",
       "      <td>Добавить блоки рекомендаций товаров на сайт ин...</td>\n",
       "      <td>8</td>\n",
       "      <td>3</td>\n",
       "      <td>7</td>\n",
       "      <td>3</td>\n",
       "    </tr>\n",
       "    <tr>\n",
       "      <th>3</th>\n",
       "      <td>Изменить структура категорий, что увеличит кон...</td>\n",
       "      <td>8</td>\n",
       "      <td>3</td>\n",
       "      <td>3</td>\n",
       "      <td>8</td>\n",
       "    </tr>\n",
       "    <tr>\n",
       "      <th>4</th>\n",
       "      <td>Изменить цвет фона главной страницы, чтобы уве...</td>\n",
       "      <td>3</td>\n",
       "      <td>1</td>\n",
       "      <td>1</td>\n",
       "      <td>1</td>\n",
       "    </tr>\n",
       "    <tr>\n",
       "      <th>5</th>\n",
       "      <td>Добавить страницу отзывов клиентов о магазине,...</td>\n",
       "      <td>3</td>\n",
       "      <td>2</td>\n",
       "      <td>2</td>\n",
       "      <td>3</td>\n",
       "    </tr>\n",
       "    <tr>\n",
       "      <th>6</th>\n",
       "      <td>Показать на главной странице баннеры с актуаль...</td>\n",
       "      <td>5</td>\n",
       "      <td>3</td>\n",
       "      <td>8</td>\n",
       "      <td>3</td>\n",
       "    </tr>\n",
       "    <tr>\n",
       "      <th>7</th>\n",
       "      <td>Добавить форму подписки на все основные страни...</td>\n",
       "      <td>10</td>\n",
       "      <td>7</td>\n",
       "      <td>8</td>\n",
       "      <td>5</td>\n",
       "    </tr>\n",
       "    <tr>\n",
       "      <th>8</th>\n",
       "      <td>Запустить акцию, дающую скидку на товар в день...</td>\n",
       "      <td>1</td>\n",
       "      <td>9</td>\n",
       "      <td>9</td>\n",
       "      <td>5</td>\n",
       "    </tr>\n",
       "  </tbody>\n",
       "</table>\n",
       "</div>"
      ],
      "text/plain": [
       "                                          Hypothesis  Reach  Impact  \\\n",
       "0  Добавить два новых канала привлечения трафика,...      3      10   \n",
       "1  Запустить собственную службу доставки, что сок...      2       5   \n",
       "2  Добавить блоки рекомендаций товаров на сайт ин...      8       3   \n",
       "3  Изменить структура категорий, что увеличит кон...      8       3   \n",
       "4  Изменить цвет фона главной страницы, чтобы уве...      3       1   \n",
       "5  Добавить страницу отзывов клиентов о магазине,...      3       2   \n",
       "6  Показать на главной странице баннеры с актуаль...      5       3   \n",
       "7  Добавить форму подписки на все основные страни...     10       7   \n",
       "8  Запустить акцию, дающую скидку на товар в день...      1       9   \n",
       "\n",
       "   Confidence  Efforts  \n",
       "0           8        6  \n",
       "1           4       10  \n",
       "2           7        3  \n",
       "3           3        8  \n",
       "4           1        1  \n",
       "5           2        3  \n",
       "6           8        3  \n",
       "7           8        5  \n",
       "8           9        5  "
      ]
     },
     "metadata": {},
     "output_type": "display_data"
    },
    {
     "name": "stdout",
     "output_type": "stream",
     "text": [
      "Количество явных дубликатиов: 0\n",
      "___________________________________________________________________________\n",
      "\n",
      "\n",
      "<class 'pandas.core.frame.DataFrame'>\n",
      "RangeIndex: 1197 entries, 0 to 1196\n",
      "Data columns (total 5 columns):\n",
      " #   Column         Non-Null Count  Dtype \n",
      "---  ------         --------------  ----- \n",
      " 0   transactionId  1197 non-null   int64 \n",
      " 1   visitorId      1197 non-null   int64 \n",
      " 2   date           1197 non-null   object\n",
      " 3   revenue        1197 non-null   int64 \n",
      " 4   group          1197 non-null   object\n",
      "dtypes: int64(3), object(2)\n",
      "memory usage: 46.9+ KB\n"
     ]
    },
    {
     "data": {
      "text/plain": [
       "None"
      ]
     },
     "metadata": {},
     "output_type": "display_data"
    },
    {
     "data": {
      "text/html": [
       "<div>\n",
       "<style scoped>\n",
       "    .dataframe tbody tr th:only-of-type {\n",
       "        vertical-align: middle;\n",
       "    }\n",
       "\n",
       "    .dataframe tbody tr th {\n",
       "        vertical-align: top;\n",
       "    }\n",
       "\n",
       "    .dataframe thead th {\n",
       "        text-align: right;\n",
       "    }\n",
       "</style>\n",
       "<table border=\"1\" class=\"dataframe\">\n",
       "  <thead>\n",
       "    <tr style=\"text-align: right;\">\n",
       "      <th></th>\n",
       "      <th>transactionId</th>\n",
       "      <th>visitorId</th>\n",
       "      <th>date</th>\n",
       "      <th>revenue</th>\n",
       "      <th>group</th>\n",
       "    </tr>\n",
       "  </thead>\n",
       "  <tbody>\n",
       "    <tr>\n",
       "      <th>0</th>\n",
       "      <td>3667963787</td>\n",
       "      <td>3312258926</td>\n",
       "      <td>2019-08-15</td>\n",
       "      <td>1650</td>\n",
       "      <td>B</td>\n",
       "    </tr>\n",
       "    <tr>\n",
       "      <th>1</th>\n",
       "      <td>2804400009</td>\n",
       "      <td>3642806036</td>\n",
       "      <td>2019-08-15</td>\n",
       "      <td>730</td>\n",
       "      <td>B</td>\n",
       "    </tr>\n",
       "    <tr>\n",
       "      <th>2</th>\n",
       "      <td>2961555356</td>\n",
       "      <td>4069496402</td>\n",
       "      <td>2019-08-15</td>\n",
       "      <td>400</td>\n",
       "      <td>A</td>\n",
       "    </tr>\n",
       "    <tr>\n",
       "      <th>3</th>\n",
       "      <td>3797467345</td>\n",
       "      <td>1196621759</td>\n",
       "      <td>2019-08-15</td>\n",
       "      <td>9759</td>\n",
       "      <td>B</td>\n",
       "    </tr>\n",
       "    <tr>\n",
       "      <th>4</th>\n",
       "      <td>2282983706</td>\n",
       "      <td>2322279887</td>\n",
       "      <td>2019-08-15</td>\n",
       "      <td>2308</td>\n",
       "      <td>B</td>\n",
       "    </tr>\n",
       "    <tr>\n",
       "      <th>5</th>\n",
       "      <td>182168103</td>\n",
       "      <td>935554773</td>\n",
       "      <td>2019-08-15</td>\n",
       "      <td>2210</td>\n",
       "      <td>B</td>\n",
       "    </tr>\n",
       "    <tr>\n",
       "      <th>6</th>\n",
       "      <td>398296753</td>\n",
       "      <td>2900797465</td>\n",
       "      <td>2019-08-15</td>\n",
       "      <td>1860</td>\n",
       "      <td>B</td>\n",
       "    </tr>\n",
       "    <tr>\n",
       "      <th>7</th>\n",
       "      <td>2626614568</td>\n",
       "      <td>78758296</td>\n",
       "      <td>2019-08-15</td>\n",
       "      <td>1044</td>\n",
       "      <td>A</td>\n",
       "    </tr>\n",
       "    <tr>\n",
       "      <th>8</th>\n",
       "      <td>1576988021</td>\n",
       "      <td>295230930</td>\n",
       "      <td>2019-08-15</td>\n",
       "      <td>13710</td>\n",
       "      <td>A</td>\n",
       "    </tr>\n",
       "  </tbody>\n",
       "</table>\n",
       "</div>"
      ],
      "text/plain": [
       "   transactionId   visitorId        date  revenue group\n",
       "0     3667963787  3312258926  2019-08-15     1650     B\n",
       "1     2804400009  3642806036  2019-08-15      730     B\n",
       "2     2961555356  4069496402  2019-08-15      400     A\n",
       "3     3797467345  1196621759  2019-08-15     9759     B\n",
       "4     2282983706  2322279887  2019-08-15     2308     B\n",
       "5      182168103   935554773  2019-08-15     2210     B\n",
       "6      398296753  2900797465  2019-08-15     1860     B\n",
       "7     2626614568    78758296  2019-08-15     1044     A\n",
       "8     1576988021   295230930  2019-08-15    13710     A"
      ]
     },
     "metadata": {},
     "output_type": "display_data"
    },
    {
     "name": "stdout",
     "output_type": "stream",
     "text": [
      "Количество явных дубликатиов: 0\n",
      "___________________________________________________________________________\n",
      "\n",
      "\n",
      "<class 'pandas.core.frame.DataFrame'>\n",
      "RangeIndex: 62 entries, 0 to 61\n",
      "Data columns (total 3 columns):\n",
      " #   Column    Non-Null Count  Dtype \n",
      "---  ------    --------------  ----- \n",
      " 0   date      62 non-null     object\n",
      " 1   group     62 non-null     object\n",
      " 2   visitors  62 non-null     int64 \n",
      "dtypes: int64(1), object(2)\n",
      "memory usage: 1.6+ KB\n"
     ]
    },
    {
     "data": {
      "text/plain": [
       "None"
      ]
     },
     "metadata": {},
     "output_type": "display_data"
    },
    {
     "data": {
      "text/html": [
       "<div>\n",
       "<style scoped>\n",
       "    .dataframe tbody tr th:only-of-type {\n",
       "        vertical-align: middle;\n",
       "    }\n",
       "\n",
       "    .dataframe tbody tr th {\n",
       "        vertical-align: top;\n",
       "    }\n",
       "\n",
       "    .dataframe thead th {\n",
       "        text-align: right;\n",
       "    }\n",
       "</style>\n",
       "<table border=\"1\" class=\"dataframe\">\n",
       "  <thead>\n",
       "    <tr style=\"text-align: right;\">\n",
       "      <th></th>\n",
       "      <th>date</th>\n",
       "      <th>group</th>\n",
       "      <th>visitors</th>\n",
       "    </tr>\n",
       "  </thead>\n",
       "  <tbody>\n",
       "    <tr>\n",
       "      <th>0</th>\n",
       "      <td>2019-08-01</td>\n",
       "      <td>A</td>\n",
       "      <td>719</td>\n",
       "    </tr>\n",
       "    <tr>\n",
       "      <th>1</th>\n",
       "      <td>2019-08-02</td>\n",
       "      <td>A</td>\n",
       "      <td>619</td>\n",
       "    </tr>\n",
       "    <tr>\n",
       "      <th>2</th>\n",
       "      <td>2019-08-03</td>\n",
       "      <td>A</td>\n",
       "      <td>507</td>\n",
       "    </tr>\n",
       "    <tr>\n",
       "      <th>3</th>\n",
       "      <td>2019-08-04</td>\n",
       "      <td>A</td>\n",
       "      <td>717</td>\n",
       "    </tr>\n",
       "    <tr>\n",
       "      <th>4</th>\n",
       "      <td>2019-08-05</td>\n",
       "      <td>A</td>\n",
       "      <td>756</td>\n",
       "    </tr>\n",
       "    <tr>\n",
       "      <th>5</th>\n",
       "      <td>2019-08-06</td>\n",
       "      <td>A</td>\n",
       "      <td>667</td>\n",
       "    </tr>\n",
       "    <tr>\n",
       "      <th>6</th>\n",
       "      <td>2019-08-07</td>\n",
       "      <td>A</td>\n",
       "      <td>644</td>\n",
       "    </tr>\n",
       "    <tr>\n",
       "      <th>7</th>\n",
       "      <td>2019-08-08</td>\n",
       "      <td>A</td>\n",
       "      <td>610</td>\n",
       "    </tr>\n",
       "    <tr>\n",
       "      <th>8</th>\n",
       "      <td>2019-08-09</td>\n",
       "      <td>A</td>\n",
       "      <td>617</td>\n",
       "    </tr>\n",
       "  </tbody>\n",
       "</table>\n",
       "</div>"
      ],
      "text/plain": [
       "         date group  visitors\n",
       "0  2019-08-01     A       719\n",
       "1  2019-08-02     A       619\n",
       "2  2019-08-03     A       507\n",
       "3  2019-08-04     A       717\n",
       "4  2019-08-05     A       756\n",
       "5  2019-08-06     A       667\n",
       "6  2019-08-07     A       644\n",
       "7  2019-08-08     A       610\n",
       "8  2019-08-09     A       617"
      ]
     },
     "metadata": {},
     "output_type": "display_data"
    },
    {
     "name": "stdout",
     "output_type": "stream",
     "text": [
      "Количество явных дубликатиов: 0\n",
      "___________________________________________________________________________\n",
      "\n",
      "\n"
     ]
    }
   ],
   "source": [
    "# посмотрим общую информацию по каждому датафрейму\n",
    "for i in [hypothesis, orders, visitors]:\n",
    "    display(i.info())\n",
    "    display(i.head(9))\n",
    "    print('Количество явных дубликатиов:', i.duplicated().sum())\n",
    "    print(75 * '_', end='\\n\\n\\n')"
   ]
  },
  {
   "cell_type": "markdown",
   "metadata": {},
   "source": [
    "Названия столбцов в датафреймах *hypothesis* и *orders* не приведены к \"змеиному\" регистру, исправим это.\\\n",
    "Также видим, что в датафреймах *orders* и *visitors* у значений в столбцах с датой/временем тип данных `object`, поменям на `datetime64`.\\\n",
    "Пропуски и явные дубликаты не обнаружены."
   ]
  },
  {
   "cell_type": "code",
   "execution_count": 4,
   "metadata": {},
   "outputs": [],
   "source": [
    "# приведем названия столбцов к \"змеиному\" регистру\n",
    "for i in [hypothesis, orders]:\n",
    "    i.columns = i.columns.str.replace('Id', '_id').str.lower()"
   ]
  },
  {
   "cell_type": "code",
   "execution_count": 5,
   "metadata": {},
   "outputs": [],
   "source": [
    "# преобразование данных о времени\n",
    "orders['date'] = pd.to_datetime(orders['date'])\n",
    "visitors['date'] = pd.to_datetime(visitors['date'])"
   ]
  },
  {
   "cell_type": "code",
   "execution_count": 6,
   "metadata": {
    "scrolled": false
   },
   "outputs": [
    {
     "name": "stdout",
     "output_type": "stream",
     "text": [
      "Количество аномальных значений в суммах выручки заказов: 0\n",
      "Количество аномальных значений в количестве посетителей: 0\n"
     ]
    }
   ],
   "source": [
    "# проверим на наличие отрицательных и нулевых (аномальных) значений в суммах выручки заказов и в количестве посетителей по датам\n",
    "print('Количество аномальных значений в суммах выручки заказов:', len(orders.query('revenue <= 0')))\n",
    "print('Количество аномальных значений в количестве посетителей:', len(visitors.query('visitors <= 0')))"
   ]
  },
  {
   "cell_type": "code",
   "execution_count": 7,
   "metadata": {},
   "outputs": [
    {
     "data": {
      "text/html": [
       "<div>\n",
       "<style scoped>\n",
       "    .dataframe tbody tr th:only-of-type {\n",
       "        vertical-align: middle;\n",
       "    }\n",
       "\n",
       "    .dataframe tbody tr th {\n",
       "        vertical-align: top;\n",
       "    }\n",
       "\n",
       "    .dataframe thead th {\n",
       "        text-align: right;\n",
       "    }\n",
       "</style>\n",
       "<table border=\"1\" class=\"dataframe\">\n",
       "  <thead>\n",
       "    <tr style=\"text-align: right;\">\n",
       "      <th></th>\n",
       "      <th>visitor_id</th>\n",
       "      <th>ratio, %</th>\n",
       "    </tr>\n",
       "    <tr>\n",
       "      <th>group</th>\n",
       "      <th></th>\n",
       "      <th></th>\n",
       "    </tr>\n",
       "  </thead>\n",
       "  <tbody>\n",
       "    <tr>\n",
       "      <th>A</th>\n",
       "      <td>503</td>\n",
       "      <td>46.19</td>\n",
       "    </tr>\n",
       "    <tr>\n",
       "      <th>B</th>\n",
       "      <td>586</td>\n",
       "      <td>53.81</td>\n",
       "    </tr>\n",
       "  </tbody>\n",
       "</table>\n",
       "</div>"
      ],
      "text/plain": [
       "       visitor_id  ratio, %\n",
       "group                      \n",
       "A             503     46.19\n",
       "B             586     53.81"
      ]
     },
     "execution_count": 7,
     "metadata": {},
     "output_type": "execute_result"
    }
   ],
   "source": [
    "# посмотрим на размер групп\n",
    "groups_sizes = orders.groupby('group').agg({'visitor_id': 'nunique'})\n",
    "groups_sizes['ratio, %'] = round(groups_sizes['visitor_id'] / groups_sizes['visitor_id'].sum() * 100, 2)\n",
    "groups_sizes"
   ]
  },
  {
   "cell_type": "markdown",
   "metadata": {},
   "source": [
    "Группа А немного меньше группы В. Разница в размерах групп, возможно, обусловлена тем, что в группе В лучше конверсия (выясним это в ходе исследования). Разница не существенна, это не должно сильно повлиять на результаты теста.\\\n",
    "Теперь проверим есть ли пересечения id пользователей в обеих группах."
   ]
  },
  {
   "cell_type": "code",
   "execution_count": 8,
   "metadata": {},
   "outputs": [],
   "source": [
    "# напишем функцию, которая вернет список пересекающихся visitor_id\n",
    "def get_intersection_of_visitor_ids(df1, df2):\n",
    "    \n",
    "    # получим множество visitor_id в каждом датафрейме\n",
    "    visitor_ids_1 = set(df1['visitor_id'])\n",
    "    visitor_ids_2 = set(df2['visitor_id'])\n",
    "\n",
    "    # пересечение двух множеств\n",
    "    intersection = visitor_ids_1 & visitor_ids_2\n",
    "\n",
    "    return list(intersection)"
   ]
  },
  {
   "cell_type": "code",
   "execution_count": 9,
   "metadata": {},
   "outputs": [],
   "source": [
    "# разделим датафрейм orders по группам\n",
    "orders_a = orders.query('group == \"A\"')\n",
    "orders_b = orders.query('group == \"B\"')"
   ]
  },
  {
   "cell_type": "code",
   "execution_count": 10,
   "metadata": {},
   "outputs": [
    {
     "name": "stdout",
     "output_type": "stream",
     "text": [
      "Количество пересекающихся пользователей в двух группах: 58\n"
     ]
    }
   ],
   "source": [
    "intersection = get_intersection_of_visitor_ids(orders_a, orders_b)\n",
    "print('Количество пересекающихся пользователей в двух группах:', len(intersection))"
   ]
  },
  {
   "cell_type": "markdown",
   "metadata": {},
   "source": [
    "Видим, что имеется 58 пользователей, которые находятся одновременно в обеих группах, хотя попавший в одну из групп посетитель должен оставаться в этой группе до конца теста. Если пользователь видит разные версии исследуемой страницы в ходе одного исследования, неизвестно, какая именно повлияла на его решения. Значит, и результаты такого теста нельзя интерпретировать однозначно.\\\n",
    "Во избежание искажения результатов, уберемем пересекающихся пользователей из таблицы *orders*."
   ]
  },
  {
   "cell_type": "code",
   "execution_count": 11,
   "metadata": {
    "scrolled": true
   },
   "outputs": [
    {
     "name": "stdout",
     "output_type": "stream",
     "text": [
      "<class 'pandas.core.frame.DataFrame'>\n",
      "RangeIndex: 1016 entries, 0 to 1015\n",
      "Data columns (total 6 columns):\n",
      " #   Column          Non-Null Count  Dtype         \n",
      "---  ------          --------------  -----         \n",
      " 0   index           1016 non-null   int64         \n",
      " 1   transaction_id  1016 non-null   int64         \n",
      " 2   visitor_id      1016 non-null   int64         \n",
      " 3   date            1016 non-null   datetime64[ns]\n",
      " 4   revenue         1016 non-null   int64         \n",
      " 5   group           1016 non-null   object        \n",
      "dtypes: datetime64[ns](1), int64(4), object(1)\n",
      "memory usage: 47.8+ KB\n"
     ]
    }
   ],
   "source": [
    "# уберем пересекающихся пользователей из обеих групп\n",
    "orders = orders.query('visitor_id not in @intersection').reset_index()\n",
    "orders.info()"
   ]
  },
  {
   "cell_type": "code",
   "execution_count": 12,
   "metadata": {},
   "outputs": [
    {
     "name": "stdout",
     "output_type": "stream",
     "text": [
      "Тест начался: 2019-08-01\n",
      "Тест завершился: 2019-08-31\n"
     ]
    }
   ],
   "source": [
    "# посмотрим на даты начала и окончания теста\n",
    "start_date = orders['date'].min()\n",
    "end_date = orders['date'].max()\n",
    "print('Тест начался:', start_date.date())\n",
    "print('Тест завершился:', end_date.date())"
   ]
  },
  {
   "cell_type": "code",
   "execution_count": 13,
   "metadata": {},
   "outputs": [
    {
     "data": {
      "image/png": "[encoded data removed]",
      "text/plain": [
       "<Figure size 1080x360 with 1 Axes>"
      ]
     },
     "metadata": {
      "needs_background": "light"
     },
     "output_type": "display_data"
    }
   ],
   "source": [
    "# посмотрим динамику посетителей по дням по группам\n",
    "visitors_a = visitors.query('group == \"A\"')\n",
    "visitors_b = visitors.query('group == \"B\"')\n",
    "\n",
    "fig, ax = plt.subplots(figsize=(15, 5))\n",
    "ax.plot(visitors_a['date'], visitors_a['visitors'], label='A')\n",
    "ax.plot(visitors_b['date'], visitors_b['visitors'], label='B')\n",
    "plt.legend()\n",
    "plt.minorticks_on()\n",
    "plt.xlabel('Дата')\n",
    "plt.ylabel('Количество посетителей')\n",
    "plt.grid(alpha=0.5)\n",
    "plt.title('График динамики посетителей по дням по группам');"
   ]
  },
  {
   "cell_type": "markdown",
   "metadata": {},
   "source": [
    "По графикам видно, что количество посетителей по дням в обеих группах примерно одинаковое. Наблюдаются резкие \"скачки\" количества посетителей с примерно недельными интервалами, по всей видимости связанные с проводимыми мероприятиями по привлечению пользователей.\n",
    "\n",
    "**Выводы по предобработке данных**\n",
    "\n",
    "Мы загрузили данные из предоставленных csv-файлов. Пропусков, явных дубликатов и каких-либо явных аномалий в данных обнаружено не было, однако, были обнаружены пользователи, которые присутствовали одновременно в двух группах. Во избежание искажения результатов, пересекающиеся пользователи из выборки были исключены.\\\n",
    "Для удобства анализа мы привели названия столбцов к \"змеиному\" регистру, а также у значений в столбцах с датой/временем тип данных поменяли на `datetime64`.\\\n",
    "Можем переходить к анализу не опасаясь \"подводных камней\"."
   ]
  },
  {
   "cell_type": "markdown",
   "metadata": {},
   "source": [
    "### Приоритизация гипотез\n",
    "#### Фреймворк ICE для приоритизации гипотез\n",
    "\n",
    "**ICE** (от англ. impact, confidence, effort / ease «влияние, уверенность, усилия / простота») — один из самых популярных способов приоритизации задач, рассчитывается по формуле:\n",
    "\n",
    "<div>\n",
    "<br>\n",
    "$ICE = \\frac{Impact * Confidence}{Efforts}$\n",
    "</div>"
   ]
  },
  {
   "cell_type": "code",
   "execution_count": 14,
   "metadata": {},
   "outputs": [
    {
     "data": {
      "text/html": [
       "<div>\n",
       "<style scoped>\n",
       "    .dataframe tbody tr th:only-of-type {\n",
       "        vertical-align: middle;\n",
       "    }\n",
       "\n",
       "    .dataframe tbody tr th {\n",
       "        vertical-align: top;\n",
       "    }\n",
       "\n",
       "    .dataframe thead th {\n",
       "        text-align: right;\n",
       "    }\n",
       "</style>\n",
       "<table border=\"1\" class=\"dataframe\">\n",
       "  <thead>\n",
       "    <tr style=\"text-align: right;\">\n",
       "      <th></th>\n",
       "      <th>hypothesis</th>\n",
       "      <th>ICE</th>\n",
       "    </tr>\n",
       "  </thead>\n",
       "  <tbody>\n",
       "    <tr>\n",
       "      <th>8</th>\n",
       "      <td>Запустить акцию, дающую скидку на товар в день рождения</td>\n",
       "      <td>16.20</td>\n",
       "    </tr>\n",
       "    <tr>\n",
       "      <th>0</th>\n",
       "      <td>Добавить два новых канала привлечения трафика, что позволит привлекать на 30% больше пользователей</td>\n",
       "      <td>13.33</td>\n",
       "    </tr>\n",
       "    <tr>\n",
       "      <th>7</th>\n",
       "      <td>Добавить форму подписки на все основные страницы, чтобы собрать базу клиентов для email-рассылок</td>\n",
       "      <td>11.20</td>\n",
       "    </tr>\n",
       "    <tr>\n",
       "      <th>6</th>\n",
       "      <td>Показать на главной странице баннеры с актуальными акциями и распродажами, чтобы увеличить конверсию</td>\n",
       "      <td>8.00</td>\n",
       "    </tr>\n",
       "    <tr>\n",
       "      <th>2</th>\n",
       "      <td>Добавить блоки рекомендаций товаров на сайт интернет магазина, чтобы повысить конверсию и средний чек заказа</td>\n",
       "      <td>7.00</td>\n",
       "    </tr>\n",
       "    <tr>\n",
       "      <th>1</th>\n",
       "      <td>Запустить собственную службу доставки, что сократит срок доставки заказов</td>\n",
       "      <td>2.00</td>\n",
       "    </tr>\n",
       "    <tr>\n",
       "      <th>5</th>\n",
       "      <td>Добавить страницу отзывов клиентов о магазине, что позволит увеличить количество заказов</td>\n",
       "      <td>1.33</td>\n",
       "    </tr>\n",
       "    <tr>\n",
       "      <th>3</th>\n",
       "      <td>Изменить структура категорий, что увеличит конверсию, т.к. пользователи быстрее найдут нужный товар</td>\n",
       "      <td>1.12</td>\n",
       "    </tr>\n",
       "    <tr>\n",
       "      <th>4</th>\n",
       "      <td>Изменить цвет фона главной страницы, чтобы увеличить вовлеченность пользователей</td>\n",
       "      <td>1.00</td>\n",
       "    </tr>\n",
       "  </tbody>\n",
       "</table>\n",
       "</div>"
      ],
      "text/plain": [
       "                                                                                                     hypothesis  \\\n",
       "8                                                       Запустить акцию, дающую скидку на товар в день рождения   \n",
       "0            Добавить два новых канала привлечения трафика, что позволит привлекать на 30% больше пользователей   \n",
       "7              Добавить форму подписки на все основные страницы, чтобы собрать базу клиентов для email-рассылок   \n",
       "6          Показать на главной странице баннеры с актуальными акциями и распродажами, чтобы увеличить конверсию   \n",
       "2  Добавить блоки рекомендаций товаров на сайт интернет магазина, чтобы повысить конверсию и средний чек заказа   \n",
       "1                                     Запустить собственную службу доставки, что сократит срок доставки заказов   \n",
       "5                      Добавить страницу отзывов клиентов о магазине, что позволит увеличить количество заказов   \n",
       "3           Изменить структура категорий, что увеличит конверсию, т.к. пользователи быстрее найдут нужный товар   \n",
       "4                              Изменить цвет фона главной страницы, чтобы увеличить вовлеченность пользователей   \n",
       "\n",
       "     ICE  \n",
       "8  16.20  \n",
       "0  13.33  \n",
       "7  11.20  \n",
       "6   8.00  \n",
       "2   7.00  \n",
       "1   2.00  \n",
       "5   1.33  \n",
       "3   1.12  \n",
       "4   1.00  "
      ]
     },
     "execution_count": 14,
     "metadata": {},
     "output_type": "execute_result"
    }
   ],
   "source": [
    "# применим фреймворк ICE для приоритизации гипотез и отсортируем их по убыванию приоритета\n",
    "pd.options.display.max_colwidth = 130\n",
    "hypothesis['ICE'] = round(hypothesis['impact'] * hypothesis['confidence'] / hypothesis['efforts'], 2)\n",
    "hypothesis[['hypothesis', 'ICE']].sort_values(by='ICE', ascending=False)"
   ]
  },
  {
   "cell_type": "markdown",
   "metadata": {},
   "source": [
    "#### Фреймворк RICE для приоритизации гипотез\n",
    "\n",
    "У метода **ICE** есть модификация **RICE** (R от англ. reach, «охват»), рассчитывается по формуле:\n",
    "\n",
    "<div>\n",
    "<br>\n",
    "$RICE = \\frac{Reach * Impact * Confidence}{Efforts}$\n",
    "</div>"
   ]
  },
  {
   "cell_type": "code",
   "execution_count": 15,
   "metadata": {},
   "outputs": [
    {
     "data": {
      "text/html": [
       "<div>\n",
       "<style scoped>\n",
       "    .dataframe tbody tr th:only-of-type {\n",
       "        vertical-align: middle;\n",
       "    }\n",
       "\n",
       "    .dataframe tbody tr th {\n",
       "        vertical-align: top;\n",
       "    }\n",
       "\n",
       "    .dataframe thead th {\n",
       "        text-align: right;\n",
       "    }\n",
       "</style>\n",
       "<table border=\"1\" class=\"dataframe\">\n",
       "  <thead>\n",
       "    <tr style=\"text-align: right;\">\n",
       "      <th></th>\n",
       "      <th>hypothesis</th>\n",
       "      <th>RICE</th>\n",
       "    </tr>\n",
       "  </thead>\n",
       "  <tbody>\n",
       "    <tr>\n",
       "      <th>7</th>\n",
       "      <td>Добавить форму подписки на все основные страницы, чтобы собрать базу клиентов для email-рассылок</td>\n",
       "      <td>112.0</td>\n",
       "    </tr>\n",
       "    <tr>\n",
       "      <th>2</th>\n",
       "      <td>Добавить блоки рекомендаций товаров на сайт интернет магазина, чтобы повысить конверсию и средний чек заказа</td>\n",
       "      <td>56.0</td>\n",
       "    </tr>\n",
       "    <tr>\n",
       "      <th>0</th>\n",
       "      <td>Добавить два новых канала привлечения трафика, что позволит привлекать на 30% больше пользователей</td>\n",
       "      <td>40.0</td>\n",
       "    </tr>\n",
       "    <tr>\n",
       "      <th>6</th>\n",
       "      <td>Показать на главной странице баннеры с актуальными акциями и распродажами, чтобы увеличить конверсию</td>\n",
       "      <td>40.0</td>\n",
       "    </tr>\n",
       "    <tr>\n",
       "      <th>8</th>\n",
       "      <td>Запустить акцию, дающую скидку на товар в день рождения</td>\n",
       "      <td>16.2</td>\n",
       "    </tr>\n",
       "    <tr>\n",
       "      <th>3</th>\n",
       "      <td>Изменить структура категорий, что увеличит конверсию, т.к. пользователи быстрее найдут нужный товар</td>\n",
       "      <td>9.0</td>\n",
       "    </tr>\n",
       "    <tr>\n",
       "      <th>1</th>\n",
       "      <td>Запустить собственную службу доставки, что сократит срок доставки заказов</td>\n",
       "      <td>4.0</td>\n",
       "    </tr>\n",
       "    <tr>\n",
       "      <th>5</th>\n",
       "      <td>Добавить страницу отзывов клиентов о магазине, что позволит увеличить количество заказов</td>\n",
       "      <td>4.0</td>\n",
       "    </tr>\n",
       "    <tr>\n",
       "      <th>4</th>\n",
       "      <td>Изменить цвет фона главной страницы, чтобы увеличить вовлеченность пользователей</td>\n",
       "      <td>3.0</td>\n",
       "    </tr>\n",
       "  </tbody>\n",
       "</table>\n",
       "</div>"
      ],
      "text/plain": [
       "                                                                                                     hypothesis  \\\n",
       "7              Добавить форму подписки на все основные страницы, чтобы собрать базу клиентов для email-рассылок   \n",
       "2  Добавить блоки рекомендаций товаров на сайт интернет магазина, чтобы повысить конверсию и средний чек заказа   \n",
       "0            Добавить два новых канала привлечения трафика, что позволит привлекать на 30% больше пользователей   \n",
       "6          Показать на главной странице баннеры с актуальными акциями и распродажами, чтобы увеличить конверсию   \n",
       "8                                                       Запустить акцию, дающую скидку на товар в день рождения   \n",
       "3           Изменить структура категорий, что увеличит конверсию, т.к. пользователи быстрее найдут нужный товар   \n",
       "1                                     Запустить собственную службу доставки, что сократит срок доставки заказов   \n",
       "5                      Добавить страницу отзывов клиентов о магазине, что позволит увеличить количество заказов   \n",
       "4                              Изменить цвет фона главной страницы, чтобы увеличить вовлеченность пользователей   \n",
       "\n",
       "    RICE  \n",
       "7  112.0  \n",
       "2   56.0  \n",
       "0   40.0  \n",
       "6   40.0  \n",
       "8   16.2  \n",
       "3    9.0  \n",
       "1    4.0  \n",
       "5    4.0  \n",
       "4    3.0  "
      ]
     },
     "execution_count": 15,
     "metadata": {},
     "output_type": "execute_result"
    }
   ],
   "source": [
    "# применим фреймворк RICE для приоритизации гипотез и отсортируем их по убыванию приоритета\n",
    "hypothesis['RICE'] = hypothesis['reach'] * hypothesis['impact'] * hypothesis['confidence'] / hypothesis['efforts']\n",
    "hypothesis[['hypothesis', 'RICE']].sort_values(by='RICE', ascending=False)"
   ]
  },
  {
   "cell_type": "markdown",
   "metadata": {},
   "source": [
    "**Выводы по приоритизации гипотез**\n",
    "\n",
    "В результате применения фреймворка **ICE** наиболее приоритетной выглядела гипотеза `\"Запустить акцию, дающую скидку на товар в день рождения\"`, однако, после применения фреймворка **RICE** данная гипотеза перешла в середину списка, оказавшись лишь на *пятом* месте, а на первое место в свою очередь вышла гипотеза `\"Добавить форму подписки на все основные страницы, чтобы собрать базу клиентов для email-рассылок\"`.\\\n",
    "Это произошло в результате того, что в фреймворке **RICE** добавляется параметр *Reach (охват)*, а он у гипотезы `\"Добавить форму подписки на все основные страницы, чтобы собрать базу клиентов для email-рассылок\"` равен **10**, т.е. затрагивает максимальное количество пользователей, в то время как у гипотезы `\"Запустить акцию, дающую скидку на товар в день рождения\"` этот параметр равен лишь **1**, что говорит о том, что одномоментно такое изменение коснется незначительного количества пользователей.\\\n",
    "В связи с вышеизложенным выбираем гипотезу `\"Добавить форму подписки на все основные страницы, чтобы собрать базу клиентов для email-рассылок\"` как приоритетную.\n",
    "\n",
    "### Анализ A/B-теста\n",
    "#### Построение графика кумулятивной выручки по группам\n",
    "\n",
    "Построим графики кумулятивной выручки по дням и группам A/B-тестирования."
   ]
  },
  {
   "cell_type": "code",
   "execution_count": 16,
   "metadata": {},
   "outputs": [],
   "source": [
    "# создаем массив уникальных пар значений дат и групп теста\n",
    "datesGroups = orders[['date','group']].drop_duplicates()\n",
    "\n",
    "# получаем агрегированные кумулятивные по дням данные о заказах \n",
    "ordersAggregated = datesGroups.apply(\n",
    "    lambda x: orders[\n",
    "        np.logical_and(\n",
    "            orders['date'] <= x['date'], orders['group'] == x['group']\n",
    "        )\n",
    "    ].agg(\n",
    "        {\n",
    "            'date': 'max',\n",
    "            'group': 'max',\n",
    "            'transaction_id': 'nunique',\n",
    "            'visitor_id': 'nunique',\n",
    "            'revenue': 'sum',\n",
    "        }\n",
    "    ),\n",
    "    axis=1,\n",
    ").sort_values(by=['date', 'group'])\n",
    "\n",
    "# получаем агрегированные кумулятивные по дням данные о посетителях\n",
    "visitorsAggregated = datesGroups.apply(\n",
    "    lambda x: visitors[\n",
    "        np.logical_and(\n",
    "            visitors['date'] <= x['date'], visitors['group'] == x['group']\n",
    "        )\n",
    "    ].agg({'date': 'max', 'group': 'max', 'visitors': 'sum'}),\n",
    "    axis=1,\n",
    ").sort_values(by=['date', 'group'])"
   ]
  },
  {
   "cell_type": "code",
   "execution_count": 17,
   "metadata": {},
   "outputs": [],
   "source": [
    "# объединяем кумулятивные данные в одной таблице и присваиваем ее столбцам понятные названия\n",
    "cumulativeData = ordersAggregated.merge(\n",
    "    visitorsAggregated, left_on=['date', 'group'], right_on=['date', 'group']\n",
    ")\n",
    "cumulativeData.columns = ['date', 'group', 'orders', 'buyers', 'revenue', 'visitors']"
   ]
  },
  {
   "cell_type": "code",
   "execution_count": 18,
   "metadata": {},
   "outputs": [
    {
     "name": "stdout",
     "output_type": "stream",
     "text": [
      "Даты начала и окончания теста совпадают, можем продолжать.\n"
     ]
    }
   ],
   "source": [
    "# проверим совпадают ли минимальная и максимальная даты в этом датафрейме \n",
    "# с минимальной и максимальной датой в исходных данных\n",
    "if cumulativeData['date'].min() == start_date and cumulativeData['date'].max() == end_date:\n",
    "    print('Даты начала и окончания теста совпадают, можем продолжать.')\n",
    "else:\n",
    "    print('Что-то не так, где-то ошибка :(')"
   ]
  },
  {
   "cell_type": "code",
   "execution_count": 19,
   "metadata": {},
   "outputs": [],
   "source": [
    "# датафрейм с кумулятивным количеством заказов и кумулятивной выручкой по дням в группе А\n",
    "cumulativeRevenueA = cumulativeData[cumulativeData['group']=='A'][['date','revenue', 'orders']]\n",
    "\n",
    "# датафрейм с кумулятивным количеством заказов и кумулятивной выручкой по дням в группе B\n",
    "cumulativeRevenueB = cumulativeData[cumulativeData['group']=='B'][['date','revenue', 'orders']]"
   ]
  },
  {
   "cell_type": "code",
   "execution_count": 20,
   "metadata": {},
   "outputs": [
    {
     "data": {
      "image/png": "[encoded data removed]",
      "text/plain": [
       "<Figure size 1080x360 with 1 Axes>"
      ]
     },
     "metadata": {
      "needs_background": "light"
     },
     "output_type": "display_data"
    }
   ],
   "source": [
    "# строим графики\n",
    "fig, ax = plt.subplots(figsize=(15, 5))\n",
    "ax.plot(cumulativeRevenueA['date'], cumulativeRevenueA['revenue'], label='A')\n",
    "ax.plot(cumulativeRevenueB['date'], cumulativeRevenueB['revenue'], label='B')\n",
    "ax.minorticks_on()\n",
    "plt.ylabel('Выручка')\n",
    "plt.xlabel('Дата')\n",
    "plt.grid(alpha=0.5)\n",
    "plt.legend()\n",
    "plt.title('График кумулятивной выручки по группам')\n",
    "plt.show();"
   ]
  },
  {
   "cell_type": "markdown",
   "metadata": {},
   "source": [
    "Выручка почти равномерно увеличивается на протяжении всего теста, однако график выручки группы B в районе 18 августа резко растет. Это может сигнализировать о всплеске числа заказов, либо о появлении очень дорогих заказов в выборке.\n",
    "\n",
    "#### Построение графика кумулятивного среднего чека по группам\n",
    "\n",
    "Построим графики среднего чека по группам — разделим кумулятивную выручку на кумулятивное число заказов."
   ]
  },
  {
   "cell_type": "code",
   "execution_count": 21,
   "metadata": {},
   "outputs": [
    {
     "data": {
      "image/png": "[encoded data removed]",
      "text/plain": [
       "<Figure size 1080x360 with 1 Axes>"
      ]
     },
     "metadata": {
      "needs_background": "light"
     },
     "output_type": "display_data"
    }
   ],
   "source": [
    "# строим графики\n",
    "fig, ax = plt.subplots(figsize=(15, 5))\n",
    "ax.plot(cumulativeRevenueA['date'], cumulativeRevenueA['revenue']/cumulativeRevenueA['orders'], label='A')\n",
    "ax.plot(cumulativeRevenueB['date'], cumulativeRevenueB['revenue']/cumulativeRevenueB['orders'], label='B')\n",
    "ax.minorticks_on()\n",
    "plt.ylabel('Средний чек')\n",
    "plt.xlabel('Дата')\n",
    "plt.grid(alpha=0.5)\n",
    "plt.legend()\n",
    "plt.title('График кумулятивного среднего чека по группам')\n",
    "plt.show();"
   ]
  },
  {
   "cell_type": "markdown",
   "metadata": {},
   "source": [
    "Для группы А в первую неделю августа видим постепенное снижение среднего чека, после чего равномерный рост до 13 августа, затем график стабилизируется.\\\n",
    "Для группы В средний чек в первую неделю августа растет резкими рывками, после чего стабилизируется, и, снова 18 августа видим очень резкий скачок, скорее всего связанный с дорогостоящими заказами. Затем видно снижение, но скорее всего это искажение из-за зафиксированного \"выброса\".\n",
    "\n",
    "#### Построение графика относительного изменения кумулятивного среднего чека группы B к группе A\n",
    "\n",
    "Построим график относительного различия для среднего чека."
   ]
  },
  {
   "cell_type": "code",
   "execution_count": 22,
   "metadata": {
    "scrolled": true
   },
   "outputs": [
    {
     "data": {
      "image/png": "[encoded data removed]",
      "text/plain": [
       "<Figure size 1080x360 with 1 Axes>"
      ]
     },
     "metadata": {
      "needs_background": "light"
     },
     "output_type": "display_data"
    }
   ],
   "source": [
    "# собираем данные в одном датафрейме\n",
    "mergedCumulativeRevenue = cumulativeRevenueA.merge(cumulativeRevenueB, left_on='date', right_on='date', how='left', suffixes=['A', 'B'])\n",
    "\n",
    "# cтроим отношение средних чеков\n",
    "fig = plt.figure(figsize=(15, 5))\n",
    "plt.plot(mergedCumulativeRevenue['date'], (mergedCumulativeRevenue['revenueB']/mergedCumulativeRevenue['ordersB'])/\\\n",
    "         (mergedCumulativeRevenue['revenueA']/mergedCumulativeRevenue['ordersA']) - 1)\n",
    "plt.xlabel('Дата')\n",
    "plt.grid(alpha=0.5)\n",
    "plt.title('График относительного изменения кумулятивного среднего чека группы B к группе A')\n",
    "plt.axhline(y=0, color='black', linestyle='--');"
   ]
  },
  {
   "cell_type": "markdown",
   "metadata": {},
   "source": [
    "В нескольких точках график различия между сегментами резко «скачет». Опять же, скорее всего в эти дни были крупные заказы и выбросы.\n",
    "\n",
    "#### Построение графика кумулятивного среднего количества заказов на посетителя по группам\n",
    "\n",
    "Аналогично проанализируем график кумулятивной конверсии. "
   ]
  },
  {
   "cell_type": "code",
   "execution_count": 23,
   "metadata": {},
   "outputs": [
    {
     "data": {
      "image/png": "[encoded data removed]",
      "text/plain": [
       "<Figure size 1080x360 with 1 Axes>"
      ]
     },
     "metadata": {
      "needs_background": "light"
     },
     "output_type": "display_data"
    }
   ],
   "source": [
    "# считаем кумулятивную конверсию\n",
    "cumulativeData['conversion'] = cumulativeData['orders']/cumulativeData['visitors']\n",
    "\n",
    "# отделяем данные по группе A\n",
    "cumulativeDataA = cumulativeData[cumulativeData['group']=='A']\n",
    "\n",
    "# отделяем данные по группе B\n",
    "cumulativeDataB = cumulativeData[cumulativeData['group']=='B']\n",
    "\n",
    "# строим графики\n",
    "fig, ax = plt.subplots(figsize=(15, 5))\n",
    "ax.plot(cumulativeDataA['date'], cumulativeDataA['conversion'], label='A')\n",
    "ax.plot(cumulativeDataB['date'], cumulativeDataB['conversion'], label='B')\n",
    "plt.legend()\n",
    "plt.xlabel('Дата')\n",
    "plt.grid(alpha=0.5)\n",
    "plt.title('График кумулятивного среднего количества заказов на посетителя по группам')\n",
    "plt.axis([dt.datetime(2019, 8, 1), dt.datetime(2019, 9, 1), 0, 0.05]);"
   ]
  },
  {
   "cell_type": "markdown",
   "metadata": {},
   "source": [
    "В первую неделю теста группа А имела большую конверсию, но постепенно группа В выровнялась и зафиксировалась примерно около одного значения больше значения А.\n",
    "\n",
    "#### Построение графика относительного изменения кумулятивного среднего количества заказов на посетителя группы B к группе A\n",
    "\n",
    "Построим график относительного различия кумулятивных конверсий."
   ]
  },
  {
   "cell_type": "code",
   "execution_count": 24,
   "metadata": {},
   "outputs": [
    {
     "data": {
      "image/png": "[encoded data removed]",
      "text/plain": [
       "<Figure size 1080x360 with 1 Axes>"
      ]
     },
     "metadata": {
      "needs_background": "light"
     },
     "output_type": "display_data"
    }
   ],
   "source": [
    "mergedCumulativeConversions = cumulativeDataA[['date','conversion']].merge(cumulativeDataB[['date','conversion']], left_on='date', right_on='date', how='left', suffixes=['A', 'B'])\n",
    "\n",
    "# cтроим отношение средних чеков\n",
    "fig = plt.figure(figsize=(15, 5))\n",
    "plt.plot(mergedCumulativeConversions['date'], mergedCumulativeConversions['conversionB']/\\\n",
    "         mergedCumulativeConversions['conversionA'] - 1)\n",
    "plt.minorticks_on()\n",
    "plt.xlabel('Дата')\n",
    "plt.grid(alpha=0.5)\n",
    "plt.title('График относительного изменения кумулятивного среднего количества заказов на посетителя группы B к группе A')\n",
    "plt.axhline(y=0, color='black', linestyle='--')\n",
    "plt.axhline(y=0.2, color='grey', linestyle='--')\n",
    "plt.axis([dt.datetime(2019, 8, 1), dt.datetime(2019, 9, 1), -0.5, 0.5]);"
   ]
  },
  {
   "cell_type": "markdown",
   "metadata": {},
   "source": [
    "Практически на протяжении всего теста конверсия группы В стабильно лучше, чем у группы А: середине августа прирост был достигнут прирост около 20%, однако, к концу месяца немного снизился.\n",
    "\n",
    "#### Построение точечного графика количества заказов по пользователям\n",
    "\n",
    "Подсчитаем количество заказов по пользователям."
   ]
  },
  {
   "cell_type": "code",
   "execution_count": 25,
   "metadata": {},
   "outputs": [
    {
     "name": "stdout",
     "output_type": "stream",
     "text": [
      "     visitor_id  orders\n",
      "908  3967698036       3\n",
      "55    249864742       3\n",
      "478  2108163459       3\n",
      "687  2988190573       3\n",
      "890  3908431265       3\n",
      "138   611059232       3\n",
      "632  2742574263       3\n",
      "157   678354126       2\n",
      "323  1404560065       2\n",
      "452  1985475298       2\n"
     ]
    }
   ],
   "source": [
    "ordersByUsers = (\n",
    "    orders.groupby('visitor_id', as_index=False)\n",
    "    .agg({'transaction_id': 'nunique'})\n",
    ")\n",
    "ordersByUsers.columns = ['visitor_id', 'orders']\n",
    "print(ordersByUsers.sort_values(by='orders', ascending=False).head(10))"
   ]
  },
  {
   "cell_type": "code",
   "execution_count": 26,
   "metadata": {
    "scrolled": true
   },
   "outputs": [
    {
     "data": {
      "image/png": "[encoded data removed]",
      "text/plain": [
       "<Figure size 1080x360 with 1 Axes>"
      ]
     },
     "metadata": {
      "needs_background": "light"
     },
     "output_type": "display_data"
    }
   ],
   "source": [
    "# строим гистограмму распределения числа заказов по пользователям\n",
    "fig = plt.figure(figsize=(15, 5))\n",
    "plt.hist(ordersByUsers['orders'])\n",
    "plt.xlabel('Количество заказов на пользователя')\n",
    "plt.ylabel('Количество пользователей')\n",
    "plt.title('Точечная диаграмма количества заказов по пользователям');"
   ]
  },
  {
   "cell_type": "markdown",
   "metadata": {},
   "source": [
    "Большинство покупателей совершили только один заказ.\\\n",
    "Построим точечную диаграмму числа заказов на одного пользователя."
   ]
  },
  {
   "cell_type": "code",
   "execution_count": 27,
   "metadata": {},
   "outputs": [
    {
     "data": {
      "image/png": "[encoded data removed]",
      "text/plain": [
       "<Figure size 1080x360 with 1 Axes>"
      ]
     },
     "metadata": {
      "needs_background": "light"
     },
     "output_type": "display_data"
    }
   ],
   "source": [
    "fig = plt.figure(figsize=(15, 5))\n",
    "x_values = pd.Series(range(0,len(ordersByUsers)))\n",
    "plt.scatter(x_values, ordersByUsers['orders']) \n",
    "plt.ylabel('Количество заказов на пользователя')\n",
    "plt.title('Точечная диаграмма количества заказов по пользователям')\n",
    "plt.show()"
   ]
  },
  {
   "cell_type": "markdown",
   "metadata": {},
   "source": [
    "Пользователей, заказавших более одного раза не так много и они вполне могут быть аномалными.\n",
    "\n",
    "#### Определение аномальных пользователей\n",
    "\n",
    "Посчитаем выборочные перцентили количества заказов на одного пользователя."
   ]
  },
  {
   "cell_type": "code",
   "execution_count": 28,
   "metadata": {},
   "outputs": [
    {
     "data": {
      "text/plain": [
       "count    973.000000\n",
       "mean       1.044193\n",
       "std        0.238090\n",
       "min        1.000000\n",
       "50%        1.000000\n",
       "95%        1.000000\n",
       "99%        2.000000\n",
       "max        3.000000\n",
       "Name: orders, dtype: float64"
      ]
     },
     "execution_count": 28,
     "metadata": {},
     "output_type": "execute_result"
    }
   ],
   "source": [
    "ordersByUsers['orders'].describe(percentiles=[0.95, 0.99])"
   ]
  },
  {
   "cell_type": "markdown",
   "metadata": {},
   "source": [
    "Не более 5% пользователей совершали более одного заказа и не более 1% - больше двух заказов.\\\n",
    "Будем считать аномальными пользователей, совершивших более двух заказов.\n",
    "\n",
    "#### Построение точечного графика стоимостей заказов\n",
    "\n",
    "Построим точечную диаграмму стоимостей заказов."
   ]
  },
  {
   "cell_type": "code",
   "execution_count": 29,
   "metadata": {},
   "outputs": [
    {
     "data": {
      "image/png": "[encoded data removed]",
      "text/plain": [
       "<Figure size 1080x360 with 1 Axes>"
      ]
     },
     "metadata": {
      "needs_background": "light"
     },
     "output_type": "display_data"
    }
   ],
   "source": [
    "fig = plt.figure(figsize=(15, 5))\n",
    "x_values = pd.Series(range(0,len(orders['revenue'])))\n",
    "plt.scatter(x_values, orders['revenue'])\n",
    "plt.ylabel('Стоимость заказа')\n",
    "plt.title('Точечная диаграмма стоимостей заказов');"
   ]
  },
  {
   "cell_type": "markdown",
   "metadata": {},
   "source": [
    "На диаграмме видны две бросающиеся в глаза аномалии - заказы стоимостью около 200 тыс.руб. и около 1,3 млн.руб., стоимость остальных заказов не превышает 100 тыс.руб. Увиличим масштаб диаграммы, посмотрим на заказы до 100 тыс.руб."
   ]
  },
  {
   "cell_type": "code",
   "execution_count": 30,
   "metadata": {},
   "outputs": [
    {
     "data": {
      "image/png": "[encoded data removed]",
      "text/plain": [
       "<Figure size 1080x360 with 1 Axes>"
      ]
     },
     "metadata": {
      "needs_background": "light"
     },
     "output_type": "display_data"
    }
   ],
   "source": [
    "fig = plt.figure(figsize=(15, 5))\n",
    "x_values = pd.Series(range(0,len(orders['revenue'])))\n",
    "plt.scatter(x_values, orders['revenue'])\n",
    "plt.ylabel('Стоимость заказа')\n",
    "plt.title('Точечная диаграмма стоимостей заказов')\n",
    "plt.ylim(0, 100000);"
   ]
  },
  {
   "cell_type": "markdown",
   "metadata": {},
   "source": [
    "Похоже, что у большинства заказов сумма не превышает 40 тыс.руб., посмотрим, что покажут перцентили.\n",
    "\n",
    "#### Определение аномальных заказов\n",
    "\n",
    "Посчитаем выборочные перцентили стоимости заказов."
   ]
  },
  {
   "cell_type": "code",
   "execution_count": 31,
   "metadata": {},
   "outputs": [
    {
     "data": {
      "text/plain": [
       "count    1.016000e+03\n",
       "mean     8.300815e+03\n",
       "std      4.212199e+04\n",
       "min      5.000000e+01\n",
       "50%      2.955000e+03\n",
       "95%      2.678500e+04\n",
       "99%      5.390400e+04\n",
       "max      1.294500e+06\n",
       "Name: revenue, dtype: float64"
      ]
     },
     "execution_count": 31,
     "metadata": {},
     "output_type": "execute_result"
    }
   ],
   "source": [
    "orders['revenue'].describe(percentiles=[0.95, 0.99])"
   ]
  },
  {
   "cell_type": "markdown",
   "metadata": {},
   "source": [
    "Не более 5% заказов стоят более 27 тыс.руб. и не более 1% - более 54 тыс.руб.\\\n",
    "Будем считать аномальными заказы, стоимостью более 27 тыс.руб.\n",
    "\n",
    "#### Расчет статистической значимости различий в среднем количестве заказов на посетителя между группами по «сырым» данным\n",
    "\n",
    "Посчитаем статистическую значимость различий в среднем числе заказов на пользователя между группами по «сырым» данным — без удаления аномальных пользователей.\\\n",
    "Сформулируем гипотезы.\\\n",
    "*Нулевая:* различий в среднем количестве заказов между группами нет.\\\n",
    "*Альтернативная:* различия в среднем между группами есть.\n",
    "\n",
    "Подготовим данные. "
   ]
  },
  {
   "cell_type": "code",
   "execution_count": 32,
   "metadata": {},
   "outputs": [
    {
     "name": "stdout",
     "output_type": "stream",
     "text": [
      "        date  ordersPerDateA  revenuePerDateA  ordersPerDateB  \\\n",
      "0 2019-08-01              23           142779              17   \n",
      "1 2019-08-02              19            91602              23   \n",
      "2 2019-08-03              24           112473              14   \n",
      "3 2019-08-04              11            41176              14   \n",
      "4 2019-08-05              22            86383              21   \n",
      "\n",
      "   revenuePerDateB  ordersCummulativeA  revenueCummulativeA  \\\n",
      "0            59758                  23               142779   \n",
      "1           162043                  42               234381   \n",
      "2            67049                  66               346854   \n",
      "3            96890                  77               388030   \n",
      "4            89908                  99               474413   \n",
      "\n",
      "   ordersCummulativeB  revenueCummulativeB  visitorsPerDateA  \\\n",
      "0                  17                59758               719   \n",
      "1                  40               221801               619   \n",
      "2                  54               288850               507   \n",
      "3                  68               385740               717   \n",
      "4                  89               475648               756   \n",
      "\n",
      "   visitorsPerDateB  visitorsCummulativeA  visitorsCummulativeB  \n",
      "0               713                   719                   713  \n",
      "1               581                  1338                  1294  \n",
      "2               509                  1845                  1803  \n",
      "3               770                  2562                  2573  \n",
      "4               707                  3318                  3280  \n"
     ]
    }
   ],
   "source": [
    "# отбирем данные о покупателях за каждый день анализируемого периода в группе А\n",
    "visitorsADaily = visitors[visitors['group'] == 'A'][['date', 'visitors']]\n",
    "visitorsADaily.columns = ['date', 'visitorsPerDateA']\n",
    "\n",
    "visitorsACummulative = visitorsADaily.apply(\n",
    "    lambda x: visitorsADaily[visitorsADaily['date'] <= x['date']].agg(\n",
    "        {'date': 'max', 'visitorsPerDateA': 'sum'}\n",
    "    ),\n",
    "    axis=1,\n",
    ")\n",
    "visitorsACummulative.columns = ['date', 'visitorsCummulativeA']\n",
    "\n",
    "# отбирем данные о покупателях за каждый день анализируемого периода в группе В\n",
    "visitorsBDaily = visitors[visitors['group'] == 'B'][['date', 'visitors']]\n",
    "visitorsBDaily.columns = ['date', 'visitorsPerDateB']\n",
    "\n",
    "visitorsBCummulative = visitorsBDaily.apply(\n",
    "    lambda x: visitorsBDaily[visitorsBDaily['date'] <= x['date']].agg(\n",
    "        {'date': 'max', 'visitorsPerDateB': 'sum'}\n",
    "    ),\n",
    "    axis=1,\n",
    ")\n",
    "visitorsBCummulative.columns = ['date', 'visitorsCummulativeB']\n",
    "\n",
    "# сгруппируем данные о покупках, совершенных в каждый день анализируемого периода в группе А\n",
    "ordersADaily = (\n",
    "    orders[orders['group'] == 'A'][['date', 'transaction_id', 'visitor_id', 'revenue']]\n",
    "    .groupby('date', as_index=False)\n",
    "    .agg({'transaction_id': pd.Series.nunique, 'revenue': 'sum'})\n",
    ")\n",
    "ordersADaily.columns = ['date', 'ordersPerDateA', 'revenuePerDateA']\n",
    "\n",
    "ordersACummulative = ordersADaily.apply(\n",
    "    lambda x: ordersADaily[ordersADaily['date'] <= x['date']].agg(\n",
    "        {'date': 'max', 'ordersPerDateA': 'sum', 'revenuePerDateA': 'sum'}\n",
    "    ),\n",
    "    axis=1,\n",
    ").sort_values(by=['date'])\n",
    "ordersACummulative.columns = [\n",
    "    'date',\n",
    "    'ordersCummulativeA',\n",
    "    'revenueCummulativeA',\n",
    "]\n",
    "\n",
    "# сгруппируем данные о покупках, совершенных в каждый день анализируемого периода в группе В\n",
    "ordersBDaily = (\n",
    "    orders[orders['group'] == 'B'][['date', 'transaction_id', 'visitor_id', 'revenue']]\n",
    "    .groupby('date', as_index=False)\n",
    "    .agg({'transaction_id': pd.Series.nunique, 'revenue': 'sum'})\n",
    ")\n",
    "ordersBDaily.columns = ['date', 'ordersPerDateB', 'revenuePerDateB']\n",
    "\n",
    "ordersBCummulative = ordersBDaily.apply(\n",
    "    lambda x: ordersBDaily[ordersBDaily['date'] <= x['date']].agg(\n",
    "        {'date': 'max', 'ordersPerDateB': 'sum', 'revenuePerDateB': 'sum'}\n",
    "    ),\n",
    "    axis=1,\n",
    ").sort_values(by=['date'])\n",
    "ordersBCummulative.columns = [\n",
    "    'date',\n",
    "    'ordersCummulativeB',\n",
    "    'revenueCummulativeB',\n",
    "]\n",
    "\n",
    "# объединим все полученные данные в один датафрейм\n",
    "data = (\n",
    "    ordersADaily.merge(\n",
    "        ordersBDaily, left_on='date', right_on='date', how='left'\n",
    "    )\n",
    "    .merge(ordersACummulative, left_on='date', right_on='date', how='left')\n",
    "    .merge(ordersBCummulative, left_on='date', right_on='date', how='left')\n",
    "    .merge(visitorsADaily, left_on='date', right_on='date', how='left')\n",
    "    .merge(visitorsBDaily, left_on='date', right_on='date', how='left')\n",
    "    .merge(visitorsACummulative, left_on='date', right_on='date', how='left')\n",
    "    .merge(visitorsBCummulative, left_on='date', right_on='date', how='left')\n",
    ")\n",
    "\n",
    "print(data.head())"
   ]
  },
  {
   "cell_type": "markdown",
   "metadata": {},
   "source": [
    "Названия столбцов в таблице:\n",
    "- `date` — дата;\n",
    "- `ordersPerDateA` — количество заказов в выбранную дату в группе A;\n",
    "- `revenuePerDateA` — суммарная выручка в выбранную дату в группе A;\n",
    "- `ordersPerDateB` — количество заказов в выбранную дату в группе B;\n",
    "- `revenuePerDateB` — суммарная выручка в выбранную дату в группе B;\n",
    "- `ordersCummulativeA` — суммарное число заказов до выбранной даты включительно в группе A;\n",
    "- `revenueCummulativeA` — суммарная выручка до выбранной даты включительно в группе A;\n",
    "- `ordersCummulativeB` — суммарное количество заказов до выбранной даты включительно в группе B;\n",
    "- `revenueCummulativeB` — суммарная выручка до выбранной даты включительно в группе B;\n",
    "- `visitorsPerDateA` — количество пользователей в выбранную дату в группе A;\n",
    "- `visitorsPerDateB` — количество пользователей в выбранную дату в группе B;\n",
    "- `visitorsCummulativeA` — количество пользователей до выбранной даты включительно в группе A;\n",
    "- `visitorsCummulativeB` — количество пользователей до выбранной даты включительно в группе B.\n",
    "\n",
    "Посчитаем статистическую значимость различия в среднем количестве заказов между группами.\n",
    "Создадим переменные `ordersByUsersA` и `ordersByUsersB` со столбцами `['visitor_id', 'orders']`. В них для пользователей, которые заказывали хотя бы 1 раз, укажем число совершённых заказов."
   ]
  },
  {
   "cell_type": "code",
   "execution_count": 33,
   "metadata": {},
   "outputs": [],
   "source": [
    "ordersByUsersA = (\n",
    "    orders[orders['group'] == 'A']\n",
    "    .groupby('visitor_id', as_index=False)\n",
    "    .agg({'transaction_id': pd.Series.nunique})\n",
    ")\n",
    "ordersByUsersA.columns = ['visitor_id', 'orders']\n",
    "\n",
    "ordersByUsersB = (\n",
    "    orders[orders['group'] == 'B']\n",
    "    .groupby('visitor_id', as_index=False)\n",
    "    .agg({'transaction_id': pd.Series.nunique})\n",
    ")\n",
    "ordersByUsersB.columns = ['visitor_id', 'orders']"
   ]
  },
  {
   "cell_type": "markdown",
   "metadata": {},
   "source": [
    "Объявим переменные `sampleA` и `sampleB`, в которых пользователям с заказами будет соответствовать число заказов пользователя. А пользователям без заказов — нули.\\\n",
    "Посчитаем статистическую значимость различия среднего количества заказов по результатам двух недель теста. Применим тест Манна-Уитни. "
   ]
  },
  {
   "cell_type": "code",
   "execution_count": 34,
   "metadata": {},
   "outputs": [
    {
     "name": "stdout",
     "output_type": "stream",
     "text": [
      "P-value: 0.011\n",
      "Относительное различие в среднем между группами: 0.160\n",
      "Отвергаем нулевую гипотезу\n"
     ]
    }
   ],
   "source": [
    "sampleA = pd.concat([ordersByUsersA['orders'],pd.Series(0, \\\n",
    "index=np.arange(data['visitorsPerDateA'].sum() - len(ordersByUsersA['orders'])), name='orders')],axis=0)\n",
    "\n",
    "sampleB = pd.concat([ordersByUsersB['orders'],pd.Series(0, \\\n",
    "index=np.arange(data['visitorsPerDateB'].sum() - len(ordersByUsersB['orders'])), name='orders')],axis=0)\n",
    "\n",
    "print('P-value:', \"{0:.3f}\".format(st.mannwhitneyu(sampleA, sampleB)[1]))\n",
    "print('Относительное различие в среднем между группами:', \"{0:.3f}\".format(sampleB.mean() / sampleA.mean() - 1))\n",
    "\n",
    "if st.mannwhitneyu(sampleA, sampleB)[1] < 0.05:\n",
    "    print('Отвергаем нулевую гипотезу')\n",
    "else:\n",
    "    print('Не получилось отвергнуть нулевую гипотезу')"
   ]
  },
  {
   "cell_type": "markdown",
   "metadata": {},
   "source": [
    "P-value значительно меньше 0.05, поэтому нулевую гипотезу отвергаем.\\\n",
    "Анализ \"сырых данных\" сообщает, что в среднем количестве заказов между группами есть статистически значимые различия.\\\n",
    "Относительный прирост среднего группы В к конверсии группы А равен 16%.\n",
    "\n",
    "#### Расчет статистической значимости различий в среднем чеке заказа между группами по «сырым» данным\n",
    "\n",
    "Теперь проверим статистическую значимость различий в среднем чеке между сегментами.\\\n",
    "*Нулевая гипотез:* различий в среднем чеке между группами нет.\\\n",
    "*Альтернативная гипотеза:* различия в среднем чеке между группами есть.\\\n",
    "Чтобы рассчитать статистическую значимость различий в среднем чеке, передадим критерию `mannwhitneyu()` данные о выручке с заказов.\\\n",
    "А ещё найдём относительные различия в среднем чеке между группами:"
   ]
  },
  {
   "cell_type": "code",
   "execution_count": 35,
   "metadata": {},
   "outputs": [
    {
     "name": "stdout",
     "output_type": "stream",
     "text": [
      "P-value: 0.829\n",
      "Относительный прирост среднего чека группы B: 0.287\n",
      "Не получилось отвергнуть нулевую гипотезу\n"
     ]
    }
   ],
   "source": [
    "print('P-value:', '{0:.3f}'.format(st.mannwhitneyu(orders[orders['group']=='A']['revenue'], \\\n",
    "                                                   orders[orders['group']=='B']['revenue'])[1]))\n",
    "print('Относительный прирост среднего чека группы B:', \\\n",
    "      '{0:.3f}'.format(orders[orders['group']=='B']['revenue'].mean()/orders[orders['group']=='A']['revenue'].mean()-1))\n",
    "\n",
    "if st.mannwhitneyu(orders[orders['group']=='A']['revenue'], orders[orders['group']=='B']['revenue'])[1] < 0.05:\n",
    "    print('Отвергаем нулевую гипотезу')\n",
    "else:\n",
    "    print('Не получилось отвергнуть нулевую гипотезу')"
   ]
  },
  {
   "cell_type": "markdown",
   "metadata": {},
   "source": [
    "P-value значительно больше 0.05. Значит, причин отвергать нулевую гипотезу и считать, что в среднем чеке есть различия, нет. При этом, средний чек группы B значительно выше среднего чека группы A — относительное различие между группами 28.7%. Возможно, что причина такого прироста в выбросах, которые мы наблюдали ранее.\n",
    "\n",
    "#### Расчет статистической значимости различий в среднем количестве заказов на посетителя между группами по «очищенным» данным\n",
    "\n",
    "Ранее за аномальных пользователей мы приняли тех, кто сделал более 2 заказов или совершил заказ дороже 27 тыс.руб. Так мы уберём 1% пользователей с наибольшим числом заказов и от 1% до 5% пользователей с дорогими заказами. Сделаем срезы пользователей с числом заказов больше 2 — `usersWithManyOrders` и пользователей, совершивших заказы дороже 27000 — `usersWithExpensiveOrders`. Объединим их в таблице `abnormalUsers`. "
   ]
  },
  {
   "cell_type": "code",
   "execution_count": 36,
   "metadata": {},
   "outputs": [
    {
     "name": "stdout",
     "output_type": "stream",
     "text": [
      "487    113298937\n",
      "937    148427295\n",
      "792    204675465\n",
      "33     249864742\n",
      "586    358944393\n",
      "Name: visitor_id, dtype: int64\n",
      "\n",
      " Количество аномальных пользователей: 58\n"
     ]
    }
   ],
   "source": [
    "usersWithManyOrders = pd.concat(\n",
    "    [\n",
    "        ordersByUsersA[ordersByUsersA['orders'] > int(np.percentile(ordersByUsersA['orders'], [99]))]['visitor_id'],\n",
    "        ordersByUsersB[ordersByUsersB['orders'] > int(np.percentile(ordersByUsersA['orders'], [99]))]['visitor_id'],\n",
    "    ],\n",
    "    axis=0,\n",
    ")\n",
    "usersWithExpensiveOrders = orders[orders['revenue'] > int(np.percentile(orders['revenue'], [95]))]['visitor_id']\n",
    "abnormalUsers = (\n",
    "    pd.concat([usersWithManyOrders, usersWithExpensiveOrders], axis=0)\n",
    "    .drop_duplicates()\n",
    "    .sort_values()\n",
    ")\n",
    "print(abnormalUsers.head())\n",
    "print('\\n', 'Количество аномальных пользователей:', abnormalUsers.shape[0])"
   ]
  },
  {
   "cell_type": "markdown",
   "metadata": {},
   "source": [
    "Всего 58 аномальных пользователей. \n",
    "Узнаем, как их действия повлияли на результаты теста. Посчитаем статистическую значимость различий в среднем количестве заказов между группами теста по очищенным данным. Сначала подготовим выборки количества заказов по пользователям по группам теста:"
   ]
  },
  {
   "cell_type": "code",
   "execution_count": 37,
   "metadata": {},
   "outputs": [],
   "source": [
    "sampleAFiltered = pd.concat(\n",
    "    [\n",
    "        ordersByUsersA[\n",
    "            np.logical_not(ordersByUsersA['visitor_id'].isin(abnormalUsers))\n",
    "        ]['orders'],\n",
    "        pd.Series(\n",
    "            0,\n",
    "            index=np.arange(\n",
    "                data['visitorsPerDateA'].sum() - len(ordersByUsersA['orders'])\n",
    "            ),\n",
    "            name='orders',\n",
    "        ),\n",
    "    ],\n",
    "    axis=0,\n",
    ")\n",
    "\n",
    "sampleBFiltered = pd.concat(\n",
    "    [\n",
    "        ordersByUsersB[\n",
    "            np.logical_not(ordersByUsersB['visitor_id'].isin(abnormalUsers))\n",
    "        ]['orders'],\n",
    "        pd.Series(\n",
    "            0,\n",
    "            index=np.arange(\n",
    "                data['visitorsPerDateB'].sum() - len(ordersByUsersB['orders'])\n",
    "            ),\n",
    "            name='orders',\n",
    "        ),\n",
    "    ],\n",
    "    axis=0,\n",
    ")"
   ]
  },
  {
   "cell_type": "code",
   "execution_count": 38,
   "metadata": {},
   "outputs": [
    {
     "name": "stdout",
     "output_type": "stream",
     "text": [
      "P-value: 0.012\n",
      "Относительное различие в среднем между группами: 0.182\n",
      "Отвергаем нулевую гипотезу\n"
     ]
    }
   ],
   "source": [
    "print('P-value:', '{0:.3f}'.format(st.mannwhitneyu(sampleAFiltered, sampleBFiltered)[1]))\n",
    "print('Относительное различие в среднем между группами:', \\\n",
    "      '{0:.3f}'.format(sampleBFiltered.mean()/sampleAFiltered.mean()-1))\n",
    "\n",
    "if st.mannwhitneyu(sampleAFiltered, sampleBFiltered)[1] < 0.05:\n",
    "    print('Отвергаем нулевую гипотезу')\n",
    "else:\n",
    "    print('Не получилось отвергнуть нулевую гипотезу')"
   ]
  },
  {
   "cell_type": "markdown",
   "metadata": {},
   "source": [
    "Результаты по среднему количеству заказов практически не изменились, статистическая значимость достигнута. Группа В значительно лучше группы А.\n",
    "\n",
    "#### Расчет статистической значимости различий в среднем чеке заказа между группами по «очищенным» данным\n",
    "\n",
    "Посмотрим как изменились результаты по среднему чеку."
   ]
  },
  {
   "cell_type": "code",
   "execution_count": 39,
   "metadata": {},
   "outputs": [
    {
     "name": "stdout",
     "output_type": "stream",
     "text": [
      "P-value: 0.646\n",
      "Относительный прирост среднего чека группы B: -0.048\n",
      "Не получилось отвергнуть нулевую гипотезу\n"
     ]
    }
   ],
   "source": [
    "print('P-value:', \n",
    "    '{0:.3f}'.format(\n",
    "        st.mannwhitneyu(\n",
    "            orders[\n",
    "                np.logical_and(\n",
    "                    orders['group'] == 'A',\n",
    "                    np.logical_not(orders['visitor_id'].isin(abnormalUsers)),\n",
    "                )\n",
    "            ]['revenue'],\n",
    "            orders[\n",
    "                np.logical_and(\n",
    "                    orders['group'] == 'B',\n",
    "                    np.logical_not(orders['visitor_id'].isin(abnormalUsers)),\n",
    "                )\n",
    "            ]['revenue'],\n",
    "        )[1]\n",
    "    )\n",
    ")\n",
    "\n",
    "print('Относительный прирост среднего чека группы B:', \n",
    "    \"{0:.3f}\".format(\n",
    "        orders[\n",
    "            np.logical_and(\n",
    "                orders['group'] == 'B',\n",
    "                np.logical_not(orders['visitor_id'].isin(abnormalUsers)),\n",
    "            )\n",
    "        ]['revenue'].mean()\n",
    "        / orders[\n",
    "            np.logical_and(\n",
    "                orders['group'] == 'A',\n",
    "                np.logical_not(orders['visitor_id'].isin(abnormalUsers)),\n",
    "            )\n",
    "        ]['revenue'].mean()\n",
    "        - 1\n",
    "    )\n",
    ")\n",
    "\n",
    "if st.mannwhitneyu(orders[np.logical_and(orders['group'] == 'A', \\\n",
    "                   np.logical_not(orders['visitor_id'].isin(abnormalUsers)))]['revenue'], \\\n",
    "                   orders[np.logical_and(orders['group'] == 'B', \\\n",
    "                   np.logical_not(orders['visitor_id'].isin(abnormalUsers)))]['revenue'])[1] < 0.05:\n",
    "    print('Отвергаем нулевую гипотезу')\n",
    "else:\n",
    "    print('Не получилось отвергнуть нулевую гипотезу')"
   ]
  },
  {
   "cell_type": "markdown",
   "metadata": {},
   "source": [
    "P-value немного уменьшился по сравнению с \"сырыми данными\", но нулевую гипотезу по-прежнему не отвергаем. При этом после того, как из выборки убрали \"выбросы\", прирост среднего чека группы В относительно среднего чека группы А пропал и средний чек группы В даже стал немного меньше, чем средний чек группы А.\n",
    "\n",
    "**Выводы по анализу A/B-теста**\n",
    "\n",
    "- кумулятивная выручка по обеим группам растет на протяжении всего теста, однако в группе В наблюдается резкий \"скачок\" в районе 18 августа, который сигнализирует о наличии аномально дорогих заказах в выборке;\n",
    "- кумулятиный средний чек в группе В выше, чем в группе А, что опять же является следствием зафиксированного \"выброса\";\n",
    "- кумулятивная конверсия в группе В выше, чем в группе А;\n",
    "- подавляющее большинство пользователей совершило один заказ, в связи с чем клиенты, совершившие более одного заказа были определены как аномальные;\n",
    "- стоимость большинства заказов не превышает 27 тыс.руб., поэтому более дорогие заказы определили как аномальные;\n",
    "- расчет статистической значимости различий в среднем количестве заказов на посетителя между группами по «сырым» данным показал, что в среднем количестве заказов между группами есть статистически значимые различия. Относительный прирост среднего группы В к конверсии группы А равен 16%;\n",
    "- расчет статистической значимости различий в среднем чеке заказа между группами по «сырым» данным показал, что статистически значимых различий нет. При этом, средний чек группы B значительно выше среднего чека группы A — относительное различие между группами 28.7%;\n",
    "- расчет статистической значимости различий в среднем количестве заказов на посетителя между группами по «очищенным» данным показал практически такой же результат как по «сырым» данным;\n",
    "- расчет статистической значимости различий в среднем чеке заказа между группами по «очищенным» данным также показал, что статистически значимых различий нет. При этом средний чек группы В потерял свое преимущество по сравнению со средним чеком группы А и даже стал немного меньше.\n",
    "\n",
    "### Общие выводы и принятие решения по результатам теста\n",
    "\n",
    "Подведем итоги проведенного исследования.\n",
    "\n",
    "1. На начальном этапе исследования была проведена предобработка данных: проверили данные на наличие пропусков, явных дубликатов и аномалий. Были обнаружены пользователи, которые присутствовали одновременно в двух группах. Во избежание искажения результатов, пересекающиеся пользователи из выборки были исключены. Также для удобства анализа названия столбцов были приведены к \"змеиному\" регистру и у значений в столбцах с датой/временем тип данных поменяли на соответствующий.\n",
    "2. Далее из 9 предоставленных гипотез посредством фреймворков ICE и RICE выбрали гипотезу \"Добавить форму подписки на все основные страницы, чтобы собрать базу клиентов для email-рассылок\" как приоритетную.\n",
    "3. Проанализировав проведенный А/В-тест можно вывести основные тезисы:\n",
    "- есть статистически значимые различия по среднему количеству заказов между группами и по \"сырым\", и по данным после фильтрации аномалий;\n",
    "- нет статистически значимого различия по среднему чеку между группами ни по \"сырым\", ни по данным после фильтрации аномалий;\n",
    "- график относительного различия кумулятивных конверсий показывает, что результаты группы B лучше группы A на порядка 16-18%;\n",
    "- график различия среднего чека говорит о том, что результаты группы B лучше почти на 29%, но такой эффект был достигнут за счет \"выбросов\", а анализ \"очищенных\" данных показал, что средние чеки по группам практически не отличаются.\n",
    "4. Исходя из вышеизложенного, тест следует остановить и признать победу группы В, но только в части конверсии."
   ]
  }
 ],
 "metadata": {
  "ExecuteTimeLog": [
   {
    "duration": 1021,
    "start_time": "2023-05-01T10:24:27.021Z"
   },
   {
    "duration": 226,
    "start_time": "2023-05-01T10:24:29.944Z"
   },
   {
    "duration": 74,
    "start_time": "2023-05-01T10:26:32.391Z"
   },
   {
    "duration": 58,
    "start_time": "2023-05-01T10:27:49.947Z"
   },
   {
    "duration": 1229,
    "start_time": "2023-05-01T17:18:16.605Z"
   },
   {
    "duration": 250,
    "start_time": "2023-05-01T17:18:17.837Z"
   },
   {
    "duration": 57,
    "start_time": "2023-05-01T17:18:18.088Z"
   },
   {
    "duration": 6,
    "start_time": "2023-05-01T17:18:18.147Z"
   },
   {
    "duration": 64,
    "start_time": "2023-05-01T17:18:39.188Z"
   },
   {
    "duration": 7,
    "start_time": "2023-05-01T17:19:57.400Z"
   },
   {
    "duration": 85,
    "start_time": "2023-05-01T17:20:00.176Z"
   },
   {
    "duration": 1157,
    "start_time": "2023-05-01T17:21:33.753Z"
   },
   {
    "duration": 132,
    "start_time": "2023-05-01T17:21:34.913Z"
   },
   {
    "duration": 69,
    "start_time": "2023-05-01T17:21:35.047Z"
   },
   {
    "duration": 5,
    "start_time": "2023-05-01T17:21:35.119Z"
   },
   {
    "duration": 106,
    "start_time": "2023-05-01T17:21:35.158Z"
   },
   {
    "duration": 58,
    "start_time": "2023-05-01T17:31:52.488Z"
   },
   {
    "duration": 1129,
    "start_time": "2023-05-01T17:40:47.291Z"
   },
   {
    "duration": 143,
    "start_time": "2023-05-01T17:40:48.423Z"
   },
   {
    "duration": 97,
    "start_time": "2023-05-01T17:40:48.570Z"
   },
   {
    "duration": 14,
    "start_time": "2023-05-01T17:40:48.670Z"
   },
   {
    "duration": 10,
    "start_time": "2023-05-01T17:40:48.687Z"
   },
   {
    "duration": 88,
    "start_time": "2023-05-01T17:40:48.700Z"
   },
   {
    "duration": 98,
    "start_time": "2023-05-01T17:46:52.064Z"
   },
   {
    "duration": 44,
    "start_time": "2023-05-01T20:58:03.713Z"
   },
   {
    "duration": 1112,
    "start_time": "2023-05-01T20:58:39.656Z"
   },
   {
    "duration": 313,
    "start_time": "2023-05-01T20:58:40.770Z"
   },
   {
    "duration": 44,
    "start_time": "2023-05-01T20:58:41.084Z"
   },
   {
    "duration": 4,
    "start_time": "2023-05-01T20:58:41.130Z"
   },
   {
    "duration": 9,
    "start_time": "2023-05-01T20:58:41.135Z"
   },
   {
    "duration": 11,
    "start_time": "2023-05-01T20:58:41.145Z"
   },
   {
    "duration": 7,
    "start_time": "2023-05-01T21:01:55.023Z"
   },
   {
    "duration": 40,
    "start_time": "2023-05-01T21:53:54.388Z"
   },
   {
    "duration": 41,
    "start_time": "2023-05-01T21:54:10.105Z"
   },
   {
    "duration": 4,
    "start_time": "2023-05-01T22:07:13.143Z"
   },
   {
    "duration": 3,
    "start_time": "2023-05-01T22:08:23.407Z"
   },
   {
    "duration": 7,
    "start_time": "2023-05-01T22:08:59.137Z"
   },
   {
    "duration": 3,
    "start_time": "2023-05-01T22:10:19.394Z"
   },
   {
    "duration": 4,
    "start_time": "2023-05-01T22:10:28.457Z"
   },
   {
    "duration": 9,
    "start_time": "2023-05-01T22:14:57.542Z"
   },
   {
    "duration": 10,
    "start_time": "2023-05-01T22:15:17.637Z"
   },
   {
    "duration": 5,
    "start_time": "2023-05-01T22:15:38.008Z"
   },
   {
    "duration": 4,
    "start_time": "2023-05-01T22:16:01.072Z"
   },
   {
    "duration": 13,
    "start_time": "2023-05-01T22:16:05.161Z"
   },
   {
    "duration": 3,
    "start_time": "2023-05-01T22:16:16.861Z"
   },
   {
    "duration": 4,
    "start_time": "2023-05-01T22:16:19.663Z"
   },
   {
    "duration": 2,
    "start_time": "2023-05-01T22:16:45.004Z"
   },
   {
    "duration": 93,
    "start_time": "2023-05-01T22:17:03.016Z"
   },
   {
    "duration": 4,
    "start_time": "2023-05-01T22:17:32.465Z"
   },
   {
    "duration": 3,
    "start_time": "2023-05-01T22:19:20.669Z"
   },
   {
    "duration": 13,
    "start_time": "2023-05-01T22:19:29.502Z"
   },
   {
    "duration": 4,
    "start_time": "2023-05-01T22:21:28.784Z"
   },
   {
    "duration": 3,
    "start_time": "2023-05-01T22:25:33.575Z"
   },
   {
    "duration": 4,
    "start_time": "2023-05-01T22:25:36.257Z"
   },
   {
    "duration": 8,
    "start_time": "2023-05-01T22:26:29.136Z"
   },
   {
    "duration": 9,
    "start_time": "2023-05-01T22:35:12.541Z"
   },
   {
    "duration": 9,
    "start_time": "2023-05-01T22:35:21.471Z"
   },
   {
    "duration": 7,
    "start_time": "2023-05-01T22:36:01.187Z"
   },
   {
    "duration": 8,
    "start_time": "2023-05-01T22:36:10.546Z"
   },
   {
    "duration": 7,
    "start_time": "2023-05-01T22:36:29.400Z"
   },
   {
    "duration": 5,
    "start_time": "2023-05-01T22:38:01.035Z"
   },
   {
    "duration": 12,
    "start_time": "2023-05-01T22:38:06.218Z"
   },
   {
    "duration": 8,
    "start_time": "2023-05-02T08:39:44.219Z"
   },
   {
    "duration": 52,
    "start_time": "2023-05-02T08:40:05.056Z"
   },
   {
    "duration": 1282,
    "start_time": "2023-05-02T08:40:25.593Z"
   },
   {
    "duration": 257,
    "start_time": "2023-05-02T08:40:26.881Z"
   },
   {
    "duration": 58,
    "start_time": "2023-05-02T08:40:27.140Z"
   },
   {
    "duration": 4,
    "start_time": "2023-05-02T08:40:27.199Z"
   },
   {
    "duration": 11,
    "start_time": "2023-05-02T08:40:27.205Z"
   },
   {
    "duration": 17,
    "start_time": "2023-05-02T08:40:27.217Z"
   },
   {
    "duration": 36,
    "start_time": "2023-05-02T08:40:27.235Z"
   },
   {
    "duration": 15,
    "start_time": "2023-05-02T08:40:27.273Z"
   },
   {
    "duration": 11,
    "start_time": "2023-05-02T08:40:27.290Z"
   },
   {
    "duration": 14,
    "start_time": "2023-05-02T08:40:27.303Z"
   },
   {
    "duration": 12,
    "start_time": "2023-05-02T08:40:27.319Z"
   },
   {
    "duration": 10,
    "start_time": "2023-05-02T08:40:27.333Z"
   },
   {
    "duration": 19,
    "start_time": "2023-05-02T08:40:27.344Z"
   },
   {
    "duration": 107,
    "start_time": "2023-05-02T08:40:27.368Z"
   },
   {
    "duration": 0,
    "start_time": "2023-05-02T08:40:27.478Z"
   },
   {
    "duration": 0,
    "start_time": "2023-05-02T08:40:27.479Z"
   },
   {
    "duration": 0,
    "start_time": "2023-05-02T08:40:27.481Z"
   },
   {
    "duration": 0,
    "start_time": "2023-05-02T08:40:27.482Z"
   },
   {
    "duration": 0,
    "start_time": "2023-05-02T08:40:27.483Z"
   },
   {
    "duration": 3,
    "start_time": "2023-05-02T08:41:17.798Z"
   },
   {
    "duration": 5,
    "start_time": "2023-05-02T08:41:22.321Z"
   },
   {
    "duration": 135,
    "start_time": "2023-05-02T08:57:25.712Z"
   },
   {
    "duration": 160,
    "start_time": "2023-05-02T08:57:56.376Z"
   },
   {
    "duration": 3,
    "start_time": "2023-05-02T08:58:08.956Z"
   },
   {
    "duration": 5,
    "start_time": "2023-05-02T08:58:12.554Z"
   },
   {
    "duration": 3,
    "start_time": "2023-05-02T08:58:44.444Z"
   },
   {
    "duration": 5,
    "start_time": "2023-05-02T08:58:48.113Z"
   },
   {
    "duration": 4,
    "start_time": "2023-05-02T09:08:56.617Z"
   },
   {
    "duration": 1099,
    "start_time": "2023-05-02T09:09:40.945Z"
   },
   {
    "duration": 135,
    "start_time": "2023-05-02T09:09:42.046Z"
   },
   {
    "duration": 49,
    "start_time": "2023-05-02T09:09:42.182Z"
   },
   {
    "duration": 11,
    "start_time": "2023-05-02T09:09:42.233Z"
   },
   {
    "duration": 87,
    "start_time": "2023-05-02T09:09:42.246Z"
   },
   {
    "duration": 14,
    "start_time": "2023-05-02T09:09:42.334Z"
   },
   {
    "duration": 21,
    "start_time": "2023-05-02T09:09:42.349Z"
   },
   {
    "duration": 18,
    "start_time": "2023-05-02T09:09:42.372Z"
   },
   {
    "duration": 11,
    "start_time": "2023-05-02T09:09:42.392Z"
   },
   {
    "duration": 7,
    "start_time": "2023-05-02T09:09:42.404Z"
   },
   {
    "duration": 5,
    "start_time": "2023-05-02T09:09:42.412Z"
   },
   {
    "duration": 102,
    "start_time": "2023-05-02T09:09:42.419Z"
   },
   {
    "duration": 0,
    "start_time": "2023-05-02T09:09:42.523Z"
   },
   {
    "duration": 0,
    "start_time": "2023-05-02T09:09:42.524Z"
   },
   {
    "duration": 0,
    "start_time": "2023-05-02T09:09:42.525Z"
   },
   {
    "duration": 0,
    "start_time": "2023-05-02T09:09:42.526Z"
   },
   {
    "duration": 0,
    "start_time": "2023-05-02T09:09:42.527Z"
   },
   {
    "duration": 1087,
    "start_time": "2023-05-02T09:10:16.830Z"
   },
   {
    "duration": 117,
    "start_time": "2023-05-02T09:10:17.919Z"
   },
   {
    "duration": 58,
    "start_time": "2023-05-02T09:10:18.037Z"
   },
   {
    "duration": 3,
    "start_time": "2023-05-02T09:10:18.097Z"
   },
   {
    "duration": 9,
    "start_time": "2023-05-02T09:10:18.103Z"
   },
   {
    "duration": 14,
    "start_time": "2023-05-02T09:10:18.113Z"
   },
   {
    "duration": 10,
    "start_time": "2023-05-02T09:10:18.129Z"
   },
   {
    "duration": 14,
    "start_time": "2023-05-02T09:10:18.159Z"
   },
   {
    "duration": 4,
    "start_time": "2023-05-02T09:10:18.176Z"
   },
   {
    "duration": 8,
    "start_time": "2023-05-02T09:10:18.182Z"
   },
   {
    "duration": 4,
    "start_time": "2023-05-02T09:10:18.192Z"
   },
   {
    "duration": 11,
    "start_time": "2023-05-02T09:10:18.198Z"
   },
   {
    "duration": 22,
    "start_time": "2023-05-02T09:10:18.210Z"
   },
   {
    "duration": 39,
    "start_time": "2023-05-02T09:10:18.234Z"
   },
   {
    "duration": 5,
    "start_time": "2023-05-02T09:10:18.275Z"
   },
   {
    "duration": 37,
    "start_time": "2023-05-02T09:10:18.281Z"
   },
   {
    "duration": 5,
    "start_time": "2023-05-02T09:25:41.579Z"
   },
   {
    "duration": 12,
    "start_time": "2023-05-02T09:25:47.337Z"
   },
   {
    "duration": 11,
    "start_time": "2023-05-02T09:25:57.177Z"
   },
   {
    "duration": 74,
    "start_time": "2023-05-02T09:26:53.649Z"
   },
   {
    "duration": 10,
    "start_time": "2023-05-02T09:27:17.409Z"
   },
   {
    "duration": 95,
    "start_time": "2023-05-02T09:28:29.812Z"
   },
   {
    "duration": 10,
    "start_time": "2023-05-02T09:28:36.953Z"
   },
   {
    "duration": 15,
    "start_time": "2023-05-02T09:45:21.032Z"
   },
   {
    "duration": 17,
    "start_time": "2023-05-02T09:46:02.600Z"
   },
   {
    "duration": 117,
    "start_time": "2023-05-02T10:24:25.614Z"
   },
   {
    "duration": 8,
    "start_time": "2023-05-02T10:24:34.609Z"
   },
   {
    "duration": 9,
    "start_time": "2023-05-02T10:24:58.409Z"
   },
   {
    "duration": 50,
    "start_time": "2023-05-02T13:10:37.784Z"
   },
   {
    "duration": 1093,
    "start_time": "2023-05-02T13:10:49.852Z"
   },
   {
    "duration": 287,
    "start_time": "2023-05-02T13:10:50.947Z"
   },
   {
    "duration": 46,
    "start_time": "2023-05-02T13:10:51.236Z"
   },
   {
    "duration": 4,
    "start_time": "2023-05-02T13:10:51.284Z"
   },
   {
    "duration": 23,
    "start_time": "2023-05-02T13:10:51.290Z"
   },
   {
    "duration": 11,
    "start_time": "2023-05-02T13:10:51.315Z"
   },
   {
    "duration": 10,
    "start_time": "2023-05-02T13:10:51.328Z"
   },
   {
    "duration": 3,
    "start_time": "2023-05-02T13:10:51.340Z"
   },
   {
    "duration": 15,
    "start_time": "2023-05-02T13:10:51.344Z"
   },
   {
    "duration": 5,
    "start_time": "2023-05-02T13:10:51.361Z"
   },
   {
    "duration": 15,
    "start_time": "2023-05-02T13:10:51.367Z"
   },
   {
    "duration": 23,
    "start_time": "2023-05-02T13:10:51.383Z"
   },
   {
    "duration": 5,
    "start_time": "2023-05-02T13:10:51.407Z"
   },
   {
    "duration": 11,
    "start_time": "2023-05-02T13:10:51.413Z"
   },
   {
    "duration": 7,
    "start_time": "2023-05-02T13:10:51.426Z"
   },
   {
    "duration": 15,
    "start_time": "2023-05-02T13:10:51.434Z"
   },
   {
    "duration": 14,
    "start_time": "2023-05-02T13:10:51.453Z"
   },
   {
    "duration": 12,
    "start_time": "2023-05-02T13:10:51.468Z"
   },
   {
    "duration": 18,
    "start_time": "2023-05-02T13:10:51.494Z"
   },
   {
    "duration": 5,
    "start_time": "2023-05-02T13:10:51.513Z"
   },
   {
    "duration": 18,
    "start_time": "2023-05-02T13:10:51.519Z"
   },
   {
    "duration": 3,
    "start_time": "2023-05-02T13:11:59.739Z"
   },
   {
    "duration": 12,
    "start_time": "2023-05-02T13:19:17.767Z"
   },
   {
    "duration": 13,
    "start_time": "2023-05-02T13:19:56.539Z"
   },
   {
    "duration": 18,
    "start_time": "2023-05-02T13:20:01.610Z"
   },
   {
    "duration": 9,
    "start_time": "2023-05-02T13:21:10.217Z"
   },
   {
    "duration": 15,
    "start_time": "2023-05-02T13:24:06.227Z"
   },
   {
    "duration": 20,
    "start_time": "2023-05-02T13:35:05.111Z"
   },
   {
    "duration": 104,
    "start_time": "2023-05-02T13:42:06.622Z"
   },
   {
    "duration": 17,
    "start_time": "2023-05-02T13:42:21.963Z"
   },
   {
    "duration": 1055,
    "start_time": "2023-05-02T13:42:35.031Z"
   },
   {
    "duration": 154,
    "start_time": "2023-05-02T13:42:36.088Z"
   },
   {
    "duration": 61,
    "start_time": "2023-05-02T13:42:36.245Z"
   },
   {
    "duration": 3,
    "start_time": "2023-05-02T13:42:36.308Z"
   },
   {
    "duration": 6,
    "start_time": "2023-05-02T13:42:36.314Z"
   },
   {
    "duration": 24,
    "start_time": "2023-05-02T13:42:36.322Z"
   },
   {
    "duration": 13,
    "start_time": "2023-05-02T13:42:36.348Z"
   },
   {
    "duration": 35,
    "start_time": "2023-05-02T13:42:36.363Z"
   },
   {
    "duration": 10,
    "start_time": "2023-05-02T13:42:36.400Z"
   },
   {
    "duration": 31,
    "start_time": "2023-05-02T13:42:36.414Z"
   },
   {
    "duration": 16,
    "start_time": "2023-05-02T13:42:36.447Z"
   },
   {
    "duration": 23,
    "start_time": "2023-05-02T13:42:36.465Z"
   },
   {
    "duration": 42,
    "start_time": "2023-05-02T13:42:36.490Z"
   },
   {
    "duration": 9,
    "start_time": "2023-05-02T13:42:36.535Z"
   },
   {
    "duration": 9,
    "start_time": "2023-05-02T13:42:36.546Z"
   },
   {
    "duration": 9,
    "start_time": "2023-05-02T13:42:36.557Z"
   },
   {
    "duration": 21,
    "start_time": "2023-05-02T13:42:36.569Z"
   },
   {
    "duration": 38,
    "start_time": "2023-05-02T13:42:36.593Z"
   },
   {
    "duration": 11,
    "start_time": "2023-05-02T13:42:36.633Z"
   },
   {
    "duration": 23,
    "start_time": "2023-05-02T13:42:36.646Z"
   },
   {
    "duration": 20,
    "start_time": "2023-05-02T13:42:36.671Z"
   },
   {
    "duration": 20,
    "start_time": "2023-05-02T13:42:36.696Z"
   },
   {
    "duration": 10,
    "start_time": "2023-05-02T13:52:34.631Z"
   },
   {
    "duration": 10,
    "start_time": "2023-05-02T13:54:09.058Z"
   },
   {
    "duration": 11,
    "start_time": "2023-05-02T13:54:20.642Z"
   },
   {
    "duration": 15,
    "start_time": "2023-05-02T13:54:30.620Z"
   },
   {
    "duration": 13,
    "start_time": "2023-05-02T14:06:18.273Z"
   },
   {
    "duration": 11,
    "start_time": "2023-05-02T15:59:19.411Z"
   },
   {
    "duration": 11,
    "start_time": "2023-05-02T16:00:07.452Z"
   },
   {
    "duration": 11,
    "start_time": "2023-05-02T16:00:27.983Z"
   },
   {
    "duration": 6,
    "start_time": "2023-05-02T16:48:49.923Z"
   },
   {
    "duration": 88,
    "start_time": "2023-05-02T16:52:58.679Z"
   },
   {
    "duration": 28,
    "start_time": "2023-05-02T16:53:01.848Z"
   },
   {
    "duration": 7,
    "start_time": "2023-05-02T16:53:05.244Z"
   },
   {
    "duration": 27,
    "start_time": "2023-05-02T16:56:43.560Z"
   },
   {
    "duration": 7,
    "start_time": "2023-05-02T16:57:41.618Z"
   },
   {
    "duration": 25,
    "start_time": "2023-05-02T16:57:45.570Z"
   },
   {
    "duration": 8,
    "start_time": "2023-05-02T16:58:35.811Z"
   },
   {
    "duration": 7,
    "start_time": "2023-05-02T17:00:29.110Z"
   },
   {
    "duration": 321,
    "start_time": "2023-05-02T17:00:54.004Z"
   },
   {
    "duration": 14,
    "start_time": "2023-05-02T17:01:00.677Z"
   },
   {
    "duration": 57,
    "start_time": "2023-05-02T18:35:17.704Z"
   },
   {
    "duration": 1281,
    "start_time": "2023-05-02T18:37:40.968Z"
   },
   {
    "duration": 307,
    "start_time": "2023-05-02T18:37:42.251Z"
   },
   {
    "duration": 52,
    "start_time": "2023-05-02T18:37:42.560Z"
   },
   {
    "duration": 4,
    "start_time": "2023-05-02T18:37:42.614Z"
   },
   {
    "duration": 12,
    "start_time": "2023-05-02T18:37:42.619Z"
   },
   {
    "duration": 11,
    "start_time": "2023-05-02T18:37:42.633Z"
   },
   {
    "duration": 3,
    "start_time": "2023-05-02T18:37:42.646Z"
   },
   {
    "duration": 41,
    "start_time": "2023-05-02T18:37:42.651Z"
   },
   {
    "duration": 30,
    "start_time": "2023-05-02T18:37:42.696Z"
   },
   {
    "duration": 30,
    "start_time": "2023-05-02T18:37:42.728Z"
   },
   {
    "duration": 13,
    "start_time": "2023-05-02T18:37:42.760Z"
   },
   {
    "duration": 28,
    "start_time": "2023-05-02T18:37:42.774Z"
   },
   {
    "duration": 294,
    "start_time": "2023-05-02T18:37:42.804Z"
   },
   {
    "duration": 11,
    "start_time": "2023-05-02T18:37:43.099Z"
   },
   {
    "duration": 1040,
    "start_time": "2023-05-02T18:41:45.624Z"
   },
   {
    "duration": 144,
    "start_time": "2023-05-02T18:41:46.667Z"
   },
   {
    "duration": 48,
    "start_time": "2023-05-02T18:41:46.812Z"
   },
   {
    "duration": 4,
    "start_time": "2023-05-02T18:41:46.861Z"
   },
   {
    "duration": 11,
    "start_time": "2023-05-02T18:41:46.867Z"
   },
   {
    "duration": 28,
    "start_time": "2023-05-02T18:41:46.880Z"
   },
   {
    "duration": 4,
    "start_time": "2023-05-02T18:41:46.910Z"
   },
   {
    "duration": 15,
    "start_time": "2023-05-02T18:41:46.915Z"
   },
   {
    "duration": 6,
    "start_time": "2023-05-02T18:41:46.931Z"
   },
   {
    "duration": 17,
    "start_time": "2023-05-02T18:41:46.939Z"
   },
   {
    "duration": 11,
    "start_time": "2023-05-02T18:41:46.957Z"
   },
   {
    "duration": 16,
    "start_time": "2023-05-02T18:41:46.969Z"
   },
   {
    "duration": 318,
    "start_time": "2023-05-02T18:41:46.986Z"
   },
   {
    "duration": 12,
    "start_time": "2023-05-02T18:41:47.306Z"
   },
   {
    "duration": 12,
    "start_time": "2023-05-02T18:48:06.786Z"
   },
   {
    "duration": 13,
    "start_time": "2023-05-02T18:48:29.878Z"
   },
   {
    "duration": 982,
    "start_time": "2023-05-02T18:54:01.930Z"
   },
   {
    "duration": 135,
    "start_time": "2023-05-02T18:54:02.913Z"
   },
   {
    "duration": 55,
    "start_time": "2023-05-02T18:54:03.050Z"
   },
   {
    "duration": 5,
    "start_time": "2023-05-02T18:54:03.108Z"
   },
   {
    "duration": 29,
    "start_time": "2023-05-02T18:54:03.115Z"
   },
   {
    "duration": 16,
    "start_time": "2023-05-02T18:54:03.146Z"
   },
   {
    "duration": 20,
    "start_time": "2023-05-02T18:54:03.165Z"
   },
   {
    "duration": 67,
    "start_time": "2023-05-02T18:54:03.187Z"
   },
   {
    "duration": 18,
    "start_time": "2023-05-02T18:54:03.256Z"
   },
   {
    "duration": 54,
    "start_time": "2023-05-02T18:54:03.277Z"
   },
   {
    "duration": 22,
    "start_time": "2023-05-02T18:54:03.333Z"
   },
   {
    "duration": 26,
    "start_time": "2023-05-02T18:54:03.356Z"
   },
   {
    "duration": 330,
    "start_time": "2023-05-02T18:54:03.384Z"
   },
   {
    "duration": 7,
    "start_time": "2023-05-02T18:54:03.716Z"
   },
   {
    "duration": 36,
    "start_time": "2023-05-02T18:54:03.725Z"
   },
   {
    "duration": 8,
    "start_time": "2023-05-02T18:56:32.067Z"
   },
   {
    "duration": 11,
    "start_time": "2023-05-02T18:56:39.419Z"
   },
   {
    "duration": 8,
    "start_time": "2023-05-02T18:56:49.897Z"
   },
   {
    "duration": 260,
    "start_time": "2023-05-02T18:57:11.704Z"
   },
   {
    "duration": 181,
    "start_time": "2023-05-02T18:58:40.916Z"
   },
   {
    "duration": 197,
    "start_time": "2023-05-02T19:00:20.603Z"
   },
   {
    "duration": 231,
    "start_time": "2023-05-02T19:03:54.816Z"
   },
   {
    "duration": 1142,
    "start_time": "2023-05-02T19:07:42.327Z"
   },
   {
    "duration": 125,
    "start_time": "2023-05-02T19:07:43.471Z"
   },
   {
    "duration": 56,
    "start_time": "2023-05-02T19:07:43.597Z"
   },
   {
    "duration": 4,
    "start_time": "2023-05-02T19:07:43.655Z"
   },
   {
    "duration": 43,
    "start_time": "2023-05-02T19:07:43.660Z"
   },
   {
    "duration": 25,
    "start_time": "2023-05-02T19:07:43.704Z"
   },
   {
    "duration": 11,
    "start_time": "2023-05-02T19:07:43.731Z"
   },
   {
    "duration": 25,
    "start_time": "2023-05-02T19:07:43.743Z"
   },
   {
    "duration": 12,
    "start_time": "2023-05-02T19:07:43.769Z"
   },
   {
    "duration": 20,
    "start_time": "2023-05-02T19:07:43.783Z"
   },
   {
    "duration": 14,
    "start_time": "2023-05-02T19:07:43.805Z"
   },
   {
    "duration": 21,
    "start_time": "2023-05-02T19:07:43.821Z"
   },
   {
    "duration": 294,
    "start_time": "2023-05-02T19:07:43.844Z"
   },
   {
    "duration": 7,
    "start_time": "2023-05-02T19:07:44.140Z"
   },
   {
    "duration": 20,
    "start_time": "2023-05-02T19:07:44.148Z"
   },
   {
    "duration": 281,
    "start_time": "2023-05-02T19:07:44.170Z"
   },
   {
    "duration": 9,
    "start_time": "2023-05-02T19:07:44.453Z"
   },
   {
    "duration": 249,
    "start_time": "2023-05-02T19:08:37.891Z"
   },
   {
    "duration": 227,
    "start_time": "2023-05-02T19:11:08.076Z"
   },
   {
    "duration": 234,
    "start_time": "2023-05-02T19:12:35.103Z"
   },
   {
    "duration": 224,
    "start_time": "2023-05-02T19:13:22.810Z"
   },
   {
    "duration": 255,
    "start_time": "2023-05-02T19:13:34.855Z"
   },
   {
    "duration": 199,
    "start_time": "2023-05-02T19:20:17.654Z"
   },
   {
    "duration": 238,
    "start_time": "2023-05-02T19:20:33.204Z"
   },
   {
    "duration": 204,
    "start_time": "2023-05-02T19:20:45.358Z"
   },
   {
    "duration": 418,
    "start_time": "2023-05-02T19:25:41.975Z"
   },
   {
    "duration": 248,
    "start_time": "2023-05-02T19:25:58.838Z"
   },
   {
    "duration": 343,
    "start_time": "2023-05-02T19:37:05.482Z"
   },
   {
    "duration": 339,
    "start_time": "2023-05-02T19:37:15.824Z"
   },
   {
    "duration": 362,
    "start_time": "2023-05-02T19:38:00.328Z"
   },
   {
    "duration": 301,
    "start_time": "2023-05-02T19:39:12.212Z"
   },
   {
    "duration": 235,
    "start_time": "2023-05-02T19:59:18.330Z"
   },
   {
    "duration": 357,
    "start_time": "2023-05-02T20:02:40.808Z"
   },
   {
    "duration": 341,
    "start_time": "2023-05-02T20:04:29.085Z"
   },
   {
    "duration": 258,
    "start_time": "2023-05-02T20:36:41.258Z"
   },
   {
    "duration": 11,
    "start_time": "2023-05-02T20:36:45.062Z"
   },
   {
    "duration": 251,
    "start_time": "2023-05-02T20:38:10.895Z"
   },
   {
    "duration": 300,
    "start_time": "2023-05-02T20:40:19.846Z"
   },
   {
    "duration": 272,
    "start_time": "2023-05-02T20:41:50.274Z"
   },
   {
    "duration": 330,
    "start_time": "2023-05-02T20:42:00.973Z"
   },
   {
    "duration": 431,
    "start_time": "2023-05-02T20:42:11.888Z"
   },
   {
    "duration": 340,
    "start_time": "2023-05-02T20:47:25.787Z"
   },
   {
    "duration": 313,
    "start_time": "2023-05-02T20:48:06.579Z"
   },
   {
    "duration": 324,
    "start_time": "2023-05-02T21:01:38.943Z"
   },
   {
    "duration": 241,
    "start_time": "2023-05-02T21:05:41.518Z"
   },
   {
    "duration": 156,
    "start_time": "2023-05-02T21:07:09.218Z"
   },
   {
    "duration": 181,
    "start_time": "2023-05-02T21:07:34.895Z"
   },
   {
    "duration": 173,
    "start_time": "2023-05-02T21:07:42.555Z"
   },
   {
    "duration": 207,
    "start_time": "2023-05-02T21:08:33.480Z"
   },
   {
    "duration": 172,
    "start_time": "2023-05-02T21:08:53.948Z"
   },
   {
    "duration": 202,
    "start_time": "2023-05-02T21:09:24.707Z"
   },
   {
    "duration": 152,
    "start_time": "2023-05-02T21:09:37.718Z"
   },
   {
    "duration": 281,
    "start_time": "2023-05-02T21:11:26.439Z"
   },
   {
    "duration": 245,
    "start_time": "2023-05-02T21:22:14.025Z"
   },
   {
    "duration": 316,
    "start_time": "2023-05-02T21:25:35.673Z"
   },
   {
    "duration": 258,
    "start_time": "2023-05-02T21:26:48.732Z"
   },
   {
    "duration": 271,
    "start_time": "2023-05-02T21:27:32.024Z"
   },
   {
    "duration": 261,
    "start_time": "2023-05-02T21:33:37.717Z"
   },
   {
    "duration": 383,
    "start_time": "2023-05-02T21:33:46.190Z"
   },
   {
    "duration": 9,
    "start_time": "2023-05-02T21:43:42.171Z"
   },
   {
    "duration": 9,
    "start_time": "2023-05-02T21:44:35.619Z"
   },
   {
    "duration": 9,
    "start_time": "2023-05-02T21:44:58.570Z"
   },
   {
    "duration": 119,
    "start_time": "2023-05-02T21:48:50.681Z"
   },
   {
    "duration": 112,
    "start_time": "2023-05-02T21:48:55.893Z"
   },
   {
    "duration": 129,
    "start_time": "2023-05-02T21:50:07.269Z"
   },
   {
    "duration": 137,
    "start_time": "2023-05-02T22:02:13.238Z"
   },
   {
    "duration": 166,
    "start_time": "2023-05-02T22:04:10.865Z"
   },
   {
    "duration": 5,
    "start_time": "2023-05-02T22:09:55.388Z"
   },
   {
    "duration": 4,
    "start_time": "2023-05-02T22:10:15.943Z"
   },
   {
    "duration": 1476,
    "start_time": "2023-05-03T07:01:59.563Z"
   },
   {
    "duration": 274,
    "start_time": "2023-05-03T07:02:01.042Z"
   },
   {
    "duration": 63,
    "start_time": "2023-05-03T07:02:01.318Z"
   },
   {
    "duration": 6,
    "start_time": "2023-05-03T07:02:01.384Z"
   },
   {
    "duration": 58,
    "start_time": "2023-05-03T07:02:01.392Z"
   },
   {
    "duration": 51,
    "start_time": "2023-05-03T07:02:01.452Z"
   },
   {
    "duration": 26,
    "start_time": "2023-05-03T07:02:01.505Z"
   },
   {
    "duration": 48,
    "start_time": "2023-05-03T07:02:01.533Z"
   },
   {
    "duration": 73,
    "start_time": "2023-05-03T07:02:01.583Z"
   },
   {
    "duration": 55,
    "start_time": "2023-05-03T07:02:01.660Z"
   },
   {
    "duration": 28,
    "start_time": "2023-05-03T07:02:01.718Z"
   },
   {
    "duration": 55,
    "start_time": "2023-05-03T07:02:01.748Z"
   },
   {
    "duration": 334,
    "start_time": "2023-05-03T07:02:01.805Z"
   },
   {
    "duration": 8,
    "start_time": "2023-05-03T07:02:02.140Z"
   },
   {
    "duration": 34,
    "start_time": "2023-05-03T07:02:02.149Z"
   },
   {
    "duration": 502,
    "start_time": "2023-05-03T07:02:02.185Z"
   },
   {
    "duration": 424,
    "start_time": "2023-05-03T07:02:02.689Z"
   },
   {
    "duration": 407,
    "start_time": "2023-05-03T07:02:03.115Z"
   },
   {
    "duration": 258,
    "start_time": "2023-05-03T07:02:03.524Z"
   },
   {
    "duration": 458,
    "start_time": "2023-05-03T07:02:03.788Z"
   },
   {
    "duration": 11,
    "start_time": "2023-05-03T07:02:04.248Z"
   },
   {
    "duration": 162,
    "start_time": "2023-05-03T07:02:04.261Z"
   },
   {
    "duration": 175,
    "start_time": "2023-05-03T07:02:04.425Z"
   },
   {
    "duration": 5,
    "start_time": "2023-05-03T07:02:04.602Z"
   },
   {
    "duration": 14,
    "start_time": "2023-05-03T07:02:04.609Z"
   },
   {
    "duration": 1411,
    "start_time": "2023-05-03T07:03:01.281Z"
   },
   {
    "duration": 10,
    "start_time": "2023-05-03T07:04:08.562Z"
   },
   {
    "duration": 1153,
    "start_time": "2023-05-03T07:05:36.376Z"
   },
   {
    "duration": 10,
    "start_time": "2023-05-03T07:05:50.149Z"
   },
   {
    "duration": 5,
    "start_time": "2023-05-03T07:07:33.082Z"
   },
   {
    "duration": 138,
    "start_time": "2023-05-03T07:08:08.580Z"
   },
   {
    "duration": 6,
    "start_time": "2023-05-03T07:08:36.237Z"
   },
   {
    "duration": 121,
    "start_time": "2023-05-03T07:08:46.312Z"
   },
   {
    "duration": 15,
    "start_time": "2023-05-03T07:08:55.510Z"
   },
   {
    "duration": 7,
    "start_time": "2023-05-03T07:09:10.677Z"
   },
   {
    "duration": 12,
    "start_time": "2023-05-03T07:13:49.114Z"
   },
   {
    "duration": 11,
    "start_time": "2023-05-03T07:14:07.966Z"
   },
   {
    "duration": 149,
    "start_time": "2023-05-03T07:48:49.360Z"
   },
   {
    "duration": 263,
    "start_time": "2023-05-03T07:49:56.309Z"
   },
   {
    "duration": 206,
    "start_time": "2023-05-03T07:50:17.807Z"
   },
   {
    "duration": 146,
    "start_time": "2023-05-03T07:54:16.174Z"
   },
   {
    "duration": 135,
    "start_time": "2023-05-03T08:25:12.554Z"
   },
   {
    "duration": 133,
    "start_time": "2023-05-03T08:33:43.876Z"
   },
   {
    "duration": 153,
    "start_time": "2023-05-03T08:33:51.076Z"
   },
   {
    "duration": 134,
    "start_time": "2023-05-03T08:34:07.433Z"
   },
   {
    "duration": 126,
    "start_time": "2023-05-03T08:34:37.115Z"
   },
   {
    "duration": 136,
    "start_time": "2023-05-03T08:41:39.810Z"
   },
   {
    "duration": 129,
    "start_time": "2023-05-03T08:41:45.634Z"
   },
   {
    "duration": 10,
    "start_time": "2023-05-03T08:48:48.583Z"
   },
   {
    "duration": 134,
    "start_time": "2023-05-03T09:26:24.195Z"
   },
   {
    "duration": 10,
    "start_time": "2023-05-03T09:27:47.448Z"
   },
   {
    "duration": 11,
    "start_time": "2023-05-03T09:27:56.882Z"
   },
   {
    "duration": 11,
    "start_time": "2023-05-03T09:31:29.217Z"
   },
   {
    "duration": 242,
    "start_time": "2023-05-03T10:20:19.408Z"
   },
   {
    "duration": 252,
    "start_time": "2023-05-03T10:24:46.997Z"
   },
   {
    "duration": 265,
    "start_time": "2023-05-03T10:24:53.014Z"
   },
   {
    "duration": 144,
    "start_time": "2023-05-03T10:25:31.264Z"
   },
   {
    "duration": 15,
    "start_time": "2023-05-03T10:25:44.043Z"
   },
   {
    "duration": 29,
    "start_time": "2023-05-03T10:27:13.455Z"
   },
   {
    "duration": 28,
    "start_time": "2023-05-03T10:56:54.816Z"
   },
   {
    "duration": 27,
    "start_time": "2023-05-03T10:57:08.406Z"
   },
   {
    "duration": 53,
    "start_time": "2023-05-03T11:00:02.024Z"
   },
   {
    "duration": 78,
    "start_time": "2023-05-03T11:00:18.088Z"
   },
   {
    "duration": 54,
    "start_time": "2023-05-03T11:40:07.555Z"
   },
   {
    "duration": 9,
    "start_time": "2023-05-03T12:05:39.255Z"
   },
   {
    "duration": 18,
    "start_time": "2023-05-03T12:06:06.486Z"
   },
   {
    "duration": 18,
    "start_time": "2023-05-03T12:15:07.024Z"
   },
   {
    "duration": 10,
    "start_time": "2023-05-03T12:35:17.723Z"
   },
   {
    "duration": 77,
    "start_time": "2023-05-03T12:35:58.447Z"
   },
   {
    "duration": 81,
    "start_time": "2023-05-03T12:36:07.694Z"
   },
   {
    "duration": 91,
    "start_time": "2023-05-03T12:36:13.535Z"
   },
   {
    "duration": 10,
    "start_time": "2023-05-03T12:36:21.601Z"
   },
   {
    "duration": 10,
    "start_time": "2023-05-03T12:38:24.804Z"
   },
   {
    "duration": 9,
    "start_time": "2023-05-03T12:41:11.113Z"
   },
   {
    "duration": 8,
    "start_time": "2023-05-03T12:44:02.635Z"
   },
   {
    "duration": 11,
    "start_time": "2023-05-03T12:46:21.801Z"
   },
   {
    "duration": 7,
    "start_time": "2023-05-03T12:46:38.662Z"
   },
   {
    "duration": 8,
    "start_time": "2023-05-03T12:48:00.515Z"
   },
   {
    "duration": 11,
    "start_time": "2023-05-03T12:49:37.803Z"
   },
   {
    "duration": 124,
    "start_time": "2023-05-03T12:50:01.338Z"
   },
   {
    "duration": 9,
    "start_time": "2023-05-03T12:50:26.949Z"
   },
   {
    "duration": 11,
    "start_time": "2023-05-03T12:50:37.497Z"
   },
   {
    "duration": 7,
    "start_time": "2023-05-03T12:51:01.550Z"
   },
   {
    "duration": 11,
    "start_time": "2023-05-03T12:55:18.101Z"
   },
   {
    "duration": 15,
    "start_time": "2023-05-03T12:55:29.434Z"
   },
   {
    "duration": 6,
    "start_time": "2023-05-03T12:55:54.328Z"
   },
   {
    "duration": 1786,
    "start_time": "2023-05-03T12:57:16.559Z"
   },
   {
    "duration": 9,
    "start_time": "2023-05-03T12:57:42.429Z"
   },
   {
    "duration": 13,
    "start_time": "2023-05-03T13:00:10.717Z"
   },
   {
    "duration": 25,
    "start_time": "2023-05-03T13:00:20.130Z"
   },
   {
    "duration": 24,
    "start_time": "2023-05-03T13:01:05.527Z"
   },
   {
    "duration": 90,
    "start_time": "2023-05-03T13:06:23.804Z"
   },
   {
    "duration": 48,
    "start_time": "2023-05-03T13:07:17.348Z"
   },
   {
    "duration": 35,
    "start_time": "2023-05-03T13:17:03.509Z"
   },
   {
    "duration": 37,
    "start_time": "2023-05-03T13:18:15.179Z"
   },
   {
    "duration": 18,
    "start_time": "2023-05-03T13:37:07.219Z"
   },
   {
    "duration": 9,
    "start_time": "2023-05-03T14:08:02.714Z"
   },
   {
    "duration": 19,
    "start_time": "2023-05-03T14:49:29.170Z"
   },
   {
    "duration": 18,
    "start_time": "2023-05-03T14:51:11.472Z"
   },
   {
    "duration": 12,
    "start_time": "2023-05-03T14:52:42.021Z"
   },
   {
    "duration": 15,
    "start_time": "2023-05-03T14:54:42.222Z"
   },
   {
    "duration": 13,
    "start_time": "2023-05-03T14:55:42.841Z"
   },
   {
    "duration": 1154,
    "start_time": "2023-05-03T14:56:04.326Z"
   },
   {
    "duration": 129,
    "start_time": "2023-05-03T14:56:05.483Z"
   },
   {
    "duration": 77,
    "start_time": "2023-05-03T14:56:05.614Z"
   },
   {
    "duration": 5,
    "start_time": "2023-05-03T14:56:05.694Z"
   },
   {
    "duration": 7,
    "start_time": "2023-05-03T14:56:05.702Z"
   },
   {
    "duration": 13,
    "start_time": "2023-05-03T14:56:05.711Z"
   },
   {
    "duration": 3,
    "start_time": "2023-05-03T14:56:05.726Z"
   },
   {
    "duration": 18,
    "start_time": "2023-05-03T14:56:05.731Z"
   },
   {
    "duration": 12,
    "start_time": "2023-05-03T14:56:05.751Z"
   },
   {
    "duration": 35,
    "start_time": "2023-05-03T14:56:05.765Z"
   },
   {
    "duration": 17,
    "start_time": "2023-05-03T14:56:05.801Z"
   },
   {
    "duration": 13,
    "start_time": "2023-05-03T14:56:05.820Z"
   },
   {
    "duration": 354,
    "start_time": "2023-05-03T14:56:05.835Z"
   },
   {
    "duration": 8,
    "start_time": "2023-05-03T14:56:06.193Z"
   },
   {
    "duration": 11,
    "start_time": "2023-05-03T14:56:06.203Z"
   },
   {
    "duration": 473,
    "start_time": "2023-05-03T14:56:06.216Z"
   },
   {
    "duration": 400,
    "start_time": "2023-05-03T14:56:06.691Z"
   },
   {
    "duration": 321,
    "start_time": "2023-05-03T14:56:07.093Z"
   },
   {
    "duration": 261,
    "start_time": "2023-05-03T14:56:07.416Z"
   },
   {
    "duration": 458,
    "start_time": "2023-05-03T14:56:07.679Z"
   },
   {
    "duration": 11,
    "start_time": "2023-05-03T14:56:08.139Z"
   },
   {
    "duration": 166,
    "start_time": "2023-05-03T14:56:08.152Z"
   },
   {
    "duration": 172,
    "start_time": "2023-05-03T14:56:08.320Z"
   },
   {
    "duration": 10,
    "start_time": "2023-05-03T14:56:08.493Z"
   },
   {
    "duration": 155,
    "start_time": "2023-05-03T14:56:08.505Z"
   },
   {
    "duration": 215,
    "start_time": "2023-05-03T14:56:08.662Z"
   },
   {
    "duration": 16,
    "start_time": "2023-05-03T14:56:08.880Z"
   },
   {
    "duration": 258,
    "start_time": "2023-05-03T14:56:08.898Z"
   },
   {
    "duration": 146,
    "start_time": "2023-05-03T14:56:09.157Z"
   },
   {
    "duration": 46,
    "start_time": "2023-05-03T14:56:09.305Z"
   },
   {
    "duration": 38,
    "start_time": "2023-05-03T14:56:09.353Z"
   },
   {
    "duration": 12,
    "start_time": "2023-05-03T14:56:09.393Z"
   },
   {
    "duration": 42,
    "start_time": "2023-05-03T14:56:09.407Z"
   },
   {
    "duration": 65,
    "start_time": "2023-05-03T14:56:09.451Z"
   },
   {
    "duration": 29,
    "start_time": "2023-05-03T14:56:09.518Z"
   },
   {
    "duration": 11,
    "start_time": "2023-05-03T14:56:09.549Z"
   },
   {
    "duration": 12,
    "start_time": "2023-05-03T15:09:23.741Z"
   },
   {
    "duration": 1371,
    "start_time": "2023-05-03T20:41:43.084Z"
   },
   {
    "duration": 352,
    "start_time": "2023-05-03T20:41:44.461Z"
   },
   {
    "duration": 69,
    "start_time": "2023-05-03T20:41:44.815Z"
   },
   {
    "duration": 7,
    "start_time": "2023-05-03T20:41:44.887Z"
   },
   {
    "duration": 19,
    "start_time": "2023-05-03T20:41:44.898Z"
   },
   {
    "duration": 22,
    "start_time": "2023-05-03T20:41:44.922Z"
   },
   {
    "duration": 17,
    "start_time": "2023-05-03T20:41:44.947Z"
   },
   {
    "duration": 14,
    "start_time": "2023-05-03T20:41:44.966Z"
   },
   {
    "duration": 7,
    "start_time": "2023-05-03T20:41:44.982Z"
   },
   {
    "duration": 20,
    "start_time": "2023-05-03T20:41:44.992Z"
   },
   {
    "duration": 56,
    "start_time": "2023-05-03T20:41:45.014Z"
   },
   {
    "duration": 14,
    "start_time": "2023-05-03T20:41:45.072Z"
   },
   {
    "duration": 32,
    "start_time": "2023-05-03T20:41:45.088Z"
   },
   {
    "duration": 412,
    "start_time": "2023-05-03T20:41:45.122Z"
   },
   {
    "duration": 21,
    "start_time": "2023-05-03T20:41:45.536Z"
   },
   {
    "duration": 24,
    "start_time": "2023-05-03T20:41:45.560Z"
   },
   {
    "duration": 490,
    "start_time": "2023-05-03T20:41:45.586Z"
   },
   {
    "duration": 389,
    "start_time": "2023-05-03T20:41:46.078Z"
   },
   {
    "duration": 428,
    "start_time": "2023-05-03T20:41:46.469Z"
   },
   {
    "duration": 307,
    "start_time": "2023-05-03T20:41:46.899Z"
   },
   {
    "duration": 480,
    "start_time": "2023-05-03T20:41:47.209Z"
   },
   {
    "duration": 11,
    "start_time": "2023-05-03T20:41:47.691Z"
   },
   {
    "duration": 163,
    "start_time": "2023-05-03T20:41:47.706Z"
   },
   {
    "duration": 175,
    "start_time": "2023-05-03T20:41:47.872Z"
   },
   {
    "duration": 13,
    "start_time": "2023-05-03T20:41:48.048Z"
   },
   {
    "duration": 164,
    "start_time": "2023-05-03T20:41:48.062Z"
   },
   {
    "duration": 230,
    "start_time": "2023-05-03T20:41:48.229Z"
   },
   {
    "duration": 11,
    "start_time": "2023-05-03T20:41:48.465Z"
   },
   {
    "duration": 355,
    "start_time": "2023-05-03T20:41:48.479Z"
   },
   {
    "duration": 160,
    "start_time": "2023-05-03T20:41:48.836Z"
   },
   {
    "duration": 70,
    "start_time": "2023-05-03T20:41:48.999Z"
   },
   {
    "duration": 24,
    "start_time": "2023-05-03T20:41:49.071Z"
   },
   {
    "duration": 14,
    "start_time": "2023-05-03T20:41:49.097Z"
   },
   {
    "duration": 17,
    "start_time": "2023-05-03T20:41:49.137Z"
   },
   {
    "duration": 65,
    "start_time": "2023-05-03T20:41:49.158Z"
   },
   {
    "duration": 32,
    "start_time": "2023-05-03T20:41:49.226Z"
   },
   {
    "duration": 33,
    "start_time": "2023-05-03T20:41:49.260Z"
   },
   {
    "duration": 15,
    "start_time": "2023-05-03T20:43:18.610Z"
   },
   {
    "duration": 11,
    "start_time": "2023-05-03T20:44:48.473Z"
   },
   {
    "duration": 10,
    "start_time": "2023-05-03T20:51:57.969Z"
   },
   {
    "duration": 8,
    "start_time": "2023-05-03T20:52:34.747Z"
   },
   {
    "duration": 11,
    "start_time": "2023-05-03T20:55:37.053Z"
   },
   {
    "duration": 15,
    "start_time": "2023-05-03T20:56:03.695Z"
   },
   {
    "duration": 12,
    "start_time": "2023-05-03T20:58:17.110Z"
   },
   {
    "duration": 4,
    "start_time": "2023-05-03T21:18:17.435Z"
   },
   {
    "duration": 1050,
    "start_time": "2023-05-03T21:18:28.907Z"
   },
   {
    "duration": 151,
    "start_time": "2023-05-03T21:18:29.960Z"
   },
   {
    "duration": 69,
    "start_time": "2023-05-03T21:18:30.113Z"
   },
   {
    "duration": 19,
    "start_time": "2023-05-03T21:18:30.185Z"
   },
   {
    "duration": 28,
    "start_time": "2023-05-03T21:18:30.206Z"
   },
   {
    "duration": 18,
    "start_time": "2023-05-03T21:18:30.236Z"
   },
   {
    "duration": 25,
    "start_time": "2023-05-03T21:18:30.256Z"
   },
   {
    "duration": 8,
    "start_time": "2023-05-03T21:18:30.283Z"
   },
   {
    "duration": 21,
    "start_time": "2023-05-03T21:18:30.293Z"
   },
   {
    "duration": 37,
    "start_time": "2023-05-03T21:18:30.317Z"
   },
   {
    "duration": 26,
    "start_time": "2023-05-03T21:18:30.357Z"
   },
   {
    "duration": 17,
    "start_time": "2023-05-03T21:18:30.385Z"
   },
   {
    "duration": 26,
    "start_time": "2023-05-03T21:18:30.404Z"
   },
   {
    "duration": 44,
    "start_time": "2023-05-03T21:18:30.432Z"
   },
   {
    "duration": 326,
    "start_time": "2023-05-03T21:18:30.478Z"
   },
   {
    "duration": 9,
    "start_time": "2023-05-03T21:18:30.806Z"
   },
   {
    "duration": 45,
    "start_time": "2023-05-03T21:18:30.817Z"
   },
   {
    "duration": 494,
    "start_time": "2023-05-03T21:18:30.864Z"
   },
   {
    "duration": 426,
    "start_time": "2023-05-03T21:18:31.361Z"
   },
   {
    "duration": 410,
    "start_time": "2023-05-03T21:18:31.789Z"
   },
   {
    "duration": 235,
    "start_time": "2023-05-03T21:18:32.201Z"
   },
   {
    "duration": 403,
    "start_time": "2023-05-03T21:18:32.438Z"
   },
   {
    "duration": 9,
    "start_time": "2023-05-03T21:18:32.843Z"
   },
   {
    "duration": 135,
    "start_time": "2023-05-03T21:18:32.854Z"
   },
   {
    "duration": 169,
    "start_time": "2023-05-03T21:18:32.990Z"
   },
   {
    "duration": 10,
    "start_time": "2023-05-03T21:18:33.162Z"
   },
   {
    "duration": 138,
    "start_time": "2023-05-03T21:18:33.174Z"
   },
   {
    "duration": 208,
    "start_time": "2023-05-03T21:18:33.318Z"
   },
   {
    "duration": 16,
    "start_time": "2023-05-03T21:18:33.528Z"
   },
   {
    "duration": 314,
    "start_time": "2023-05-03T21:18:33.546Z"
   },
   {
    "duration": 207,
    "start_time": "2023-05-03T21:18:33.862Z"
   },
   {
    "duration": 83,
    "start_time": "2023-05-03T21:18:34.074Z"
   },
   {
    "duration": 24,
    "start_time": "2023-05-03T21:18:34.159Z"
   },
   {
    "duration": 16,
    "start_time": "2023-05-03T21:18:34.186Z"
   },
   {
    "duration": 9,
    "start_time": "2023-05-03T21:18:34.205Z"
   },
   {
    "duration": 88,
    "start_time": "2023-05-03T21:18:34.216Z"
   },
   {
    "duration": 45,
    "start_time": "2023-05-03T21:18:34.306Z"
   },
   {
    "duration": 1201,
    "start_time": "2023-05-03T23:09:33.668Z"
   },
   {
    "duration": 224,
    "start_time": "2023-05-03T23:09:34.875Z"
   },
   {
    "duration": 81,
    "start_time": "2023-05-03T23:09:35.102Z"
   },
   {
    "duration": 10,
    "start_time": "2023-05-03T23:09:35.185Z"
   },
   {
    "duration": 8,
    "start_time": "2023-05-03T23:09:35.198Z"
   },
   {
    "duration": 12,
    "start_time": "2023-05-03T23:09:35.208Z"
   },
   {
    "duration": 52,
    "start_time": "2023-05-03T23:09:35.233Z"
   },
   {
    "duration": 26,
    "start_time": "2023-05-03T23:09:35.298Z"
   },
   {
    "duration": 69,
    "start_time": "2023-05-03T23:09:35.327Z"
   },
   {
    "duration": 14,
    "start_time": "2023-05-03T23:09:35.398Z"
   },
   {
    "duration": 20,
    "start_time": "2023-05-03T23:09:35.413Z"
   },
   {
    "duration": 52,
    "start_time": "2023-05-03T23:09:35.436Z"
   },
   {
    "duration": 18,
    "start_time": "2023-05-03T23:09:35.490Z"
   },
   {
    "duration": 280,
    "start_time": "2023-05-03T23:09:35.511Z"
   },
   {
    "duration": 6,
    "start_time": "2023-05-03T23:09:35.792Z"
   },
   {
    "duration": 23,
    "start_time": "2023-05-03T23:09:35.800Z"
   },
   {
    "duration": 459,
    "start_time": "2023-05-03T23:09:35.826Z"
   },
   {
    "duration": 388,
    "start_time": "2023-05-03T23:09:36.287Z"
   },
   {
    "duration": 306,
    "start_time": "2023-05-03T23:09:36.676Z"
   },
   {
    "duration": 231,
    "start_time": "2023-05-03T23:09:36.984Z"
   },
   {
    "duration": 434,
    "start_time": "2023-05-03T23:09:37.216Z"
   },
   {
    "duration": 12,
    "start_time": "2023-05-03T23:09:37.653Z"
   },
   {
    "duration": 146,
    "start_time": "2023-05-03T23:09:37.666Z"
   },
   {
    "duration": 161,
    "start_time": "2023-05-03T23:09:37.814Z"
   },
   {
    "duration": 10,
    "start_time": "2023-05-03T23:09:37.979Z"
   },
   {
    "duration": 131,
    "start_time": "2023-05-03T23:09:37.991Z"
   },
   {
    "duration": 226,
    "start_time": "2023-05-03T23:09:38.124Z"
   },
   {
    "duration": 20,
    "start_time": "2023-05-03T23:09:38.355Z"
   },
   {
    "duration": 219,
    "start_time": "2023-05-03T23:09:38.377Z"
   },
   {
    "duration": 143,
    "start_time": "2023-05-03T23:09:38.597Z"
   },
   {
    "duration": 61,
    "start_time": "2023-05-03T23:09:38.742Z"
   },
   {
    "duration": 15,
    "start_time": "2023-05-03T23:09:38.805Z"
   },
   {
    "duration": 26,
    "start_time": "2023-05-03T23:09:38.822Z"
   },
   {
    "duration": 35,
    "start_time": "2023-05-03T23:09:38.854Z"
   },
   {
    "duration": 42,
    "start_time": "2023-05-03T23:09:38.891Z"
   },
   {
    "duration": 28,
    "start_time": "2023-05-03T23:09:38.943Z"
   },
   {
    "duration": 1470,
    "start_time": "2023-05-04T16:34:29.189Z"
   },
   {
    "duration": 331,
    "start_time": "2023-05-04T16:34:30.664Z"
   },
   {
    "duration": 94,
    "start_time": "2023-05-04T16:34:30.998Z"
   },
   {
    "duration": 33,
    "start_time": "2023-05-04T16:34:31.094Z"
   },
   {
    "duration": 14,
    "start_time": "2023-05-04T16:34:31.137Z"
   },
   {
    "duration": 14,
    "start_time": "2023-05-04T16:34:31.159Z"
   },
   {
    "duration": 23,
    "start_time": "2023-05-04T16:34:31.175Z"
   },
   {
    "duration": 8,
    "start_time": "2023-05-04T16:34:31.201Z"
   },
   {
    "duration": 19,
    "start_time": "2023-05-04T16:34:31.212Z"
   },
   {
    "duration": 28,
    "start_time": "2023-05-04T16:34:31.240Z"
   },
   {
    "duration": 24,
    "start_time": "2023-05-04T16:34:31.270Z"
   },
   {
    "duration": 35,
    "start_time": "2023-05-04T16:34:31.296Z"
   },
   {
    "duration": 20,
    "start_time": "2023-05-04T16:34:31.340Z"
   },
   {
    "duration": 393,
    "start_time": "2023-05-04T16:34:31.362Z"
   },
   {
    "duration": 8,
    "start_time": "2023-05-04T16:34:31.757Z"
   },
   {
    "duration": 46,
    "start_time": "2023-05-04T16:34:31.768Z"
   },
   {
    "duration": 518,
    "start_time": "2023-05-04T16:34:31.824Z"
   },
   {
    "duration": 453,
    "start_time": "2023-05-04T16:34:32.344Z"
   },
   {
    "duration": 425,
    "start_time": "2023-05-04T16:34:32.799Z"
   },
   {
    "duration": 273,
    "start_time": "2023-05-04T16:34:33.226Z"
   },
   {
    "duration": 487,
    "start_time": "2023-05-04T16:34:33.501Z"
   },
   {
    "duration": 40,
    "start_time": "2023-05-04T16:34:33.991Z"
   },
   {
    "duration": 142,
    "start_time": "2023-05-04T16:34:34.036Z"
   },
   {
    "duration": 192,
    "start_time": "2023-05-04T16:34:34.180Z"
   },
   {
    "duration": 10,
    "start_time": "2023-05-04T16:34:34.374Z"
   },
   {
    "duration": 184,
    "start_time": "2023-05-04T16:34:34.386Z"
   },
   {
    "duration": 284,
    "start_time": "2023-05-04T16:34:34.573Z"
   },
   {
    "duration": 14,
    "start_time": "2023-05-04T16:34:34.862Z"
   },
   {
    "duration": 286,
    "start_time": "2023-05-04T16:34:34.878Z"
   },
   {
    "duration": 136,
    "start_time": "2023-05-04T16:34:35.166Z"
   },
   {
    "duration": 73,
    "start_time": "2023-05-04T16:34:35.304Z"
   },
   {
    "duration": 43,
    "start_time": "2023-05-04T16:34:35.379Z"
   },
   {
    "duration": 18,
    "start_time": "2023-05-04T16:34:35.423Z"
   },
   {
    "duration": 11,
    "start_time": "2023-05-04T16:34:35.445Z"
   },
   {
    "duration": 94,
    "start_time": "2023-05-04T16:34:35.458Z"
   },
   {
    "duration": 29,
    "start_time": "2023-05-04T16:34:35.555Z"
   },
   {
    "duration": 167,
    "start_time": "2023-05-04T16:42:10.268Z"
   },
   {
    "duration": 59,
    "start_time": "2023-05-04T18:11:04.237Z"
   },
   {
    "duration": 7,
    "start_time": "2023-05-04T18:13:32.827Z"
   },
   {
    "duration": 1296,
    "start_time": "2023-05-04T18:13:49.914Z"
   },
   {
    "duration": 240,
    "start_time": "2023-05-04T18:13:51.212Z"
   },
   {
    "duration": 66,
    "start_time": "2023-05-04T18:13:51.453Z"
   },
   {
    "duration": 4,
    "start_time": "2023-05-04T18:13:51.521Z"
   },
   {
    "duration": 10,
    "start_time": "2023-05-04T18:13:51.526Z"
   },
   {
    "duration": 10,
    "start_time": "2023-05-04T18:13:51.538Z"
   },
   {
    "duration": 14,
    "start_time": "2023-05-04T18:13:51.550Z"
   },
   {
    "duration": 31,
    "start_time": "2023-05-04T18:13:51.565Z"
   },
   {
    "duration": 9,
    "start_time": "2023-05-04T18:13:51.597Z"
   },
   {
    "duration": 6,
    "start_time": "2023-05-04T18:13:51.608Z"
   },
   {
    "duration": 17,
    "start_time": "2023-05-04T18:13:51.615Z"
   },
   {
    "duration": 5,
    "start_time": "2023-05-04T18:13:51.634Z"
   },
   {
    "duration": 216,
    "start_time": "2023-05-04T18:13:51.641Z"
   },
   {
    "duration": 15,
    "start_time": "2023-05-04T18:13:51.859Z"
   },
   {
    "duration": 18,
    "start_time": "2023-05-04T18:13:51.885Z"
   },
   {
    "duration": 308,
    "start_time": "2023-05-04T18:13:51.906Z"
   },
   {
    "duration": 7,
    "start_time": "2023-05-04T18:13:52.215Z"
   },
   {
    "duration": 17,
    "start_time": "2023-05-04T18:13:52.223Z"
   },
   {
    "duration": 458,
    "start_time": "2023-05-04T18:13:52.241Z"
   },
   {
    "duration": 374,
    "start_time": "2023-05-04T18:13:52.704Z"
   },
   {
    "duration": 347,
    "start_time": "2023-05-04T18:13:53.079Z"
   },
   {
    "duration": 230,
    "start_time": "2023-05-04T18:13:53.428Z"
   },
   {
    "duration": 512,
    "start_time": "2023-05-04T18:13:53.660Z"
   },
   {
    "duration": 24,
    "start_time": "2023-05-04T18:13:54.175Z"
   },
   {
    "duration": 290,
    "start_time": "2023-05-04T18:13:54.204Z"
   },
   {
    "duration": 519,
    "start_time": "2023-05-04T18:13:54.497Z"
   },
   {
    "duration": 9,
    "start_time": "2023-05-04T18:13:55.018Z"
   },
   {
    "duration": 393,
    "start_time": "2023-05-04T18:13:55.031Z"
   },
   {
    "duration": 378,
    "start_time": "2023-05-04T18:13:55.426Z"
   },
   {
    "duration": 10,
    "start_time": "2023-05-04T18:13:55.806Z"
   },
   {
    "duration": 503,
    "start_time": "2023-05-04T18:13:55.818Z"
   },
   {
    "duration": 372,
    "start_time": "2023-05-04T18:13:56.323Z"
   },
   {
    "duration": 103,
    "start_time": "2023-05-04T18:13:56.699Z"
   },
   {
    "duration": 17,
    "start_time": "2023-05-04T18:13:56.806Z"
   },
   {
    "duration": 12,
    "start_time": "2023-05-04T18:13:56.824Z"
   },
   {
    "duration": 10,
    "start_time": "2023-05-04T18:13:56.839Z"
   },
   {
    "duration": 75,
    "start_time": "2023-05-04T18:13:56.850Z"
   },
   {
    "duration": 20,
    "start_time": "2023-05-04T18:13:56.927Z"
   },
   {
    "duration": 10,
    "start_time": "2023-05-04T18:14:27.882Z"
   },
   {
    "duration": 9,
    "start_time": "2023-05-04T18:18:38.718Z"
   },
   {
    "duration": 4,
    "start_time": "2023-05-04T18:18:46.877Z"
   },
   {
    "duration": 6,
    "start_time": "2023-05-04T18:19:07.856Z"
   },
   {
    "duration": 5,
    "start_time": "2023-05-04T18:19:16.949Z"
   },
   {
    "duration": 112,
    "start_time": "2023-05-04T18:23:33.819Z"
   },
   {
    "duration": 21,
    "start_time": "2023-05-04T18:23:44.894Z"
   },
   {
    "duration": 16,
    "start_time": "2023-05-04T18:26:57.503Z"
   },
   {
    "duration": 16,
    "start_time": "2023-05-04T18:34:17.418Z"
   },
   {
    "duration": 13,
    "start_time": "2023-05-04T18:35:29.573Z"
   },
   {
    "duration": 15,
    "start_time": "2023-05-04T18:38:57.898Z"
   },
   {
    "duration": 11,
    "start_time": "2023-05-04T21:16:02.799Z"
   },
   {
    "duration": 11,
    "start_time": "2023-05-04T21:22:07.471Z"
   },
   {
    "duration": 10,
    "start_time": "2023-05-04T21:26:35.566Z"
   },
   {
    "duration": 6,
    "start_time": "2023-05-04T21:28:40.179Z"
   },
   {
    "duration": 240,
    "start_time": "2023-05-04T21:29:19.513Z"
   },
   {
    "duration": 214,
    "start_time": "2023-05-04T21:32:50.108Z"
   },
   {
    "duration": 382,
    "start_time": "2023-05-04T21:46:06.072Z"
   },
   {
    "duration": 11,
    "start_time": "2023-05-04T21:54:11.760Z"
   },
   {
    "duration": 16,
    "start_time": "2023-05-04T21:58:06.923Z"
   },
   {
    "duration": 5,
    "start_time": "2023-05-04T21:59:44.538Z"
   },
   {
    "duration": 13,
    "start_time": "2023-05-04T22:00:01.309Z"
   },
   {
    "duration": 1107,
    "start_time": "2023-05-04T22:00:21.812Z"
   },
   {
    "duration": 122,
    "start_time": "2023-05-04T22:00:22.922Z"
   },
   {
    "duration": 51,
    "start_time": "2023-05-04T22:00:23.046Z"
   },
   {
    "duration": 4,
    "start_time": "2023-05-04T22:00:23.099Z"
   },
   {
    "duration": 9,
    "start_time": "2023-05-04T22:00:23.104Z"
   },
   {
    "duration": 11,
    "start_time": "2023-05-04T22:00:23.115Z"
   },
   {
    "duration": 12,
    "start_time": "2023-05-04T22:00:23.128Z"
   },
   {
    "duration": 3,
    "start_time": "2023-05-04T22:00:23.141Z"
   },
   {
    "duration": 12,
    "start_time": "2023-05-04T22:00:23.145Z"
   },
   {
    "duration": 34,
    "start_time": "2023-05-04T22:00:23.160Z"
   },
   {
    "duration": 19,
    "start_time": "2023-05-04T22:00:23.195Z"
   },
   {
    "duration": 4,
    "start_time": "2023-05-04T22:00:23.216Z"
   },
   {
    "duration": 490,
    "start_time": "2023-05-04T22:00:23.222Z"
   },
   {
    "duration": 12,
    "start_time": "2023-05-04T22:00:23.713Z"
   },
   {
    "duration": 13,
    "start_time": "2023-05-04T22:00:23.726Z"
   },
   {
    "duration": 334,
    "start_time": "2023-05-04T22:00:23.741Z"
   },
   {
    "duration": 14,
    "start_time": "2023-05-04T22:00:24.078Z"
   },
   {
    "duration": 10,
    "start_time": "2023-05-04T22:00:24.095Z"
   },
   {
    "duration": 380,
    "start_time": "2023-05-04T22:00:24.107Z"
   },
   {
    "duration": 361,
    "start_time": "2023-05-04T22:00:24.490Z"
   },
   {
    "duration": 440,
    "start_time": "2023-05-04T22:00:24.852Z"
   },
   {
    "duration": 425,
    "start_time": "2023-05-04T22:00:25.294Z"
   },
   {
    "duration": 693,
    "start_time": "2023-05-04T22:00:25.721Z"
   },
   {
    "duration": 10,
    "start_time": "2023-05-04T22:00:26.416Z"
   },
   {
    "duration": 298,
    "start_time": "2023-05-04T22:00:26.428Z"
   },
   {
    "duration": 500,
    "start_time": "2023-05-04T22:00:26.728Z"
   },
   {
    "duration": 10,
    "start_time": "2023-05-04T22:00:27.230Z"
   },
   {
    "duration": 153,
    "start_time": "2023-05-04T22:00:27.244Z"
   },
   {
    "duration": 136,
    "start_time": "2023-05-04T22:00:27.400Z"
   },
   {
    "duration": 10,
    "start_time": "2023-05-04T22:00:27.538Z"
   },
   {
    "duration": 240,
    "start_time": "2023-05-04T22:00:27.550Z"
   },
   {
    "duration": 156,
    "start_time": "2023-05-04T22:00:27.792Z"
   },
   {
    "duration": 66,
    "start_time": "2023-05-04T22:00:27.950Z"
   },
   {
    "duration": 15,
    "start_time": "2023-05-04T22:00:28.018Z"
   },
   {
    "duration": 12,
    "start_time": "2023-05-04T22:00:28.034Z"
   },
   {
    "duration": 21,
    "start_time": "2023-05-04T22:00:28.048Z"
   },
   {
    "duration": 57,
    "start_time": "2023-05-04T22:00:28.071Z"
   },
   {
    "duration": 20,
    "start_time": "2023-05-04T22:00:28.129Z"
   },
   {
    "duration": 5,
    "start_time": "2023-05-04T22:07:43.289Z"
   },
   {
    "duration": 3,
    "start_time": "2023-05-04T22:08:27.052Z"
   },
   {
    "duration": 153,
    "start_time": "2023-05-04T22:18:00.561Z"
   },
   {
    "duration": 140,
    "start_time": "2023-05-04T22:18:28.258Z"
   },
   {
    "duration": 159,
    "start_time": "2023-05-04T22:20:59.923Z"
   },
   {
    "duration": 147,
    "start_time": "2023-05-04T22:21:14.145Z"
   },
   {
    "duration": 165,
    "start_time": "2023-05-04T22:22:40.214Z"
   },
   {
    "duration": 154,
    "start_time": "2023-05-04T22:23:50.499Z"
   },
   {
    "duration": 147,
    "start_time": "2023-05-04T22:24:04.736Z"
   },
   {
    "duration": 11,
    "start_time": "2023-05-04T22:27:12.131Z"
   },
   {
    "duration": 10,
    "start_time": "2023-05-04T22:27:17.379Z"
   },
   {
    "duration": 10,
    "start_time": "2023-05-04T22:27:22.873Z"
   },
   {
    "duration": 10,
    "start_time": "2023-05-04T22:28:03.383Z"
   },
   {
    "duration": 10,
    "start_time": "2023-05-04T22:28:10.053Z"
   },
   {
    "duration": 40,
    "start_time": "2023-05-04T22:28:48.863Z"
   },
   {
    "duration": 1044,
    "start_time": "2023-05-04T22:29:05.853Z"
   },
   {
    "duration": 118,
    "start_time": "2023-05-04T22:29:06.899Z"
   },
   {
    "duration": 58,
    "start_time": "2023-05-04T22:29:07.019Z"
   },
   {
    "duration": 5,
    "start_time": "2023-05-04T22:29:07.078Z"
   },
   {
    "duration": 18,
    "start_time": "2023-05-04T22:29:07.086Z"
   },
   {
    "duration": 11,
    "start_time": "2023-05-04T22:29:07.105Z"
   },
   {
    "duration": 16,
    "start_time": "2023-05-04T22:29:07.117Z"
   },
   {
    "duration": 4,
    "start_time": "2023-05-04T22:29:07.134Z"
   },
   {
    "duration": 9,
    "start_time": "2023-05-04T22:29:07.139Z"
   },
   {
    "duration": 24,
    "start_time": "2023-05-04T22:29:07.149Z"
   },
   {
    "duration": 30,
    "start_time": "2023-05-04T22:29:07.175Z"
   },
   {
    "duration": 4,
    "start_time": "2023-05-04T22:29:07.207Z"
   },
   {
    "duration": 474,
    "start_time": "2023-05-04T22:29:07.213Z"
   },
   {
    "duration": 13,
    "start_time": "2023-05-04T22:29:07.692Z"
   },
   {
    "duration": 15,
    "start_time": "2023-05-04T22:29:07.706Z"
   },
   {
    "duration": 301,
    "start_time": "2023-05-04T22:29:07.723Z"
   },
   {
    "duration": 7,
    "start_time": "2023-05-04T22:29:08.026Z"
   },
   {
    "duration": 8,
    "start_time": "2023-05-04T22:29:08.035Z"
   },
   {
    "duration": 14,
    "start_time": "2023-05-04T22:29:08.045Z"
   },
   {
    "duration": 18,
    "start_time": "2023-05-04T22:29:08.061Z"
   },
   {
    "duration": 350,
    "start_time": "2023-05-04T22:29:08.084Z"
   },
   {
    "duration": 363,
    "start_time": "2023-05-04T22:29:08.436Z"
   },
   {
    "duration": 292,
    "start_time": "2023-05-04T22:29:08.801Z"
   },
   {
    "duration": 207,
    "start_time": "2023-05-04T22:29:09.095Z"
   },
   {
    "duration": 391,
    "start_time": "2023-05-04T22:29:09.303Z"
   },
   {
    "duration": 9,
    "start_time": "2023-05-04T22:29:09.696Z"
   },
   {
    "duration": 176,
    "start_time": "2023-05-04T22:29:09.706Z"
   },
   {
    "duration": 234,
    "start_time": "2023-05-04T22:29:09.884Z"
   },
   {
    "duration": 8,
    "start_time": "2023-05-04T22:29:10.119Z"
   },
   {
    "duration": 159,
    "start_time": "2023-05-04T22:29:10.128Z"
   },
   {
    "duration": 153,
    "start_time": "2023-05-04T22:29:10.288Z"
   },
   {
    "duration": 10,
    "start_time": "2023-05-04T22:29:10.442Z"
   },
   {
    "duration": 448,
    "start_time": "2023-05-04T22:29:10.453Z"
   },
   {
    "duration": 226,
    "start_time": "2023-05-04T22:29:10.902Z"
   },
   {
    "duration": 98,
    "start_time": "2023-05-04T22:29:11.130Z"
   },
   {
    "duration": 67,
    "start_time": "2023-05-04T22:29:11.229Z"
   },
   {
    "duration": 10,
    "start_time": "2023-05-04T22:29:11.298Z"
   },
   {
    "duration": 8,
    "start_time": "2023-05-04T22:29:11.309Z"
   },
   {
    "duration": 104,
    "start_time": "2023-05-04T22:29:11.319Z"
   },
   {
    "duration": 74,
    "start_time": "2023-05-04T22:29:11.424Z"
   },
   {
    "duration": 1057,
    "start_time": "2023-05-04T22:39:03.571Z"
   },
   {
    "duration": 110,
    "start_time": "2023-05-04T22:39:04.630Z"
   },
   {
    "duration": 50,
    "start_time": "2023-05-04T22:39:04.741Z"
   },
   {
    "duration": 4,
    "start_time": "2023-05-04T22:39:04.794Z"
   },
   {
    "duration": 7,
    "start_time": "2023-05-04T22:39:04.800Z"
   },
   {
    "duration": 10,
    "start_time": "2023-05-04T22:39:04.809Z"
   },
   {
    "duration": 11,
    "start_time": "2023-05-04T22:39:04.821Z"
   },
   {
    "duration": 3,
    "start_time": "2023-05-04T22:39:04.834Z"
   },
   {
    "duration": 8,
    "start_time": "2023-05-04T22:39:04.839Z"
   },
   {
    "duration": 9,
    "start_time": "2023-05-04T22:39:04.850Z"
   },
   {
    "duration": 12,
    "start_time": "2023-05-04T22:39:04.886Z"
   },
   {
    "duration": 4,
    "start_time": "2023-05-04T22:39:04.900Z"
   },
   {
    "duration": 458,
    "start_time": "2023-05-04T22:39:04.905Z"
   },
   {
    "duration": 12,
    "start_time": "2023-05-04T22:39:05.364Z"
   },
   {
    "duration": 30,
    "start_time": "2023-05-04T22:39:05.386Z"
   },
   {
    "duration": 273,
    "start_time": "2023-05-04T22:39:05.418Z"
   },
   {
    "duration": 6,
    "start_time": "2023-05-04T22:39:05.693Z"
   },
   {
    "duration": 26,
    "start_time": "2023-05-04T22:39:05.701Z"
   },
   {
    "duration": 12,
    "start_time": "2023-05-04T22:39:05.728Z"
   },
   {
    "duration": 8,
    "start_time": "2023-05-04T22:39:05.741Z"
   },
   {
    "duration": 323,
    "start_time": "2023-05-04T22:39:05.751Z"
   },
   {
    "duration": 344,
    "start_time": "2023-05-04T22:39:06.075Z"
   },
   {
    "duration": 286,
    "start_time": "2023-05-04T22:39:06.421Z"
   },
   {
    "duration": 209,
    "start_time": "2023-05-04T22:39:06.709Z"
   },
   {
    "duration": 385,
    "start_time": "2023-05-04T22:39:06.920Z"
   },
   {
    "duration": 8,
    "start_time": "2023-05-04T22:39:07.307Z"
   },
   {
    "duration": 177,
    "start_time": "2023-05-04T22:39:07.317Z"
   },
   {
    "duration": 240,
    "start_time": "2023-05-04T22:39:07.498Z"
   },
   {
    "duration": 8,
    "start_time": "2023-05-04T22:39:07.741Z"
   },
   {
    "duration": 163,
    "start_time": "2023-05-04T22:39:07.751Z"
   },
   {
    "duration": 149,
    "start_time": "2023-05-04T22:39:07.916Z"
   },
   {
    "duration": 19,
    "start_time": "2023-05-04T22:39:08.067Z"
   },
   {
    "duration": 239,
    "start_time": "2023-05-04T22:39:08.087Z"
   },
   {
    "duration": 133,
    "start_time": "2023-05-04T22:39:08.328Z"
   },
   {
    "duration": 56,
    "start_time": "2023-05-04T22:39:08.463Z"
   },
   {
    "duration": 14,
    "start_time": "2023-05-04T22:39:08.521Z"
   },
   {
    "duration": 10,
    "start_time": "2023-05-04T22:39:08.536Z"
   },
   {
    "duration": 7,
    "start_time": "2023-05-04T22:39:08.548Z"
   },
   {
    "duration": 69,
    "start_time": "2023-05-04T22:39:08.556Z"
   },
   {
    "duration": 18,
    "start_time": "2023-05-04T22:39:08.627Z"
   },
   {
    "duration": 1131,
    "start_time": "2023-05-05T10:07:11.851Z"
   },
   {
    "duration": 254,
    "start_time": "2023-05-05T10:07:12.984Z"
   },
   {
    "duration": 54,
    "start_time": "2023-05-05T10:07:13.240Z"
   },
   {
    "duration": 4,
    "start_time": "2023-05-05T10:07:13.296Z"
   },
   {
    "duration": 12,
    "start_time": "2023-05-05T10:07:13.302Z"
   },
   {
    "duration": 16,
    "start_time": "2023-05-05T10:07:13.316Z"
   },
   {
    "duration": 15,
    "start_time": "2023-05-05T10:07:13.356Z"
   },
   {
    "duration": 11,
    "start_time": "2023-05-05T10:07:13.373Z"
   },
   {
    "duration": 14,
    "start_time": "2023-05-05T10:07:13.385Z"
   },
   {
    "duration": 7,
    "start_time": "2023-05-05T10:07:13.402Z"
   },
   {
    "duration": 35,
    "start_time": "2023-05-05T10:07:13.410Z"
   },
   {
    "duration": 5,
    "start_time": "2023-05-05T10:07:13.447Z"
   },
   {
    "duration": 502,
    "start_time": "2023-05-05T10:07:13.456Z"
   },
   {
    "duration": 15,
    "start_time": "2023-05-05T10:07:13.961Z"
   },
   {
    "duration": 21,
    "start_time": "2023-05-05T10:07:13.978Z"
   },
   {
    "duration": 367,
    "start_time": "2023-05-05T10:07:14.001Z"
   },
   {
    "duration": 7,
    "start_time": "2023-05-05T10:07:14.370Z"
   },
   {
    "duration": 5,
    "start_time": "2023-05-05T10:07:14.379Z"
   },
   {
    "duration": 16,
    "start_time": "2023-05-05T10:07:14.386Z"
   },
   {
    "duration": 390,
    "start_time": "2023-05-05T10:07:14.404Z"
   },
   {
    "duration": 404,
    "start_time": "2023-05-05T10:07:14.796Z"
   },
   {
    "duration": 364,
    "start_time": "2023-05-05T10:07:15.202Z"
   },
   {
    "duration": 232,
    "start_time": "2023-05-05T10:07:15.568Z"
   },
   {
    "duration": 412,
    "start_time": "2023-05-05T10:07:15.802Z"
   },
   {
    "duration": 10,
    "start_time": "2023-05-05T10:07:16.216Z"
   },
   {
    "duration": 187,
    "start_time": "2023-05-05T10:07:16.228Z"
   },
   {
    "duration": 255,
    "start_time": "2023-05-05T10:07:16.417Z"
   },
   {
    "duration": 11,
    "start_time": "2023-05-05T10:07:16.675Z"
   },
   {
    "duration": 176,
    "start_time": "2023-05-05T10:07:16.688Z"
   },
   {
    "duration": 165,
    "start_time": "2023-05-05T10:07:16.867Z"
   },
   {
    "duration": 11,
    "start_time": "2023-05-05T10:07:17.034Z"
   },
   {
    "duration": 250,
    "start_time": "2023-05-05T10:07:17.048Z"
   },
   {
    "duration": 130,
    "start_time": "2023-05-05T10:07:17.300Z"
   },
   {
    "duration": 56,
    "start_time": "2023-05-05T10:07:17.432Z"
   },
   {
    "duration": 17,
    "start_time": "2023-05-05T10:07:17.490Z"
   },
   {
    "duration": 13,
    "start_time": "2023-05-05T10:07:17.509Z"
   },
   {
    "duration": 35,
    "start_time": "2023-05-05T10:07:17.524Z"
   },
   {
    "duration": 44,
    "start_time": "2023-05-05T10:07:17.560Z"
   },
   {
    "duration": 21,
    "start_time": "2023-05-05T10:07:17.606Z"
   }
  ],
  "kernelspec": {
   "display_name": "Python 3 (ipykernel)",
   "language": "python",
   "name": "python3"
  },
  "language_info": {
   "codemirror_mode": {
    "name": "ipython",
    "version": 3
   },
   "file_extension": ".py",
   "mimetype": "text/x-python",
   "name": "python",
   "nbconvert_exporter": "python",
   "pygments_lexer": "ipython3",
   "version": "3.9.13"
  },
  "toc": {
   "base_numbering": 1,
   "nav_menu": {},
   "number_sections": true,
   "sideBar": true,
   "skip_h1_title": true,
   "title_cell": "Table of Contents",
   "title_sidebar": "Contents",
   "toc_cell": false,
   "toc_position": {
    "height": "calc(100% - 180px)",
    "left": "10px",
    "top": "150px",
    "width": "165px"
   },
   "toc_section_display": true,
   "toc_window_display": true
  }
 },
 "nbformat": 4,
 "nbformat_minor": 2
}
